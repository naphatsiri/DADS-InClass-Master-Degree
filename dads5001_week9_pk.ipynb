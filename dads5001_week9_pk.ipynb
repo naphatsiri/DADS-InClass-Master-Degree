{
  "nbformat": 4,
  "nbformat_minor": 0,
  "metadata": {
    "colab": {
      "provenance": [],
      "include_colab_link": true
    },
    "kernelspec": {
      "name": "python3",
      "display_name": "Python 3"
    },
    "language_info": {
      "name": "python"
    }
  },
  "cells": [
    {
      "cell_type": "markdown",
      "metadata": {
        "id": "view-in-github",
        "colab_type": "text"
      },
      "source": [
        "<a href=\"https://colab.research.google.com/github/naphatsiri/DADS-Master-Degree/blob/main/dads5001_week9_pk.ipynb\" target=\"_parent\"><img src=\"https://colab.research.google.com/assets/colab-badge.svg\" alt=\"Open In Colab\"/></a>"
      ]
    },
    {
      "cell_type": "markdown",
      "source": [
        "#Week9"
      ],
      "metadata": {
        "id": "VQqOyypPeHNU"
      }
    },
    {
      "cell_type": "markdown",
      "source": [
        "https://colab.research.google.com/drive/1u9UtBFgnJKxroV3h7XJw7JxbPaGuHGlL?usp=sharing"
      ],
      "metadata": {
        "id": "074xRN2agn-H"
      }
    },
    {
      "cell_type": "markdown",
      "source": [
        "Reference\n",
        "- https://pbpython.com/plotly-look.html\n",
        "- https://www.kaggle.com/crawford/80-cereals >> data set\n",
        "- http://seaborn.pydata.org/examples/index.html\n"
      ],
      "metadata": {
        "id": "gFJ-tFyegOe4"
      }
    },
    {
      "cell_type": "code",
      "execution_count": null,
      "metadata": {
        "colab": {
          "base_uri": "https://localhost:8080/",
          "height": 206
        },
        "id": "Vc6lXCuXfMJF",
        "outputId": "79778860-a681-4cc7-d85b-c75c6192749c"
      },
      "outputs": [
        {
          "output_type": "execute_result",
          "data": {
            "text/plain": [
              "                        name             mfr  type  calories  protein  fat  \\\n",
              "0                  100% Bran         Nabisco  Cold        70        4    1   \n",
              "1          100% Natural Bran     Quaker Oats  Cold       120        3    5   \n",
              "2                   All-Bran         Kellogs  Cold        70        4    1   \n",
              "3  All-Bran with Extra Fiber         Kellogs  Cold        50        4    0   \n",
              "4             Almond Delight  Ralston Purina  Cold       110        2    2   \n",
              "\n",
              "   sodium  fiber  carbo  sugars  potass  vitamins shelf  weight  cups  rating  \\\n",
              "0     130   10.0    5.0       6     280        25   Top     1.0  0.33   68.40   \n",
              "1      15    2.0    8.0       8     135         0   Top     1.0  1.00   33.98   \n",
              "2     260    9.0    7.0       5     320        25   Top     1.0  0.33   59.43   \n",
              "3     140   14.0    8.0       0     330        25   Top     1.0  0.50   93.70   \n",
              "4     200    1.0   14.0       8      -1        25   Top     1.0  0.75   34.38   \n",
              "\n",
              "   cereal  \n",
              "0       1  \n",
              "1       1  \n",
              "2       1  \n",
              "3       1  \n",
              "4       1  "
            ],
            "text/html": [
              "\n",
              "  <div id=\"df-0d3f18c4-1301-47d7-a136-e6cabb48a1dd\" class=\"colab-df-container\">\n",
              "    <div>\n",
              "<style scoped>\n",
              "    .dataframe tbody tr th:only-of-type {\n",
              "        vertical-align: middle;\n",
              "    }\n",
              "\n",
              "    .dataframe tbody tr th {\n",
              "        vertical-align: top;\n",
              "    }\n",
              "\n",
              "    .dataframe thead th {\n",
              "        text-align: right;\n",
              "    }\n",
              "</style>\n",
              "<table border=\"1\" class=\"dataframe\">\n",
              "  <thead>\n",
              "    <tr style=\"text-align: right;\">\n",
              "      <th></th>\n",
              "      <th>name</th>\n",
              "      <th>mfr</th>\n",
              "      <th>type</th>\n",
              "      <th>calories</th>\n",
              "      <th>protein</th>\n",
              "      <th>fat</th>\n",
              "      <th>sodium</th>\n",
              "      <th>fiber</th>\n",
              "      <th>carbo</th>\n",
              "      <th>sugars</th>\n",
              "      <th>potass</th>\n",
              "      <th>vitamins</th>\n",
              "      <th>shelf</th>\n",
              "      <th>weight</th>\n",
              "      <th>cups</th>\n",
              "      <th>rating</th>\n",
              "      <th>cereal</th>\n",
              "    </tr>\n",
              "  </thead>\n",
              "  <tbody>\n",
              "    <tr>\n",
              "      <th>0</th>\n",
              "      <td>100% Bran</td>\n",
              "      <td>Nabisco</td>\n",
              "      <td>Cold</td>\n",
              "      <td>70</td>\n",
              "      <td>4</td>\n",
              "      <td>1</td>\n",
              "      <td>130</td>\n",
              "      <td>10.0</td>\n",
              "      <td>5.0</td>\n",
              "      <td>6</td>\n",
              "      <td>280</td>\n",
              "      <td>25</td>\n",
              "      <td>Top</td>\n",
              "      <td>1.0</td>\n",
              "      <td>0.33</td>\n",
              "      <td>68.40</td>\n",
              "      <td>1</td>\n",
              "    </tr>\n",
              "    <tr>\n",
              "      <th>1</th>\n",
              "      <td>100% Natural Bran</td>\n",
              "      <td>Quaker Oats</td>\n",
              "      <td>Cold</td>\n",
              "      <td>120</td>\n",
              "      <td>3</td>\n",
              "      <td>5</td>\n",
              "      <td>15</td>\n",
              "      <td>2.0</td>\n",
              "      <td>8.0</td>\n",
              "      <td>8</td>\n",
              "      <td>135</td>\n",
              "      <td>0</td>\n",
              "      <td>Top</td>\n",
              "      <td>1.0</td>\n",
              "      <td>1.00</td>\n",
              "      <td>33.98</td>\n",
              "      <td>1</td>\n",
              "    </tr>\n",
              "    <tr>\n",
              "      <th>2</th>\n",
              "      <td>All-Bran</td>\n",
              "      <td>Kellogs</td>\n",
              "      <td>Cold</td>\n",
              "      <td>70</td>\n",
              "      <td>4</td>\n",
              "      <td>1</td>\n",
              "      <td>260</td>\n",
              "      <td>9.0</td>\n",
              "      <td>7.0</td>\n",
              "      <td>5</td>\n",
              "      <td>320</td>\n",
              "      <td>25</td>\n",
              "      <td>Top</td>\n",
              "      <td>1.0</td>\n",
              "      <td>0.33</td>\n",
              "      <td>59.43</td>\n",
              "      <td>1</td>\n",
              "    </tr>\n",
              "    <tr>\n",
              "      <th>3</th>\n",
              "      <td>All-Bran with Extra Fiber</td>\n",
              "      <td>Kellogs</td>\n",
              "      <td>Cold</td>\n",
              "      <td>50</td>\n",
              "      <td>4</td>\n",
              "      <td>0</td>\n",
              "      <td>140</td>\n",
              "      <td>14.0</td>\n",
              "      <td>8.0</td>\n",
              "      <td>0</td>\n",
              "      <td>330</td>\n",
              "      <td>25</td>\n",
              "      <td>Top</td>\n",
              "      <td>1.0</td>\n",
              "      <td>0.50</td>\n",
              "      <td>93.70</td>\n",
              "      <td>1</td>\n",
              "    </tr>\n",
              "    <tr>\n",
              "      <th>4</th>\n",
              "      <td>Almond Delight</td>\n",
              "      <td>Ralston Purina</td>\n",
              "      <td>Cold</td>\n",
              "      <td>110</td>\n",
              "      <td>2</td>\n",
              "      <td>2</td>\n",
              "      <td>200</td>\n",
              "      <td>1.0</td>\n",
              "      <td>14.0</td>\n",
              "      <td>8</td>\n",
              "      <td>-1</td>\n",
              "      <td>25</td>\n",
              "      <td>Top</td>\n",
              "      <td>1.0</td>\n",
              "      <td>0.75</td>\n",
              "      <td>34.38</td>\n",
              "      <td>1</td>\n",
              "    </tr>\n",
              "  </tbody>\n",
              "</table>\n",
              "</div>\n",
              "    <div class=\"colab-df-buttons\">\n",
              "\n",
              "  <div class=\"colab-df-container\">\n",
              "    <button class=\"colab-df-convert\" onclick=\"convertToInteractive('df-0d3f18c4-1301-47d7-a136-e6cabb48a1dd')\"\n",
              "            title=\"Convert this dataframe to an interactive table.\"\n",
              "            style=\"display:none;\">\n",
              "\n",
              "  <svg xmlns=\"http://www.w3.org/2000/svg\" height=\"24px\" viewBox=\"0 -960 960 960\">\n",
              "    <path d=\"M120-120v-720h720v720H120Zm60-500h600v-160H180v160Zm220 220h160v-160H400v160Zm0 220h160v-160H400v160ZM180-400h160v-160H180v160Zm440 0h160v-160H620v160ZM180-180h160v-160H180v160Zm440 0h160v-160H620v160Z\"/>\n",
              "  </svg>\n",
              "    </button>\n",
              "\n",
              "  <style>\n",
              "    .colab-df-container {\n",
              "      display:flex;\n",
              "      gap: 12px;\n",
              "    }\n",
              "\n",
              "    .colab-df-convert {\n",
              "      background-color: #E8F0FE;\n",
              "      border: none;\n",
              "      border-radius: 50%;\n",
              "      cursor: pointer;\n",
              "      display: none;\n",
              "      fill: #1967D2;\n",
              "      height: 32px;\n",
              "      padding: 0 0 0 0;\n",
              "      width: 32px;\n",
              "    }\n",
              "\n",
              "    .colab-df-convert:hover {\n",
              "      background-color: #E2EBFA;\n",
              "      box-shadow: 0px 1px 2px rgba(60, 64, 67, 0.3), 0px 1px 3px 1px rgba(60, 64, 67, 0.15);\n",
              "      fill: #174EA6;\n",
              "    }\n",
              "\n",
              "    .colab-df-buttons div {\n",
              "      margin-bottom: 4px;\n",
              "    }\n",
              "\n",
              "    [theme=dark] .colab-df-convert {\n",
              "      background-color: #3B4455;\n",
              "      fill: #D2E3FC;\n",
              "    }\n",
              "\n",
              "    [theme=dark] .colab-df-convert:hover {\n",
              "      background-color: #434B5C;\n",
              "      box-shadow: 0px 1px 3px 1px rgba(0, 0, 0, 0.15);\n",
              "      filter: drop-shadow(0px 1px 2px rgba(0, 0, 0, 0.3));\n",
              "      fill: #FFFFFF;\n",
              "    }\n",
              "  </style>\n",
              "\n",
              "    <script>\n",
              "      const buttonEl =\n",
              "        document.querySelector('#df-0d3f18c4-1301-47d7-a136-e6cabb48a1dd button.colab-df-convert');\n",
              "      buttonEl.style.display =\n",
              "        google.colab.kernel.accessAllowed ? 'block' : 'none';\n",
              "\n",
              "      async function convertToInteractive(key) {\n",
              "        const element = document.querySelector('#df-0d3f18c4-1301-47d7-a136-e6cabb48a1dd');\n",
              "        const dataTable =\n",
              "          await google.colab.kernel.invokeFunction('convertToInteractive',\n",
              "                                                    [key], {});\n",
              "        if (!dataTable) return;\n",
              "\n",
              "        const docLinkHtml = 'Like what you see? Visit the ' +\n",
              "          '<a target=\"_blank\" href=https://colab.research.google.com/notebooks/data_table.ipynb>data table notebook</a>'\n",
              "          + ' to learn more about interactive tables.';\n",
              "        element.innerHTML = '';\n",
              "        dataTable['output_type'] = 'display_data';\n",
              "        await google.colab.output.renderOutput(dataTable, element);\n",
              "        const docLink = document.createElement('div');\n",
              "        docLink.innerHTML = docLinkHtml;\n",
              "        element.appendChild(docLink);\n",
              "      }\n",
              "    </script>\n",
              "  </div>\n",
              "\n",
              "\n",
              "<div id=\"df-b7a1aca4-cc9d-4668-9677-a5def313ce9d\">\n",
              "  <button class=\"colab-df-quickchart\" onclick=\"quickchart('df-b7a1aca4-cc9d-4668-9677-a5def313ce9d')\"\n",
              "            title=\"Suggest charts\"\n",
              "            style=\"display:none;\">\n",
              "\n",
              "<svg xmlns=\"http://www.w3.org/2000/svg\" height=\"24px\"viewBox=\"0 0 24 24\"\n",
              "     width=\"24px\">\n",
              "    <g>\n",
              "        <path d=\"M19 3H5c-1.1 0-2 .9-2 2v14c0 1.1.9 2 2 2h14c1.1 0 2-.9 2-2V5c0-1.1-.9-2-2-2zM9 17H7v-7h2v7zm4 0h-2V7h2v10zm4 0h-2v-4h2v4z\"/>\n",
              "    </g>\n",
              "</svg>\n",
              "  </button>\n",
              "\n",
              "<style>\n",
              "  .colab-df-quickchart {\n",
              "      --bg-color: #E8F0FE;\n",
              "      --fill-color: #1967D2;\n",
              "      --hover-bg-color: #E2EBFA;\n",
              "      --hover-fill-color: #174EA6;\n",
              "      --disabled-fill-color: #AAA;\n",
              "      --disabled-bg-color: #DDD;\n",
              "  }\n",
              "\n",
              "  [theme=dark] .colab-df-quickchart {\n",
              "      --bg-color: #3B4455;\n",
              "      --fill-color: #D2E3FC;\n",
              "      --hover-bg-color: #434B5C;\n",
              "      --hover-fill-color: #FFFFFF;\n",
              "      --disabled-bg-color: #3B4455;\n",
              "      --disabled-fill-color: #666;\n",
              "  }\n",
              "\n",
              "  .colab-df-quickchart {\n",
              "    background-color: var(--bg-color);\n",
              "    border: none;\n",
              "    border-radius: 50%;\n",
              "    cursor: pointer;\n",
              "    display: none;\n",
              "    fill: var(--fill-color);\n",
              "    height: 32px;\n",
              "    padding: 0;\n",
              "    width: 32px;\n",
              "  }\n",
              "\n",
              "  .colab-df-quickchart:hover {\n",
              "    background-color: var(--hover-bg-color);\n",
              "    box-shadow: 0 1px 2px rgba(60, 64, 67, 0.3), 0 1px 3px 1px rgba(60, 64, 67, 0.15);\n",
              "    fill: var(--button-hover-fill-color);\n",
              "  }\n",
              "\n",
              "  .colab-df-quickchart-complete:disabled,\n",
              "  .colab-df-quickchart-complete:disabled:hover {\n",
              "    background-color: var(--disabled-bg-color);\n",
              "    fill: var(--disabled-fill-color);\n",
              "    box-shadow: none;\n",
              "  }\n",
              "\n",
              "  .colab-df-spinner {\n",
              "    border: 2px solid var(--fill-color);\n",
              "    border-color: transparent;\n",
              "    border-bottom-color: var(--fill-color);\n",
              "    animation:\n",
              "      spin 1s steps(1) infinite;\n",
              "  }\n",
              "\n",
              "  @keyframes spin {\n",
              "    0% {\n",
              "      border-color: transparent;\n",
              "      border-bottom-color: var(--fill-color);\n",
              "      border-left-color: var(--fill-color);\n",
              "    }\n",
              "    20% {\n",
              "      border-color: transparent;\n",
              "      border-left-color: var(--fill-color);\n",
              "      border-top-color: var(--fill-color);\n",
              "    }\n",
              "    30% {\n",
              "      border-color: transparent;\n",
              "      border-left-color: var(--fill-color);\n",
              "      border-top-color: var(--fill-color);\n",
              "      border-right-color: var(--fill-color);\n",
              "    }\n",
              "    40% {\n",
              "      border-color: transparent;\n",
              "      border-right-color: var(--fill-color);\n",
              "      border-top-color: var(--fill-color);\n",
              "    }\n",
              "    60% {\n",
              "      border-color: transparent;\n",
              "      border-right-color: var(--fill-color);\n",
              "    }\n",
              "    80% {\n",
              "      border-color: transparent;\n",
              "      border-right-color: var(--fill-color);\n",
              "      border-bottom-color: var(--fill-color);\n",
              "    }\n",
              "    90% {\n",
              "      border-color: transparent;\n",
              "      border-bottom-color: var(--fill-color);\n",
              "    }\n",
              "  }\n",
              "</style>\n",
              "\n",
              "  <script>\n",
              "    async function quickchart(key) {\n",
              "      const quickchartButtonEl =\n",
              "        document.querySelector('#' + key + ' button');\n",
              "      quickchartButtonEl.disabled = true;  // To prevent multiple clicks.\n",
              "      quickchartButtonEl.classList.add('colab-df-spinner');\n",
              "      try {\n",
              "        const charts = await google.colab.kernel.invokeFunction(\n",
              "            'suggestCharts', [key], {});\n",
              "      } catch (error) {\n",
              "        console.error('Error during call to suggestCharts:', error);\n",
              "      }\n",
              "      quickchartButtonEl.classList.remove('colab-df-spinner');\n",
              "      quickchartButtonEl.classList.add('colab-df-quickchart-complete');\n",
              "    }\n",
              "    (() => {\n",
              "      let quickchartButtonEl =\n",
              "        document.querySelector('#df-b7a1aca4-cc9d-4668-9677-a5def313ce9d button');\n",
              "      quickchartButtonEl.style.display =\n",
              "        google.colab.kernel.accessAllowed ? 'block' : 'none';\n",
              "    })();\n",
              "  </script>\n",
              "</div>\n",
              "\n",
              "    </div>\n",
              "  </div>\n"
            ],
            "application/vnd.google.colaboratory.intrinsic+json": {
              "type": "dataframe",
              "variable_name": "df",
              "summary": "{\n  \"name\": \"df\",\n  \"rows\": 77,\n  \"fields\": [\n    {\n      \"column\": \"name\",\n      \"properties\": {\n        \"dtype\": \"string\",\n        \"num_unique_values\": 77,\n        \"samples\": [\n          \"Almond Delight\",\n          \"Honey Graham Ohs\",\n          \"Cap'n'Crunch\"\n        ],\n        \"semantic_type\": \"\",\n        \"description\": \"\"\n      }\n    },\n    {\n      \"column\": \"mfr\",\n      \"properties\": {\n        \"dtype\": \"category\",\n        \"num_unique_values\": 7,\n        \"samples\": [\n          \"Nabisco\",\n          \"Quaker Oats\",\n          \"Post\"\n        ],\n        \"semantic_type\": \"\",\n        \"description\": \"\"\n      }\n    },\n    {\n      \"column\": \"type\",\n      \"properties\": {\n        \"dtype\": \"category\",\n        \"num_unique_values\": 2,\n        \"samples\": [\n          \"Hot\",\n          \"Cold\"\n        ],\n        \"semantic_type\": \"\",\n        \"description\": \"\"\n      }\n    },\n    {\n      \"column\": \"calories\",\n      \"properties\": {\n        \"dtype\": \"number\",\n        \"std\": 19,\n        \"min\": 50,\n        \"max\": 160,\n        \"num_unique_values\": 11,\n        \"samples\": [\n          90,\n          70\n        ],\n        \"semantic_type\": \"\",\n        \"description\": \"\"\n      }\n    },\n    {\n      \"column\": \"protein\",\n      \"properties\": {\n        \"dtype\": \"number\",\n        \"std\": 1,\n        \"min\": 1,\n        \"max\": 6,\n        \"num_unique_values\": 6,\n        \"samples\": [\n          4,\n          3\n        ],\n        \"semantic_type\": \"\",\n        \"description\": \"\"\n      }\n    },\n    {\n      \"column\": \"fat\",\n      \"properties\": {\n        \"dtype\": \"number\",\n        \"std\": 1,\n        \"min\": 0,\n        \"max\": 5,\n        \"num_unique_values\": 5,\n        \"samples\": [\n          5,\n          3\n        ],\n        \"semantic_type\": \"\",\n        \"description\": \"\"\n      }\n    },\n    {\n      \"column\": \"sodium\",\n      \"properties\": {\n        \"dtype\": \"number\",\n        \"std\": 83,\n        \"min\": 0,\n        \"max\": 320,\n        \"num_unique_values\": 27,\n        \"samples\": [\n          220,\n          190\n        ],\n        \"semantic_type\": \"\",\n        \"description\": \"\"\n      }\n    },\n    {\n      \"column\": \"fiber\",\n      \"properties\": {\n        \"dtype\": \"number\",\n        \"std\": 2.3833639643872235,\n        \"min\": 0.0,\n        \"max\": 14.0,\n        \"num_unique_values\": 13,\n        \"samples\": [\n          2.7,\n          3.0\n        ],\n        \"semantic_type\": \"\",\n        \"description\": \"\"\n      }\n    },\n    {\n      \"column\": \"carbo\",\n      \"properties\": {\n        \"dtype\": \"number\",\n        \"std\": 4.278956280325909,\n        \"min\": -1.0,\n        \"max\": 23.0,\n        \"num_unique_values\": 22,\n        \"samples\": [\n          5.0,\n          10.0\n        ],\n        \"semantic_type\": \"\",\n        \"description\": \"\"\n      }\n    },\n    {\n      \"column\": \"sugars\",\n      \"properties\": {\n        \"dtype\": \"number\",\n        \"std\": 4,\n        \"min\": -1,\n        \"max\": 15,\n        \"num_unique_values\": 17,\n        \"samples\": [\n          6,\n          8\n        ],\n        \"semantic_type\": \"\",\n        \"description\": \"\"\n      }\n    },\n    {\n      \"column\": \"potass\",\n      \"properties\": {\n        \"dtype\": \"number\",\n        \"std\": 71,\n        \"min\": -1,\n        \"max\": 330,\n        \"num_unique_values\": 36,\n        \"samples\": [\n          115,\n          55\n        ],\n        \"semantic_type\": \"\",\n        \"description\": \"\"\n      }\n    },\n    {\n      \"column\": \"vitamins\",\n      \"properties\": {\n        \"dtype\": \"number\",\n        \"std\": 22,\n        \"min\": 0,\n        \"max\": 100,\n        \"num_unique_values\": 3,\n        \"samples\": [\n          25,\n          0\n        ],\n        \"semantic_type\": \"\",\n        \"description\": \"\"\n      }\n    },\n    {\n      \"column\": \"shelf\",\n      \"properties\": {\n        \"dtype\": \"category\",\n        \"num_unique_values\": 3,\n        \"samples\": [\n          \"Top\",\n          \"Bottom\"\n        ],\n        \"semantic_type\": \"\",\n        \"description\": \"\"\n      }\n    },\n    {\n      \"column\": \"weight\",\n      \"properties\": {\n        \"dtype\": \"number\",\n        \"std\": 0.15047679973689215,\n        \"min\": 0.5,\n        \"max\": 1.5,\n        \"num_unique_values\": 7,\n        \"samples\": [\n          1.0,\n          1.33\n        ],\n        \"semantic_type\": \"\",\n        \"description\": \"\"\n      }\n    },\n    {\n      \"column\": \"cups\",\n      \"properties\": {\n        \"dtype\": \"number\",\n        \"std\": 0.2327161384469139,\n        \"min\": 0.25,\n        \"max\": 1.5,\n        \"num_unique_values\": 12,\n        \"samples\": [\n          1.5,\n          1.33\n        ],\n        \"semantic_type\": \"\",\n        \"description\": \"\"\n      }\n    },\n    {\n      \"column\": \"rating\",\n      \"properties\": {\n        \"dtype\": \"number\",\n        \"std\": 14.047301443826326,\n        \"min\": 18.04,\n        \"max\": 93.7,\n        \"num_unique_values\": 77,\n        \"samples\": [\n          34.38,\n          21.87\n        ],\n        \"semantic_type\": \"\",\n        \"description\": \"\"\n      }\n    },\n    {\n      \"column\": \"cereal\",\n      \"properties\": {\n        \"dtype\": \"number\",\n        \"std\": 0,\n        \"min\": 1,\n        \"max\": 1,\n        \"num_unique_values\": 1,\n        \"samples\": [\n          1\n        ],\n        \"semantic_type\": \"\",\n        \"description\": \"\"\n      }\n    }\n  ]\n}"
            }
          },
          "metadata": {},
          "execution_count": 1
        }
      ],
      "source": [
        "import pandas as pd\n",
        "import plotly.express as px\n",
        "import seaborn as sns\n",
        "\n",
        "df = pd.read_csv('https://github.com/chris1610/pbpython/blob/master/data/cereal_data.csv?raw=True')\n",
        "df.head()"
      ]
    },
    {
      "cell_type": "code",
      "source": [
        "df.shape"
      ],
      "metadata": {
        "colab": {
          "base_uri": "https://localhost:8080/"
        },
        "id": "egemWxWbAGK-",
        "outputId": "4be773a6-9a9e-473e-cb43-ca1212baa10d"
      },
      "execution_count": null,
      "outputs": [
        {
          "output_type": "execute_result",
          "data": {
            "text/plain": [
              "(77, 17)"
            ]
          },
          "metadata": {},
          "execution_count": 12
        }
      ]
    },
    {
      "cell_type": "code",
      "source": [
        "df.info()"
      ],
      "metadata": {
        "colab": {
          "base_uri": "https://localhost:8080/"
        },
        "id": "YXTkRUjrqcGo",
        "outputId": "e1dbe050-89ad-4a9b-81b5-9d7c37a730e9"
      },
      "execution_count": null,
      "outputs": [
        {
          "output_type": "stream",
          "name": "stdout",
          "text": [
            "<class 'pandas.core.frame.DataFrame'>\n",
            "RangeIndex: 77 entries, 0 to 76\n",
            "Data columns (total 17 columns):\n",
            " #   Column    Non-Null Count  Dtype  \n",
            "---  ------    --------------  -----  \n",
            " 0   name      77 non-null     object \n",
            " 1   mfr       77 non-null     object \n",
            " 2   type      77 non-null     object \n",
            " 3   calories  77 non-null     int64  \n",
            " 4   protein   77 non-null     int64  \n",
            " 5   fat       77 non-null     int64  \n",
            " 6   sodium    77 non-null     int64  \n",
            " 7   fiber     77 non-null     float64\n",
            " 8   carbo     77 non-null     float64\n",
            " 9   sugars    77 non-null     int64  \n",
            " 10  potass    77 non-null     int64  \n",
            " 11  vitamins  77 non-null     int64  \n",
            " 12  shelf     77 non-null     object \n",
            " 13  weight    77 non-null     float64\n",
            " 14  cups      77 non-null     float64\n",
            " 15  rating    77 non-null     float64\n",
            " 16  cereal    77 non-null     int64  \n",
            "dtypes: float64(5), int64(8), object(4)\n",
            "memory usage: 10.4+ KB\n"
          ]
        }
      ]
    },
    {
      "cell_type": "code",
      "source": [
        "df['shelf'].unique()"
      ],
      "metadata": {
        "colab": {
          "base_uri": "https://localhost:8080/"
        },
        "id": "VcPn5lo-jhNX",
        "outputId": "71597a77-4d3b-4975-96d1-a3fec76e27ca"
      },
      "execution_count": null,
      "outputs": [
        {
          "output_type": "execute_result",
          "data": {
            "text/plain": [
              "array(['Top', 'Bottom', 'Middle'], dtype=object)"
            ]
          },
          "metadata": {},
          "execution_count": 14
        }
      ]
    },
    {
      "cell_type": "code",
      "source": [
        "fig = px.scatter(df,\n",
        "                x='sugars',\n",
        "                y='rating',\n",
        "                color='shelf',\n",
        "                size='cups',\n",
        "                hover_data='calories',\n",
        "                #hover_name='name',\n",
        "                hover_name= df['name'].astype(str)+\" \"+df['mfr'].astype(str),\n",
        "                title='Cereal_ratingsvs.sugars')\n",
        "fig.show()"
      ],
      "metadata": {
        "colab": {
          "base_uri": "https://localhost:8080/",
          "height": 542
        },
        "id": "deXHuGcOgSrt",
        "outputId": "78e96d1e-54ab-45f3-8049-0082966232a7"
      },
      "execution_count": null,
      "outputs": [
        {
          "output_type": "display_data",
          "data": {
            "text/html": [
              "<html>\n",
              "<head><meta charset=\"utf-8\" /></head>\n",
              "<body>\n",
              "    <div>            <script src=\"https://cdnjs.cloudflare.com/ajax/libs/mathjax/2.7.5/MathJax.js?config=TeX-AMS-MML_SVG\"></script><script type=\"text/javascript\">if (window.MathJax && window.MathJax.Hub && window.MathJax.Hub.Config) {window.MathJax.Hub.Config({SVG: {font: \"STIX-Web\"}});}</script>                <script type=\"text/javascript\">window.PlotlyConfig = {MathJaxConfig: 'local'};</script>\n",
              "        <script charset=\"utf-8\" src=\"https://cdn.plot.ly/plotly-2.35.2.min.js\"></script>                <div id=\"1962d49f-a593-48b1-8aac-755c906d4663\" class=\"plotly-graph-div\" style=\"height:525px; width:100%;\"></div>            <script type=\"text/javascript\">                                    window.PLOTLYENV=window.PLOTLYENV || {};                                    if (document.getElementById(\"1962d49f-a593-48b1-8aac-755c906d4663\")) {                    Plotly.newPlot(                        \"1962d49f-a593-48b1-8aac-755c906d4663\",                        [{\"customdata\":[[70],[120],[70],[50],[110],[130],[90],[110],[110],[110],[100],[100],[120],[120],[100],[110],[120],[110],[140],[150],[150],[160],[140],[90],[130],[120],[100],[50],[50],[100],[100],[90],[110],[140],[100],[110]],\"hovertemplate\":\"\\u003cb\\u003e%{hovertext}\\u003c\\u002fb\\u003e\\u003cbr\\u003e\\u003cbr\\u003eshelf=Top\\u003cbr\\u003esugars=%{x}\\u003cbr\\u003erating=%{y}\\u003cbr\\u003ecups=%{marker.size}\\u003cbr\\u003ecalories=%{customdata[0]}\\u003cextra\\u003e\\u003c\\u002fextra\\u003e\",\"hovertext\":[\"100% Bran Nabisco\",\"100% Natural Bran Quaker Oats\",\"All-Bran Kellogs\",\"All-Bran with Extra Fiber Kellogs\",\"Almond Delight Ralston Purina\",\"Basic 4 General Mills\",\"Bran Flakes Post\",\"Clusters General Mills\",\"Cracklin' Oat Bran Kellogs\",\"Crispix Kellogs\",\"Crispy Wheat & Raisins General Mills\",\"Double Chex Ralston Purina\",\"Fruit & Fibre Dates, Walnuts, and Oats Post\",\"Fruitful Bran Kellogs\",\"Grape Nuts Flakes Post\",\"Grape-Nuts Post\",\"Great Grains Pecan Post\",\"Just Right Crunchy  Nuggets Kellogs\",\"Just Right Fruit & Nut Kellogs\",\"Muesli Raisins, Dates, & Almonds Ralston Purina\",\"Muesli Raisins, Peaches, & Pecans Ralston Purina\",\"Mueslix Crispy Blend Kellogs\",\"Nutri-Grain Almond-Raisin Kellogs\",\"Nutri-grain Wheat Kellogs\",\"Oatmeal Raisin Crisp General Mills\",\"Post Nat. Raisin Bran Post\",\"Product 19 Kellogs\",\"Puffed Rice Quaker Oats\",\"Puffed Wheat Quaker Oats\",\"Quaker Oat Squares Quaker Oats\",\"Raisin Nut Bran General Mills\",\"Raisin Squares Kellogs\",\"Total Corn Flakes General Mills\",\"Total Raisin Bran General Mills\",\"Total Whole Grain General Mills\",\"Triples General Mills\"],\"legendgroup\":\"Top\",\"marker\":{\"color\":\"#636efa\",\"size\":[0.33,1.0,0.33,0.5,0.75,0.75,0.67,0.5,0.5,1.0,0.75,0.75,0.67,0.67,0.88,0.25,0.33,1.0,0.75,1.0,1.0,0.67,0.67,1.0,0.5,0.67,1.0,1.0,1.0,0.5,0.5,0.5,1.0,1.0,1.0,0.75],\"sizemode\":\"area\",\"sizeref\":0.00375,\"symbol\":\"circle\"},\"mode\":\"markers\",\"name\":\"Top\",\"orientation\":\"v\",\"showlegend\":true,\"x\":[6,8,5,0,8,8,5,7,7,3,10,5,10,12,5,3,4,6,9,11,11,13,7,2,10,14,3,0,0,6,8,6,3,14,3,3],\"xaxis\":\"x\",\"y\":[68.4,33.98,59.43,93.7,34.38,37.04,53.31,40.4,40.45,46.9,36.18,44.33,40.92,41.02,52.08,53.37,45.81,36.52,36.47,37.14,34.14,30.31,40.69,59.64,30.45,37.84,41.5,60.76,63.01,49.51,39.7,55.33,38.84,28.59,46.66,39.11],\"yaxis\":\"y\",\"type\":\"scatter\"},{\"customdata\":[[110],[90],[110],[110],[100],[110],[100],[110],[110],[100],[100],[110],[110],[80],[90],[90],[110],[100],[100],[110]],\"hovertemplate\":\"\\u003cb\\u003e%{hovertext}\\u003c\\u002fb\\u003e\\u003cbr\\u003e\\u003cbr\\u003eshelf=Bottom\\u003cbr\\u003esugars=%{x}\\u003cbr\\u003erating=%{y}\\u003cbr\\u003ecups=%{marker.size}\\u003cbr\\u003ecalories=%{customdata[0]}\\u003cextra\\u003e\\u003c\\u002fextra\\u003e\",\"hovertext\":[\"Apple Cinnamon Cheerios General Mills\",\"Bran Chex Ralston Purina\",\"Cheerios General Mills\",\"Corn Chex Ralston Purina\",\"Corn Flakes Kellogs\",\"Frosted Flakes Kellogs\",\"Golden Crisp Post\",\"Honey Nut Cheerios General Mills\",\"Honey-comb Post\",\"Multi-Grain Cheerios General Mills\",\"Quaker Oatmeal Quaker Oats\",\"Rice Chex Ralston Purina\",\"Rice Krispies Kellogs\",\"Shredded Wheat Nabisco\",\"Shredded Wheat 'n'Bran Nabisco\",\"Shredded Wheat spoon size Nabisco\",\"Special K Kellogs\",\"Wheat Chex Ralston Purina\",\"Wheaties General Mills\",\"Wheaties Honey Gold General Mills\"],\"legendgroup\":\"Bottom\",\"marker\":{\"color\":\"#EF553B\",\"size\":[0.75,0.67,1.25,1.0,1.0,0.75,0.88,0.75,1.33,1.0,0.67,1.13,1.0,1.0,0.67,0.67,1.0,0.67,1.0,0.75],\"sizemode\":\"area\",\"sizeref\":0.00375,\"symbol\":\"circle\"},\"mode\":\"markers\",\"name\":\"Bottom\",\"orientation\":\"v\",\"showlegend\":true,\"x\":[10,6,1,3,2,11,15,10,11,6,-1,2,3,0,0,0,3,3,3,8],\"xaxis\":\"x\",\"y\":[29.51,49.12,50.76,41.45,45.86,31.44,35.25,31.07,28.74,40.11,50.83,42.0,40.56,68.24,74.47,72.8,53.13,49.79,51.59,36.19],\"yaxis\":\"y\",\"type\":\"scatter\"},{\"customdata\":[[110],[120],[120],[110],[110],[110],[100],[110],[100],[110],[110],[120],[110],[100],[110],[100],[120],[120],[110],[90],[110]],\"hovertemplate\":\"\\u003cb\\u003e%{hovertext}\\u003c\\u002fb\\u003e\\u003cbr\\u003e\\u003cbr\\u003eshelf=Middle\\u003cbr\\u003esugars=%{x}\\u003cbr\\u003erating=%{y}\\u003cbr\\u003ecups=%{marker.size}\\u003cbr\\u003ecalories=%{customdata[0]}\\u003cextra\\u003e\\u003c\\u002fextra\\u003e\",\"hovertext\":[\"Apple Jacks Kellogs\",\"Cap'n'Crunch Quaker Oats\",\"Cinnamon Toast Crunch General Mills\",\"Cocoa Puffs General Mills\",\"Corn Pops Kellogs\",\"Count Chocula General Mills\",\"Cream of Wheat (Quick) Nabisco\",\"Froot Loops Kellogs\",\"Frosted Mini-Wheats Kellogs\",\"Fruity Pebbles Post\",\"Golden Grahams General Mills\",\"Honey Graham Ohs Quaker Oats\",\"Kix General Mills\",\"Life Quaker Oats\",\"Lucky Charms General Mills\",\"Maypo AM Home Food\",\"Nut&Honey Crunch Kellogs\",\"Raisin Bran Kellogs\",\"Smacks Kellogs\",\"Strawberry Fruit Wheats Nabisco\",\"Trix General Mills\"],\"legendgroup\":\"Middle\",\"marker\":{\"color\":\"#00cc96\",\"size\":[1.0,0.75,0.75,1.0,1.0,1.0,1.0,1.0,0.8,0.75,0.75,1.0,1.5,0.67,1.0,1.0,0.67,0.75,0.75,1.0,1.0],\"sizemode\":\"area\",\"sizeref\":0.00375,\"symbol\":\"circle\"},\"mode\":\"markers\",\"name\":\"Middle\",\"orientation\":\"v\",\"showlegend\":true,\"x\":[14,12,9,13,12,13,0,13,7,12,9,11,3,6,12,3,9,12,15,5,12],\"xaxis\":\"x\",\"y\":[33.17,18.04,19.82,22.74,35.78,22.4,64.53,32.21,58.35,28.03,23.8,21.87,39.24,45.33,26.73,54.85,29.92,39.26,31.23,59.36,27.75],\"yaxis\":\"y\",\"type\":\"scatter\"}],                        {\"template\":{\"data\":{\"histogram2dcontour\":[{\"type\":\"histogram2dcontour\",\"colorbar\":{\"outlinewidth\":0,\"ticks\":\"\"},\"colorscale\":[[0.0,\"#0d0887\"],[0.1111111111111111,\"#46039f\"],[0.2222222222222222,\"#7201a8\"],[0.3333333333333333,\"#9c179e\"],[0.4444444444444444,\"#bd3786\"],[0.5555555555555556,\"#d8576b\"],[0.6666666666666666,\"#ed7953\"],[0.7777777777777778,\"#fb9f3a\"],[0.8888888888888888,\"#fdca26\"],[1.0,\"#f0f921\"]]}],\"choropleth\":[{\"type\":\"choropleth\",\"colorbar\":{\"outlinewidth\":0,\"ticks\":\"\"}}],\"histogram2d\":[{\"type\":\"histogram2d\",\"colorbar\":{\"outlinewidth\":0,\"ticks\":\"\"},\"colorscale\":[[0.0,\"#0d0887\"],[0.1111111111111111,\"#46039f\"],[0.2222222222222222,\"#7201a8\"],[0.3333333333333333,\"#9c179e\"],[0.4444444444444444,\"#bd3786\"],[0.5555555555555556,\"#d8576b\"],[0.6666666666666666,\"#ed7953\"],[0.7777777777777778,\"#fb9f3a\"],[0.8888888888888888,\"#fdca26\"],[1.0,\"#f0f921\"]]}],\"heatmap\":[{\"type\":\"heatmap\",\"colorbar\":{\"outlinewidth\":0,\"ticks\":\"\"},\"colorscale\":[[0.0,\"#0d0887\"],[0.1111111111111111,\"#46039f\"],[0.2222222222222222,\"#7201a8\"],[0.3333333333333333,\"#9c179e\"],[0.4444444444444444,\"#bd3786\"],[0.5555555555555556,\"#d8576b\"],[0.6666666666666666,\"#ed7953\"],[0.7777777777777778,\"#fb9f3a\"],[0.8888888888888888,\"#fdca26\"],[1.0,\"#f0f921\"]]}],\"heatmapgl\":[{\"type\":\"heatmapgl\",\"colorbar\":{\"outlinewidth\":0,\"ticks\":\"\"},\"colorscale\":[[0.0,\"#0d0887\"],[0.1111111111111111,\"#46039f\"],[0.2222222222222222,\"#7201a8\"],[0.3333333333333333,\"#9c179e\"],[0.4444444444444444,\"#bd3786\"],[0.5555555555555556,\"#d8576b\"],[0.6666666666666666,\"#ed7953\"],[0.7777777777777778,\"#fb9f3a\"],[0.8888888888888888,\"#fdca26\"],[1.0,\"#f0f921\"]]}],\"contourcarpet\":[{\"type\":\"contourcarpet\",\"colorbar\":{\"outlinewidth\":0,\"ticks\":\"\"}}],\"contour\":[{\"type\":\"contour\",\"colorbar\":{\"outlinewidth\":0,\"ticks\":\"\"},\"colorscale\":[[0.0,\"#0d0887\"],[0.1111111111111111,\"#46039f\"],[0.2222222222222222,\"#7201a8\"],[0.3333333333333333,\"#9c179e\"],[0.4444444444444444,\"#bd3786\"],[0.5555555555555556,\"#d8576b\"],[0.6666666666666666,\"#ed7953\"],[0.7777777777777778,\"#fb9f3a\"],[0.8888888888888888,\"#fdca26\"],[1.0,\"#f0f921\"]]}],\"surface\":[{\"type\":\"surface\",\"colorbar\":{\"outlinewidth\":0,\"ticks\":\"\"},\"colorscale\":[[0.0,\"#0d0887\"],[0.1111111111111111,\"#46039f\"],[0.2222222222222222,\"#7201a8\"],[0.3333333333333333,\"#9c179e\"],[0.4444444444444444,\"#bd3786\"],[0.5555555555555556,\"#d8576b\"],[0.6666666666666666,\"#ed7953\"],[0.7777777777777778,\"#fb9f3a\"],[0.8888888888888888,\"#fdca26\"],[1.0,\"#f0f921\"]]}],\"mesh3d\":[{\"type\":\"mesh3d\",\"colorbar\":{\"outlinewidth\":0,\"ticks\":\"\"}}],\"scatter\":[{\"fillpattern\":{\"fillmode\":\"overlay\",\"size\":10,\"solidity\":0.2},\"type\":\"scatter\"}],\"parcoords\":[{\"type\":\"parcoords\",\"line\":{\"colorbar\":{\"outlinewidth\":0,\"ticks\":\"\"}}}],\"scatterpolargl\":[{\"type\":\"scatterpolargl\",\"marker\":{\"colorbar\":{\"outlinewidth\":0,\"ticks\":\"\"}}}],\"bar\":[{\"error_x\":{\"color\":\"#2a3f5f\"},\"error_y\":{\"color\":\"#2a3f5f\"},\"marker\":{\"line\":{\"color\":\"#E5ECF6\",\"width\":0.5},\"pattern\":{\"fillmode\":\"overlay\",\"size\":10,\"solidity\":0.2}},\"type\":\"bar\"}],\"scattergeo\":[{\"type\":\"scattergeo\",\"marker\":{\"colorbar\":{\"outlinewidth\":0,\"ticks\":\"\"}}}],\"scatterpolar\":[{\"type\":\"scatterpolar\",\"marker\":{\"colorbar\":{\"outlinewidth\":0,\"ticks\":\"\"}}}],\"histogram\":[{\"marker\":{\"pattern\":{\"fillmode\":\"overlay\",\"size\":10,\"solidity\":0.2}},\"type\":\"histogram\"}],\"scattergl\":[{\"type\":\"scattergl\",\"marker\":{\"colorbar\":{\"outlinewidth\":0,\"ticks\":\"\"}}}],\"scatter3d\":[{\"type\":\"scatter3d\",\"line\":{\"colorbar\":{\"outlinewidth\":0,\"ticks\":\"\"}},\"marker\":{\"colorbar\":{\"outlinewidth\":0,\"ticks\":\"\"}}}],\"scattermapbox\":[{\"type\":\"scattermapbox\",\"marker\":{\"colorbar\":{\"outlinewidth\":0,\"ticks\":\"\"}}}],\"scatterternary\":[{\"type\":\"scatterternary\",\"marker\":{\"colorbar\":{\"outlinewidth\":0,\"ticks\":\"\"}}}],\"scattercarpet\":[{\"type\":\"scattercarpet\",\"marker\":{\"colorbar\":{\"outlinewidth\":0,\"ticks\":\"\"}}}],\"carpet\":[{\"aaxis\":{\"endlinecolor\":\"#2a3f5f\",\"gridcolor\":\"white\",\"linecolor\":\"white\",\"minorgridcolor\":\"white\",\"startlinecolor\":\"#2a3f5f\"},\"baxis\":{\"endlinecolor\":\"#2a3f5f\",\"gridcolor\":\"white\",\"linecolor\":\"white\",\"minorgridcolor\":\"white\",\"startlinecolor\":\"#2a3f5f\"},\"type\":\"carpet\"}],\"table\":[{\"cells\":{\"fill\":{\"color\":\"#EBF0F8\"},\"line\":{\"color\":\"white\"}},\"header\":{\"fill\":{\"color\":\"#C8D4E3\"},\"line\":{\"color\":\"white\"}},\"type\":\"table\"}],\"barpolar\":[{\"marker\":{\"line\":{\"color\":\"#E5ECF6\",\"width\":0.5},\"pattern\":{\"fillmode\":\"overlay\",\"size\":10,\"solidity\":0.2}},\"type\":\"barpolar\"}],\"pie\":[{\"automargin\":true,\"type\":\"pie\"}]},\"layout\":{\"autotypenumbers\":\"strict\",\"colorway\":[\"#636efa\",\"#EF553B\",\"#00cc96\",\"#ab63fa\",\"#FFA15A\",\"#19d3f3\",\"#FF6692\",\"#B6E880\",\"#FF97FF\",\"#FECB52\"],\"font\":{\"color\":\"#2a3f5f\"},\"hovermode\":\"closest\",\"hoverlabel\":{\"align\":\"left\"},\"paper_bgcolor\":\"white\",\"plot_bgcolor\":\"#E5ECF6\",\"polar\":{\"bgcolor\":\"#E5ECF6\",\"angularaxis\":{\"gridcolor\":\"white\",\"linecolor\":\"white\",\"ticks\":\"\"},\"radialaxis\":{\"gridcolor\":\"white\",\"linecolor\":\"white\",\"ticks\":\"\"}},\"ternary\":{\"bgcolor\":\"#E5ECF6\",\"aaxis\":{\"gridcolor\":\"white\",\"linecolor\":\"white\",\"ticks\":\"\"},\"baxis\":{\"gridcolor\":\"white\",\"linecolor\":\"white\",\"ticks\":\"\"},\"caxis\":{\"gridcolor\":\"white\",\"linecolor\":\"white\",\"ticks\":\"\"}},\"coloraxis\":{\"colorbar\":{\"outlinewidth\":0,\"ticks\":\"\"}},\"colorscale\":{\"sequential\":[[0.0,\"#0d0887\"],[0.1111111111111111,\"#46039f\"],[0.2222222222222222,\"#7201a8\"],[0.3333333333333333,\"#9c179e\"],[0.4444444444444444,\"#bd3786\"],[0.5555555555555556,\"#d8576b\"],[0.6666666666666666,\"#ed7953\"],[0.7777777777777778,\"#fb9f3a\"],[0.8888888888888888,\"#fdca26\"],[1.0,\"#f0f921\"]],\"sequentialminus\":[[0.0,\"#0d0887\"],[0.1111111111111111,\"#46039f\"],[0.2222222222222222,\"#7201a8\"],[0.3333333333333333,\"#9c179e\"],[0.4444444444444444,\"#bd3786\"],[0.5555555555555556,\"#d8576b\"],[0.6666666666666666,\"#ed7953\"],[0.7777777777777778,\"#fb9f3a\"],[0.8888888888888888,\"#fdca26\"],[1.0,\"#f0f921\"]],\"diverging\":[[0,\"#8e0152\"],[0.1,\"#c51b7d\"],[0.2,\"#de77ae\"],[0.3,\"#f1b6da\"],[0.4,\"#fde0ef\"],[0.5,\"#f7f7f7\"],[0.6,\"#e6f5d0\"],[0.7,\"#b8e186\"],[0.8,\"#7fbc41\"],[0.9,\"#4d9221\"],[1,\"#276419\"]]},\"xaxis\":{\"gridcolor\":\"white\",\"linecolor\":\"white\",\"ticks\":\"\",\"title\":{\"standoff\":15},\"zerolinecolor\":\"white\",\"automargin\":true,\"zerolinewidth\":2},\"yaxis\":{\"gridcolor\":\"white\",\"linecolor\":\"white\",\"ticks\":\"\",\"title\":{\"standoff\":15},\"zerolinecolor\":\"white\",\"automargin\":true,\"zerolinewidth\":2},\"scene\":{\"xaxis\":{\"backgroundcolor\":\"#E5ECF6\",\"gridcolor\":\"white\",\"linecolor\":\"white\",\"showbackground\":true,\"ticks\":\"\",\"zerolinecolor\":\"white\",\"gridwidth\":2},\"yaxis\":{\"backgroundcolor\":\"#E5ECF6\",\"gridcolor\":\"white\",\"linecolor\":\"white\",\"showbackground\":true,\"ticks\":\"\",\"zerolinecolor\":\"white\",\"gridwidth\":2},\"zaxis\":{\"backgroundcolor\":\"#E5ECF6\",\"gridcolor\":\"white\",\"linecolor\":\"white\",\"showbackground\":true,\"ticks\":\"\",\"zerolinecolor\":\"white\",\"gridwidth\":2}},\"shapedefaults\":{\"line\":{\"color\":\"#2a3f5f\"}},\"annotationdefaults\":{\"arrowcolor\":\"#2a3f5f\",\"arrowhead\":0,\"arrowwidth\":1},\"geo\":{\"bgcolor\":\"white\",\"landcolor\":\"#E5ECF6\",\"subunitcolor\":\"white\",\"showland\":true,\"showlakes\":true,\"lakecolor\":\"white\"},\"title\":{\"x\":0.05},\"mapbox\":{\"style\":\"light\"}}},\"xaxis\":{\"anchor\":\"y\",\"domain\":[0.0,1.0],\"title\":{\"text\":\"sugars\"}},\"yaxis\":{\"anchor\":\"x\",\"domain\":[0.0,1.0],\"title\":{\"text\":\"rating\"}},\"legend\":{\"title\":{\"text\":\"shelf\"},\"tracegroupgap\":0,\"itemsizing\":\"constant\"},\"title\":{\"text\":\"Cereal_ratingsvs.sugars\"}},                        {\"responsive\": true}                    ).then(function(){\n",
              "                            \n",
              "var gd = document.getElementById('1962d49f-a593-48b1-8aac-755c906d4663');\n",
              "var x = new MutationObserver(function (mutations, observer) {{\n",
              "        var display = window.getComputedStyle(gd).display;\n",
              "        if (!display || display === 'none') {{\n",
              "            console.log([gd, 'removed!']);\n",
              "            Plotly.purge(gd);\n",
              "            observer.disconnect();\n",
              "        }}\n",
              "}});\n",
              "\n",
              "// Listen for the removal of the full notebook cells\n",
              "var notebookContainer = gd.closest('#notebook-container');\n",
              "if (notebookContainer) {{\n",
              "    x.observe(notebookContainer, {childList: true});\n",
              "}}\n",
              "\n",
              "// Listen for the clearing of the current output cell\n",
              "var outputEl = gd.closest('.output');\n",
              "if (outputEl) {{\n",
              "    x.observe(outputEl, {childList: true});\n",
              "}}\n",
              "\n",
              "                        })                };                            </script>        </div>\n",
              "</body>\n",
              "</html>"
            ]
          },
          "metadata": {}
        }
      ]
    },
    {
      "cell_type": "code",
      "source": [
        "fig = px.scatter(df,\n",
        "                x='sugars',\n",
        "                y='rating',\n",
        "                color='shelf',\n",
        "                size='cups',\n",
        "                hover_data='calories',\n",
        "                animation_frame='fat',\n",
        "                animation_group='name',\n",
        "                hover_name='name',\n",
        "                title='Cereal_ratingsvs.sugars')\n",
        "fig.show()"
      ],
      "metadata": {
        "colab": {
          "base_uri": "https://localhost:8080/",
          "height": 542
        },
        "id": "Fayk-4FKyPSa",
        "outputId": "d1ba827b-23a3-4535-997c-700cd775a52d"
      },
      "execution_count": null,
      "outputs": [
        {
          "output_type": "display_data",
          "data": {
            "text/html": [
              "<html>\n",
              "<head><meta charset=\"utf-8\" /></head>\n",
              "<body>\n",
              "    <div>            <script src=\"https://cdnjs.cloudflare.com/ajax/libs/mathjax/2.7.5/MathJax.js?config=TeX-AMS-MML_SVG\"></script><script type=\"text/javascript\">if (window.MathJax && window.MathJax.Hub && window.MathJax.Hub.Config) {window.MathJax.Hub.Config({SVG: {font: \"STIX-Web\"}});}</script>                <script type=\"text/javascript\">window.PlotlyConfig = {MathJaxConfig: 'local'};</script>\n",
              "        <script charset=\"utf-8\" src=\"https://cdn.plot.ly/plotly-2.35.2.min.js\"></script>                <div id=\"8b6d05b7-03de-4c30-99b8-b735f8acdae9\" class=\"plotly-graph-div\" style=\"height:525px; width:100%;\"></div>            <script type=\"text/javascript\">                                    window.PLOTLYENV=window.PLOTLYENV || {};                                    if (document.getElementById(\"8b6d05b7-03de-4c30-99b8-b735f8acdae9\")) {                    Plotly.newPlot(                        \"8b6d05b7-03de-4c30-99b8-b735f8acdae9\",                        [{\"customdata\":[[70],[70],[100],[100],[110],[140],[120],[100],[110],[140],[100],[110]],\"hovertemplate\":\"\\u003cb\\u003e%{hovertext}\\u003c\\u002fb\\u003e\\u003cbr\\u003e\\u003cbr\\u003eshelf=Top\\u003cbr\\u003efat=1\\u003cbr\\u003esugars=%{x}\\u003cbr\\u003erating=%{y}\\u003cbr\\u003ecups=%{marker.size}\\u003cbr\\u003ecalories=%{customdata[0]}\\u003cextra\\u003e\\u003c\\u002fextra\\u003e\",\"hovertext\":[\"100% Bran\",\"All-Bran\",\"Crispy Wheat & Raisins\",\"Grape Nuts Flakes\",\"Just Right Crunchy  Nuggets\",\"Just Right Fruit & Nut\",\"Post Nat. Raisin Bran\",\"Quaker Oat Squares\",\"Total Corn Flakes\",\"Total Raisin Bran\",\"Total Whole Grain\",\"Triples\"],\"ids\":[\"100% Bran\",\"All-Bran\",\"Crispy Wheat & Raisins\",\"Grape Nuts Flakes\",\"Just Right Crunchy  Nuggets\",\"Just Right Fruit & Nut\",\"Post Nat. Raisin Bran\",\"Quaker Oat Squares\",\"Total Corn Flakes\",\"Total Raisin Bran\",\"Total Whole Grain\",\"Triples\"],\"legendgroup\":\"Top\",\"marker\":{\"color\":\"#636efa\",\"size\":[0.33,0.33,0.75,0.88,1.0,0.75,0.67,0.5,1.0,1.0,1.0,0.75],\"sizemode\":\"area\",\"sizeref\":0.00375,\"symbol\":\"circle\"},\"mode\":\"markers\",\"name\":\"Top\",\"orientation\":\"v\",\"showlegend\":true,\"x\":[6,5,10,5,6,9,14,6,3,14,3,3],\"xaxis\":\"x\",\"y\":[68.4,59.43,36.18,52.08,36.52,36.47,37.84,49.51,38.84,28.59,46.66,39.11],\"yaxis\":\"y\",\"type\":\"scatter\"},{\"customdata\":[[90],[110],[100],[100],[100],[110]],\"hovertemplate\":\"\\u003cb\\u003e%{hovertext}\\u003c\\u002fb\\u003e\\u003cbr\\u003e\\u003cbr\\u003eshelf=Bottom\\u003cbr\\u003efat=1\\u003cbr\\u003esugars=%{x}\\u003cbr\\u003erating=%{y}\\u003cbr\\u003ecups=%{marker.size}\\u003cbr\\u003ecalories=%{customdata[0]}\\u003cextra\\u003e\\u003c\\u002fextra\\u003e\",\"hovertext\":[\"Bran Chex\",\"Honey Nut Cheerios\",\"Multi-Grain Cheerios\",\"Wheat Chex\",\"Wheaties\",\"Wheaties Honey Gold\"],\"ids\":[\"Bran Chex\",\"Honey Nut Cheerios\",\"Multi-Grain Cheerios\",\"Wheat Chex\",\"Wheaties\",\"Wheaties Honey Gold\"],\"legendgroup\":\"Bottom\",\"marker\":{\"color\":\"#EF553B\",\"size\":[0.67,0.75,1.0,0.67,1.0,0.75],\"sizemode\":\"area\",\"sizeref\":0.00375,\"symbol\":\"circle\"},\"mode\":\"markers\",\"name\":\"Bottom\",\"orientation\":\"v\",\"showlegend\":true,\"x\":[6,10,6,3,3,8],\"xaxis\":\"x\",\"y\":[49.12,31.07,40.11,49.79,51.59,36.19],\"yaxis\":\"y\",\"type\":\"scatter\"},{\"customdata\":[[110],[110],[110],[110],[110],[110],[110],[100],[120],[120],[110],[110]],\"hovertemplate\":\"\\u003cb\\u003e%{hovertext}\\u003c\\u002fb\\u003e\\u003cbr\\u003e\\u003cbr\\u003eshelf=Middle\\u003cbr\\u003efat=1\\u003cbr\\u003esugars=%{x}\\u003cbr\\u003erating=%{y}\\u003cbr\\u003ecups=%{marker.size}\\u003cbr\\u003ecalories=%{customdata[0]}\\u003cextra\\u003e\\u003c\\u002fextra\\u003e\",\"hovertext\":[\"Cocoa Puffs\",\"Count Chocula\",\"Froot Loops\",\"Fruity Pebbles\",\"Golden Grahams\",\"Kix\",\"Lucky Charms\",\"Maypo\",\"Nut&Honey Crunch\",\"Raisin Bran\",\"Smacks\",\"Trix\"],\"ids\":[\"Cocoa Puffs\",\"Count Chocula\",\"Froot Loops\",\"Fruity Pebbles\",\"Golden Grahams\",\"Kix\",\"Lucky Charms\",\"Maypo\",\"Nut&Honey Crunch\",\"Raisin Bran\",\"Smacks\",\"Trix\"],\"legendgroup\":\"Middle\",\"marker\":{\"color\":\"#00cc96\",\"size\":[1.0,1.0,1.0,0.75,0.75,1.5,1.0,1.0,0.67,0.75,0.75,1.0],\"sizemode\":\"area\",\"sizeref\":0.00375,\"symbol\":\"circle\"},\"mode\":\"markers\",\"name\":\"Middle\",\"orientation\":\"v\",\"showlegend\":true,\"x\":[13,13,13,12,9,3,12,3,9,12,15,12],\"xaxis\":\"x\",\"y\":[22.74,22.4,32.21,28.03,23.8,39.24,26.73,54.85,29.92,39.26,31.23,27.75],\"yaxis\":\"y\",\"type\":\"scatter\"}],                        {\"template\":{\"data\":{\"histogram2dcontour\":[{\"type\":\"histogram2dcontour\",\"colorbar\":{\"outlinewidth\":0,\"ticks\":\"\"},\"colorscale\":[[0.0,\"#0d0887\"],[0.1111111111111111,\"#46039f\"],[0.2222222222222222,\"#7201a8\"],[0.3333333333333333,\"#9c179e\"],[0.4444444444444444,\"#bd3786\"],[0.5555555555555556,\"#d8576b\"],[0.6666666666666666,\"#ed7953\"],[0.7777777777777778,\"#fb9f3a\"],[0.8888888888888888,\"#fdca26\"],[1.0,\"#f0f921\"]]}],\"choropleth\":[{\"type\":\"choropleth\",\"colorbar\":{\"outlinewidth\":0,\"ticks\":\"\"}}],\"histogram2d\":[{\"type\":\"histogram2d\",\"colorbar\":{\"outlinewidth\":0,\"ticks\":\"\"},\"colorscale\":[[0.0,\"#0d0887\"],[0.1111111111111111,\"#46039f\"],[0.2222222222222222,\"#7201a8\"],[0.3333333333333333,\"#9c179e\"],[0.4444444444444444,\"#bd3786\"],[0.5555555555555556,\"#d8576b\"],[0.6666666666666666,\"#ed7953\"],[0.7777777777777778,\"#fb9f3a\"],[0.8888888888888888,\"#fdca26\"],[1.0,\"#f0f921\"]]}],\"heatmap\":[{\"type\":\"heatmap\",\"colorbar\":{\"outlinewidth\":0,\"ticks\":\"\"},\"colorscale\":[[0.0,\"#0d0887\"],[0.1111111111111111,\"#46039f\"],[0.2222222222222222,\"#7201a8\"],[0.3333333333333333,\"#9c179e\"],[0.4444444444444444,\"#bd3786\"],[0.5555555555555556,\"#d8576b\"],[0.6666666666666666,\"#ed7953\"],[0.7777777777777778,\"#fb9f3a\"],[0.8888888888888888,\"#fdca26\"],[1.0,\"#f0f921\"]]}],\"heatmapgl\":[{\"type\":\"heatmapgl\",\"colorbar\":{\"outlinewidth\":0,\"ticks\":\"\"},\"colorscale\":[[0.0,\"#0d0887\"],[0.1111111111111111,\"#46039f\"],[0.2222222222222222,\"#7201a8\"],[0.3333333333333333,\"#9c179e\"],[0.4444444444444444,\"#bd3786\"],[0.5555555555555556,\"#d8576b\"],[0.6666666666666666,\"#ed7953\"],[0.7777777777777778,\"#fb9f3a\"],[0.8888888888888888,\"#fdca26\"],[1.0,\"#f0f921\"]]}],\"contourcarpet\":[{\"type\":\"contourcarpet\",\"colorbar\":{\"outlinewidth\":0,\"ticks\":\"\"}}],\"contour\":[{\"type\":\"contour\",\"colorbar\":{\"outlinewidth\":0,\"ticks\":\"\"},\"colorscale\":[[0.0,\"#0d0887\"],[0.1111111111111111,\"#46039f\"],[0.2222222222222222,\"#7201a8\"],[0.3333333333333333,\"#9c179e\"],[0.4444444444444444,\"#bd3786\"],[0.5555555555555556,\"#d8576b\"],[0.6666666666666666,\"#ed7953\"],[0.7777777777777778,\"#fb9f3a\"],[0.8888888888888888,\"#fdca26\"],[1.0,\"#f0f921\"]]}],\"surface\":[{\"type\":\"surface\",\"colorbar\":{\"outlinewidth\":0,\"ticks\":\"\"},\"colorscale\":[[0.0,\"#0d0887\"],[0.1111111111111111,\"#46039f\"],[0.2222222222222222,\"#7201a8\"],[0.3333333333333333,\"#9c179e\"],[0.4444444444444444,\"#bd3786\"],[0.5555555555555556,\"#d8576b\"],[0.6666666666666666,\"#ed7953\"],[0.7777777777777778,\"#fb9f3a\"],[0.8888888888888888,\"#fdca26\"],[1.0,\"#f0f921\"]]}],\"mesh3d\":[{\"type\":\"mesh3d\",\"colorbar\":{\"outlinewidth\":0,\"ticks\":\"\"}}],\"scatter\":[{\"fillpattern\":{\"fillmode\":\"overlay\",\"size\":10,\"solidity\":0.2},\"type\":\"scatter\"}],\"parcoords\":[{\"type\":\"parcoords\",\"line\":{\"colorbar\":{\"outlinewidth\":0,\"ticks\":\"\"}}}],\"scatterpolargl\":[{\"type\":\"scatterpolargl\",\"marker\":{\"colorbar\":{\"outlinewidth\":0,\"ticks\":\"\"}}}],\"bar\":[{\"error_x\":{\"color\":\"#2a3f5f\"},\"error_y\":{\"color\":\"#2a3f5f\"},\"marker\":{\"line\":{\"color\":\"#E5ECF6\",\"width\":0.5},\"pattern\":{\"fillmode\":\"overlay\",\"size\":10,\"solidity\":0.2}},\"type\":\"bar\"}],\"scattergeo\":[{\"type\":\"scattergeo\",\"marker\":{\"colorbar\":{\"outlinewidth\":0,\"ticks\":\"\"}}}],\"scatterpolar\":[{\"type\":\"scatterpolar\",\"marker\":{\"colorbar\":{\"outlinewidth\":0,\"ticks\":\"\"}}}],\"histogram\":[{\"marker\":{\"pattern\":{\"fillmode\":\"overlay\",\"size\":10,\"solidity\":0.2}},\"type\":\"histogram\"}],\"scattergl\":[{\"type\":\"scattergl\",\"marker\":{\"colorbar\":{\"outlinewidth\":0,\"ticks\":\"\"}}}],\"scatter3d\":[{\"type\":\"scatter3d\",\"line\":{\"colorbar\":{\"outlinewidth\":0,\"ticks\":\"\"}},\"marker\":{\"colorbar\":{\"outlinewidth\":0,\"ticks\":\"\"}}}],\"scattermapbox\":[{\"type\":\"scattermapbox\",\"marker\":{\"colorbar\":{\"outlinewidth\":0,\"ticks\":\"\"}}}],\"scatterternary\":[{\"type\":\"scatterternary\",\"marker\":{\"colorbar\":{\"outlinewidth\":0,\"ticks\":\"\"}}}],\"scattercarpet\":[{\"type\":\"scattercarpet\",\"marker\":{\"colorbar\":{\"outlinewidth\":0,\"ticks\":\"\"}}}],\"carpet\":[{\"aaxis\":{\"endlinecolor\":\"#2a3f5f\",\"gridcolor\":\"white\",\"linecolor\":\"white\",\"minorgridcolor\":\"white\",\"startlinecolor\":\"#2a3f5f\"},\"baxis\":{\"endlinecolor\":\"#2a3f5f\",\"gridcolor\":\"white\",\"linecolor\":\"white\",\"minorgridcolor\":\"white\",\"startlinecolor\":\"#2a3f5f\"},\"type\":\"carpet\"}],\"table\":[{\"cells\":{\"fill\":{\"color\":\"#EBF0F8\"},\"line\":{\"color\":\"white\"}},\"header\":{\"fill\":{\"color\":\"#C8D4E3\"},\"line\":{\"color\":\"white\"}},\"type\":\"table\"}],\"barpolar\":[{\"marker\":{\"line\":{\"color\":\"#E5ECF6\",\"width\":0.5},\"pattern\":{\"fillmode\":\"overlay\",\"size\":10,\"solidity\":0.2}},\"type\":\"barpolar\"}],\"pie\":[{\"automargin\":true,\"type\":\"pie\"}]},\"layout\":{\"autotypenumbers\":\"strict\",\"colorway\":[\"#636efa\",\"#EF553B\",\"#00cc96\",\"#ab63fa\",\"#FFA15A\",\"#19d3f3\",\"#FF6692\",\"#B6E880\",\"#FF97FF\",\"#FECB52\"],\"font\":{\"color\":\"#2a3f5f\"},\"hovermode\":\"closest\",\"hoverlabel\":{\"align\":\"left\"},\"paper_bgcolor\":\"white\",\"plot_bgcolor\":\"#E5ECF6\",\"polar\":{\"bgcolor\":\"#E5ECF6\",\"angularaxis\":{\"gridcolor\":\"white\",\"linecolor\":\"white\",\"ticks\":\"\"},\"radialaxis\":{\"gridcolor\":\"white\",\"linecolor\":\"white\",\"ticks\":\"\"}},\"ternary\":{\"bgcolor\":\"#E5ECF6\",\"aaxis\":{\"gridcolor\":\"white\",\"linecolor\":\"white\",\"ticks\":\"\"},\"baxis\":{\"gridcolor\":\"white\",\"linecolor\":\"white\",\"ticks\":\"\"},\"caxis\":{\"gridcolor\":\"white\",\"linecolor\":\"white\",\"ticks\":\"\"}},\"coloraxis\":{\"colorbar\":{\"outlinewidth\":0,\"ticks\":\"\"}},\"colorscale\":{\"sequential\":[[0.0,\"#0d0887\"],[0.1111111111111111,\"#46039f\"],[0.2222222222222222,\"#7201a8\"],[0.3333333333333333,\"#9c179e\"],[0.4444444444444444,\"#bd3786\"],[0.5555555555555556,\"#d8576b\"],[0.6666666666666666,\"#ed7953\"],[0.7777777777777778,\"#fb9f3a\"],[0.8888888888888888,\"#fdca26\"],[1.0,\"#f0f921\"]],\"sequentialminus\":[[0.0,\"#0d0887\"],[0.1111111111111111,\"#46039f\"],[0.2222222222222222,\"#7201a8\"],[0.3333333333333333,\"#9c179e\"],[0.4444444444444444,\"#bd3786\"],[0.5555555555555556,\"#d8576b\"],[0.6666666666666666,\"#ed7953\"],[0.7777777777777778,\"#fb9f3a\"],[0.8888888888888888,\"#fdca26\"],[1.0,\"#f0f921\"]],\"diverging\":[[0,\"#8e0152\"],[0.1,\"#c51b7d\"],[0.2,\"#de77ae\"],[0.3,\"#f1b6da\"],[0.4,\"#fde0ef\"],[0.5,\"#f7f7f7\"],[0.6,\"#e6f5d0\"],[0.7,\"#b8e186\"],[0.8,\"#7fbc41\"],[0.9,\"#4d9221\"],[1,\"#276419\"]]},\"xaxis\":{\"gridcolor\":\"white\",\"linecolor\":\"white\",\"ticks\":\"\",\"title\":{\"standoff\":15},\"zerolinecolor\":\"white\",\"automargin\":true,\"zerolinewidth\":2},\"yaxis\":{\"gridcolor\":\"white\",\"linecolor\":\"white\",\"ticks\":\"\",\"title\":{\"standoff\":15},\"zerolinecolor\":\"white\",\"automargin\":true,\"zerolinewidth\":2},\"scene\":{\"xaxis\":{\"backgroundcolor\":\"#E5ECF6\",\"gridcolor\":\"white\",\"linecolor\":\"white\",\"showbackground\":true,\"ticks\":\"\",\"zerolinecolor\":\"white\",\"gridwidth\":2},\"yaxis\":{\"backgroundcolor\":\"#E5ECF6\",\"gridcolor\":\"white\",\"linecolor\":\"white\",\"showbackground\":true,\"ticks\":\"\",\"zerolinecolor\":\"white\",\"gridwidth\":2},\"zaxis\":{\"backgroundcolor\":\"#E5ECF6\",\"gridcolor\":\"white\",\"linecolor\":\"white\",\"showbackground\":true,\"ticks\":\"\",\"zerolinecolor\":\"white\",\"gridwidth\":2}},\"shapedefaults\":{\"line\":{\"color\":\"#2a3f5f\"}},\"annotationdefaults\":{\"arrowcolor\":\"#2a3f5f\",\"arrowhead\":0,\"arrowwidth\":1},\"geo\":{\"bgcolor\":\"white\",\"landcolor\":\"#E5ECF6\",\"subunitcolor\":\"white\",\"showland\":true,\"showlakes\":true,\"lakecolor\":\"white\"},\"title\":{\"x\":0.05},\"mapbox\":{\"style\":\"light\"}}},\"xaxis\":{\"anchor\":\"y\",\"domain\":[0.0,1.0],\"title\":{\"text\":\"sugars\"}},\"yaxis\":{\"anchor\":\"x\",\"domain\":[0.0,1.0],\"title\":{\"text\":\"rating\"}},\"legend\":{\"title\":{\"text\":\"shelf\"},\"tracegroupgap\":0,\"itemsizing\":\"constant\"},\"title\":{\"text\":\"Cereal_ratingsvs.sugars\"},\"updatemenus\":[{\"buttons\":[{\"args\":[null,{\"frame\":{\"duration\":500,\"redraw\":false},\"mode\":\"immediate\",\"fromcurrent\":true,\"transition\":{\"duration\":500,\"easing\":\"linear\"}}],\"label\":\"&#9654;\",\"method\":\"animate\"},{\"args\":[[null],{\"frame\":{\"duration\":0,\"redraw\":false},\"mode\":\"immediate\",\"fromcurrent\":true,\"transition\":{\"duration\":0,\"easing\":\"linear\"}}],\"label\":\"&#9724;\",\"method\":\"animate\"}],\"direction\":\"left\",\"pad\":{\"r\":10,\"t\":70},\"showactive\":false,\"type\":\"buttons\",\"x\":0.1,\"xanchor\":\"right\",\"y\":0,\"yanchor\":\"top\"}],\"sliders\":[{\"active\":0,\"currentvalue\":{\"prefix\":\"fat=\"},\"len\":0.9,\"pad\":{\"b\":10,\"t\":60},\"steps\":[{\"args\":[[\"1\"],{\"frame\":{\"duration\":0,\"redraw\":false},\"mode\":\"immediate\",\"fromcurrent\":true,\"transition\":{\"duration\":0,\"easing\":\"linear\"}}],\"label\":\"1\",\"method\":\"animate\"},{\"args\":[[\"5\"],{\"frame\":{\"duration\":0,\"redraw\":false},\"mode\":\"immediate\",\"fromcurrent\":true,\"transition\":{\"duration\":0,\"easing\":\"linear\"}}],\"label\":\"5\",\"method\":\"animate\"},{\"args\":[[\"0\"],{\"frame\":{\"duration\":0,\"redraw\":false},\"mode\":\"immediate\",\"fromcurrent\":true,\"transition\":{\"duration\":0,\"easing\":\"linear\"}}],\"label\":\"0\",\"method\":\"animate\"},{\"args\":[[\"2\"],{\"frame\":{\"duration\":0,\"redraw\":false},\"mode\":\"immediate\",\"fromcurrent\":true,\"transition\":{\"duration\":0,\"easing\":\"linear\"}}],\"label\":\"2\",\"method\":\"animate\"},{\"args\":[[\"3\"],{\"frame\":{\"duration\":0,\"redraw\":false},\"mode\":\"immediate\",\"fromcurrent\":true,\"transition\":{\"duration\":0,\"easing\":\"linear\"}}],\"label\":\"3\",\"method\":\"animate\"}],\"x\":0.1,\"xanchor\":\"left\",\"y\":0,\"yanchor\":\"top\"}]},                        {\"responsive\": true}                    ).then(function(){\n",
              "                            Plotly.addFrames('8b6d05b7-03de-4c30-99b8-b735f8acdae9', [{\"data\":[{\"customdata\":[[70],[70],[100],[100],[110],[140],[120],[100],[110],[140],[100],[110]],\"hovertemplate\":\"\\u003cb\\u003e%{hovertext}\\u003c\\u002fb\\u003e\\u003cbr\\u003e\\u003cbr\\u003eshelf=Top\\u003cbr\\u003efat=1\\u003cbr\\u003esugars=%{x}\\u003cbr\\u003erating=%{y}\\u003cbr\\u003ecups=%{marker.size}\\u003cbr\\u003ecalories=%{customdata[0]}\\u003cextra\\u003e\\u003c\\u002fextra\\u003e\",\"hovertext\":[\"100% Bran\",\"All-Bran\",\"Crispy Wheat & Raisins\",\"Grape Nuts Flakes\",\"Just Right Crunchy  Nuggets\",\"Just Right Fruit & Nut\",\"Post Nat. Raisin Bran\",\"Quaker Oat Squares\",\"Total Corn Flakes\",\"Total Raisin Bran\",\"Total Whole Grain\",\"Triples\"],\"ids\":[\"100% Bran\",\"All-Bran\",\"Crispy Wheat & Raisins\",\"Grape Nuts Flakes\",\"Just Right Crunchy  Nuggets\",\"Just Right Fruit & Nut\",\"Post Nat. Raisin Bran\",\"Quaker Oat Squares\",\"Total Corn Flakes\",\"Total Raisin Bran\",\"Total Whole Grain\",\"Triples\"],\"legendgroup\":\"Top\",\"marker\":{\"color\":\"#636efa\",\"size\":[0.33,0.33,0.75,0.88,1.0,0.75,0.67,0.5,1.0,1.0,1.0,0.75],\"sizemode\":\"area\",\"sizeref\":0.00375,\"symbol\":\"circle\"},\"mode\":\"markers\",\"name\":\"Top\",\"orientation\":\"v\",\"showlegend\":true,\"x\":[6,5,10,5,6,9,14,6,3,14,3,3],\"xaxis\":\"x\",\"y\":[68.4,59.43,36.18,52.08,36.52,36.47,37.84,49.51,38.84,28.59,46.66,39.11],\"yaxis\":\"y\",\"type\":\"scatter\"},{\"customdata\":[[90],[110],[100],[100],[100],[110]],\"hovertemplate\":\"\\u003cb\\u003e%{hovertext}\\u003c\\u002fb\\u003e\\u003cbr\\u003e\\u003cbr\\u003eshelf=Bottom\\u003cbr\\u003efat=1\\u003cbr\\u003esugars=%{x}\\u003cbr\\u003erating=%{y}\\u003cbr\\u003ecups=%{marker.size}\\u003cbr\\u003ecalories=%{customdata[0]}\\u003cextra\\u003e\\u003c\\u002fextra\\u003e\",\"hovertext\":[\"Bran Chex\",\"Honey Nut Cheerios\",\"Multi-Grain Cheerios\",\"Wheat Chex\",\"Wheaties\",\"Wheaties Honey Gold\"],\"ids\":[\"Bran Chex\",\"Honey Nut Cheerios\",\"Multi-Grain Cheerios\",\"Wheat Chex\",\"Wheaties\",\"Wheaties Honey Gold\"],\"legendgroup\":\"Bottom\",\"marker\":{\"color\":\"#EF553B\",\"size\":[0.67,0.75,1.0,0.67,1.0,0.75],\"sizemode\":\"area\",\"sizeref\":0.00375,\"symbol\":\"circle\"},\"mode\":\"markers\",\"name\":\"Bottom\",\"orientation\":\"v\",\"showlegend\":true,\"x\":[6,10,6,3,3,8],\"xaxis\":\"x\",\"y\":[49.12,31.07,40.11,49.79,51.59,36.19],\"yaxis\":\"y\",\"type\":\"scatter\"},{\"customdata\":[[110],[110],[110],[110],[110],[110],[110],[100],[120],[120],[110],[110]],\"hovertemplate\":\"\\u003cb\\u003e%{hovertext}\\u003c\\u002fb\\u003e\\u003cbr\\u003e\\u003cbr\\u003eshelf=Middle\\u003cbr\\u003efat=1\\u003cbr\\u003esugars=%{x}\\u003cbr\\u003erating=%{y}\\u003cbr\\u003ecups=%{marker.size}\\u003cbr\\u003ecalories=%{customdata[0]}\\u003cextra\\u003e\\u003c\\u002fextra\\u003e\",\"hovertext\":[\"Cocoa Puffs\",\"Count Chocula\",\"Froot Loops\",\"Fruity Pebbles\",\"Golden Grahams\",\"Kix\",\"Lucky Charms\",\"Maypo\",\"Nut&Honey Crunch\",\"Raisin Bran\",\"Smacks\",\"Trix\"],\"ids\":[\"Cocoa Puffs\",\"Count Chocula\",\"Froot Loops\",\"Fruity Pebbles\",\"Golden Grahams\",\"Kix\",\"Lucky Charms\",\"Maypo\",\"Nut&Honey Crunch\",\"Raisin Bran\",\"Smacks\",\"Trix\"],\"legendgroup\":\"Middle\",\"marker\":{\"color\":\"#00cc96\",\"size\":[1.0,1.0,1.0,0.75,0.75,1.5,1.0,1.0,0.67,0.75,0.75,1.0],\"sizemode\":\"area\",\"sizeref\":0.00375,\"symbol\":\"circle\"},\"mode\":\"markers\",\"name\":\"Middle\",\"orientation\":\"v\",\"showlegend\":true,\"x\":[13,13,13,12,9,3,12,3,9,12,15,12],\"xaxis\":\"x\",\"y\":[22.74,22.4,32.21,28.03,23.8,39.24,26.73,54.85,29.92,39.26,31.23,27.75],\"yaxis\":\"y\",\"type\":\"scatter\"}],\"name\":\"1\"},{\"data\":[{\"customdata\":[[120]],\"hovertemplate\":\"\\u003cb\\u003e%{hovertext}\\u003c\\u002fb\\u003e\\u003cbr\\u003e\\u003cbr\\u003eshelf=Top\\u003cbr\\u003efat=5\\u003cbr\\u003esugars=%{x}\\u003cbr\\u003erating=%{y}\\u003cbr\\u003ecups=%{marker.size}\\u003cbr\\u003ecalories=%{customdata[0]}\\u003cextra\\u003e\\u003c\\u002fextra\\u003e\",\"hovertext\":[\"100% Natural Bran\"],\"ids\":[\"100% Natural Bran\"],\"legendgroup\":\"Top\",\"marker\":{\"color\":\"#636efa\",\"size\":[1.0],\"sizemode\":\"area\",\"sizeref\":0.00375,\"symbol\":\"circle\"},\"mode\":\"markers\",\"name\":\"Top\",\"orientation\":\"v\",\"showlegend\":true,\"x\":[8],\"xaxis\":\"x\",\"y\":[33.98],\"yaxis\":\"y\",\"type\":\"scatter\"}],\"name\":\"5\"},{\"data\":[{\"customdata\":[[50],[90],[110],[100],[120],[110],[90],[100],[50],[50],[90]],\"hovertemplate\":\"\\u003cb\\u003e%{hovertext}\\u003c\\u002fb\\u003e\\u003cbr\\u003e\\u003cbr\\u003eshelf=Top\\u003cbr\\u003efat=0\\u003cbr\\u003esugars=%{x}\\u003cbr\\u003erating=%{y}\\u003cbr\\u003ecups=%{marker.size}\\u003cbr\\u003ecalories=%{customdata[0]}\\u003cextra\\u003e\\u003c\\u002fextra\\u003e\",\"hovertext\":[\"All-Bran with Extra Fiber\",\"Bran Flakes\",\"Crispix\",\"Double Chex\",\"Fruitful Bran\",\"Grape-Nuts\",\"Nutri-grain Wheat\",\"Product 19\",\"Puffed Rice\",\"Puffed Wheat\",\"Raisin Squares\"],\"ids\":[\"All-Bran with Extra Fiber\",\"Bran Flakes\",\"Crispix\",\"Double Chex\",\"Fruitful Bran\",\"Grape-Nuts\",\"Nutri-grain Wheat\",\"Product 19\",\"Puffed Rice\",\"Puffed Wheat\",\"Raisin Squares\"],\"legendgroup\":\"Top\",\"marker\":{\"color\":\"#636efa\",\"size\":[0.5,0.67,1.0,0.75,0.67,0.25,1.0,1.0,1.0,1.0,0.5],\"sizemode\":\"area\",\"sizeref\":0.00375,\"symbol\":\"circle\"},\"mode\":\"markers\",\"name\":\"Top\",\"orientation\":\"v\",\"showlegend\":true,\"x\":[0,5,3,5,12,3,2,3,0,0,6],\"xaxis\":\"x\",\"y\":[93.7,53.31,46.9,44.33,41.02,53.37,59.64,41.5,60.76,63.01,55.33],\"yaxis\":\"y\",\"type\":\"scatter\"},{\"customdata\":[[110],[100],[110],[100],[110],[110],[110],[80],[90],[90],[110]],\"hovertemplate\":\"\\u003cb\\u003e%{hovertext}\\u003c\\u002fb\\u003e\\u003cbr\\u003e\\u003cbr\\u003eshelf=Bottom\\u003cbr\\u003efat=0\\u003cbr\\u003esugars=%{x}\\u003cbr\\u003erating=%{y}\\u003cbr\\u003ecups=%{marker.size}\\u003cbr\\u003ecalories=%{customdata[0]}\\u003cextra\\u003e\\u003c\\u002fextra\\u003e\",\"hovertext\":[\"Corn Chex\",\"Corn Flakes\",\"Frosted Flakes\",\"Golden Crisp\",\"Honey-comb\",\"Rice Chex\",\"Rice Krispies\",\"Shredded Wheat\",\"Shredded Wheat 'n'Bran\",\"Shredded Wheat spoon size\",\"Special K\"],\"ids\":[\"Corn Chex\",\"Corn Flakes\",\"Frosted Flakes\",\"Golden Crisp\",\"Honey-comb\",\"Rice Chex\",\"Rice Krispies\",\"Shredded Wheat\",\"Shredded Wheat 'n'Bran\",\"Shredded Wheat spoon size\",\"Special K\"],\"legendgroup\":\"Bottom\",\"marker\":{\"color\":\"#EF553B\",\"size\":[1.0,1.0,0.75,0.88,1.33,1.13,1.0,1.0,0.67,0.67,1.0],\"sizemode\":\"area\",\"sizeref\":0.00375,\"symbol\":\"circle\"},\"mode\":\"markers\",\"name\":\"Bottom\",\"orientation\":\"v\",\"showlegend\":true,\"x\":[3,2,11,15,11,2,3,0,0,0,3],\"xaxis\":\"x\",\"y\":[41.45,45.86,31.44,35.25,28.74,42.0,40.56,68.24,74.47,72.8,53.13],\"yaxis\":\"y\",\"type\":\"scatter\"},{\"customdata\":[[110],[110],[100],[100],[90]],\"hovertemplate\":\"\\u003cb\\u003e%{hovertext}\\u003c\\u002fb\\u003e\\u003cbr\\u003e\\u003cbr\\u003eshelf=Middle\\u003cbr\\u003efat=0\\u003cbr\\u003esugars=%{x}\\u003cbr\\u003erating=%{y}\\u003cbr\\u003ecups=%{marker.size}\\u003cbr\\u003ecalories=%{customdata[0]}\\u003cextra\\u003e\\u003c\\u002fextra\\u003e\",\"hovertext\":[\"Apple Jacks\",\"Corn Pops\",\"Cream of Wheat (Quick)\",\"Frosted Mini-Wheats\",\"Strawberry Fruit Wheats\"],\"ids\":[\"Apple Jacks\",\"Corn Pops\",\"Cream of Wheat (Quick)\",\"Frosted Mini-Wheats\",\"Strawberry Fruit Wheats\"],\"legendgroup\":\"Middle\",\"marker\":{\"color\":\"#00cc96\",\"size\":[1.0,1.0,1.0,0.8,1.0],\"sizemode\":\"area\",\"sizeref\":0.00375,\"symbol\":\"circle\"},\"mode\":\"markers\",\"name\":\"Middle\",\"orientation\":\"v\",\"showlegend\":true,\"x\":[14,12,0,7,5],\"xaxis\":\"x\",\"y\":[33.17,35.78,64.53,58.35,59.36],\"yaxis\":\"y\",\"type\":\"scatter\"}],\"name\":\"0\"},{\"data\":[{\"customdata\":[[110],[130],[110],[120],[160],[140],[130],[100]],\"hovertemplate\":\"\\u003cb\\u003e%{hovertext}\\u003c\\u002fb\\u003e\\u003cbr\\u003e\\u003cbr\\u003eshelf=Top\\u003cbr\\u003efat=2\\u003cbr\\u003esugars=%{x}\\u003cbr\\u003erating=%{y}\\u003cbr\\u003ecups=%{marker.size}\\u003cbr\\u003ecalories=%{customdata[0]}\\u003cextra\\u003e\\u003c\\u002fextra\\u003e\",\"hovertext\":[\"Almond Delight\",\"Basic 4\",\"Clusters\",\"Fruit & Fibre Dates, Walnuts, and Oats\",\"Mueslix Crispy Blend\",\"Nutri-Grain Almond-Raisin\",\"Oatmeal Raisin Crisp\",\"Raisin Nut Bran\"],\"ids\":[\"Almond Delight\",\"Basic 4\",\"Clusters\",\"Fruit & Fibre Dates, Walnuts, and Oats\",\"Mueslix Crispy Blend\",\"Nutri-Grain Almond-Raisin\",\"Oatmeal Raisin Crisp\",\"Raisin Nut Bran\"],\"legendgroup\":\"Top\",\"marker\":{\"color\":\"#636efa\",\"size\":[0.75,0.75,0.5,0.67,0.67,0.67,0.5,0.5],\"sizemode\":\"area\",\"sizeref\":0.00375,\"symbol\":\"circle\"},\"mode\":\"markers\",\"name\":\"Top\",\"orientation\":\"v\",\"showlegend\":true,\"x\":[8,8,7,10,13,7,10,8],\"xaxis\":\"x\",\"y\":[34.38,37.04,40.4,40.92,30.31,40.69,30.45,39.7],\"yaxis\":\"y\",\"type\":\"scatter\"},{\"customdata\":[[110],[110],[100]],\"hovertemplate\":\"\\u003cb\\u003e%{hovertext}\\u003c\\u002fb\\u003e\\u003cbr\\u003e\\u003cbr\\u003eshelf=Bottom\\u003cbr\\u003efat=2\\u003cbr\\u003esugars=%{x}\\u003cbr\\u003erating=%{y}\\u003cbr\\u003ecups=%{marker.size}\\u003cbr\\u003ecalories=%{customdata[0]}\\u003cextra\\u003e\\u003c\\u002fextra\\u003e\",\"hovertext\":[\"Apple Cinnamon Cheerios\",\"Cheerios\",\"Quaker Oatmeal\"],\"ids\":[\"Apple Cinnamon Cheerios\",\"Cheerios\",\"Quaker Oatmeal\"],\"legendgroup\":\"Bottom\",\"marker\":{\"color\":\"#EF553B\",\"size\":[0.75,1.25,0.67],\"sizemode\":\"area\",\"sizeref\":0.00375,\"symbol\":\"circle\"},\"mode\":\"markers\",\"name\":\"Bottom\",\"orientation\":\"v\",\"showlegend\":true,\"x\":[10,1,-1],\"xaxis\":\"x\",\"y\":[29.51,50.76,50.83],\"yaxis\":\"y\",\"type\":\"scatter\"},{\"customdata\":[[120],[120],[100]],\"hovertemplate\":\"\\u003cb\\u003e%{hovertext}\\u003c\\u002fb\\u003e\\u003cbr\\u003e\\u003cbr\\u003eshelf=Middle\\u003cbr\\u003efat=2\\u003cbr\\u003esugars=%{x}\\u003cbr\\u003erating=%{y}\\u003cbr\\u003ecups=%{marker.size}\\u003cbr\\u003ecalories=%{customdata[0]}\\u003cextra\\u003e\\u003c\\u002fextra\\u003e\",\"hovertext\":[\"Cap'n'Crunch\",\"Honey Graham Ohs\",\"Life\"],\"ids\":[\"Cap'n'Crunch\",\"Honey Graham Ohs\",\"Life\"],\"legendgroup\":\"Middle\",\"marker\":{\"color\":\"#00cc96\",\"size\":[0.75,1.0,0.67],\"sizemode\":\"area\",\"sizeref\":0.00375,\"symbol\":\"circle\"},\"mode\":\"markers\",\"name\":\"Middle\",\"orientation\":\"v\",\"showlegend\":true,\"x\":[12,11,6],\"xaxis\":\"x\",\"y\":[18.04,21.87,45.33],\"yaxis\":\"y\",\"type\":\"scatter\"}],\"name\":\"2\"},{\"data\":[{\"customdata\":[[110],[120],[150],[150]],\"hovertemplate\":\"\\u003cb\\u003e%{hovertext}\\u003c\\u002fb\\u003e\\u003cbr\\u003e\\u003cbr\\u003eshelf=Top\\u003cbr\\u003efat=3\\u003cbr\\u003esugars=%{x}\\u003cbr\\u003erating=%{y}\\u003cbr\\u003ecups=%{marker.size}\\u003cbr\\u003ecalories=%{customdata[0]}\\u003cextra\\u003e\\u003c\\u002fextra\\u003e\",\"hovertext\":[\"Cracklin' Oat Bran\",\"Great Grains Pecan\",\"Muesli Raisins, Dates, & Almonds\",\"Muesli Raisins, Peaches, & Pecans\"],\"ids\":[\"Cracklin' Oat Bran\",\"Great Grains Pecan\",\"Muesli Raisins, Dates, & Almonds\",\"Muesli Raisins, Peaches, & Pecans\"],\"legendgroup\":\"Top\",\"marker\":{\"color\":\"#636efa\",\"size\":[0.5,0.33,1.0,1.0],\"sizemode\":\"area\",\"sizeref\":0.00375,\"symbol\":\"circle\"},\"mode\":\"markers\",\"name\":\"Top\",\"orientation\":\"v\",\"showlegend\":true,\"x\":[7,4,11,11],\"xaxis\":\"x\",\"y\":[40.45,45.81,37.14,34.14],\"yaxis\":\"y\",\"type\":\"scatter\"},{\"customdata\":[[120]],\"hovertemplate\":\"\\u003cb\\u003e%{hovertext}\\u003c\\u002fb\\u003e\\u003cbr\\u003e\\u003cbr\\u003eshelf=Middle\\u003cbr\\u003efat=3\\u003cbr\\u003esugars=%{x}\\u003cbr\\u003erating=%{y}\\u003cbr\\u003ecups=%{marker.size}\\u003cbr\\u003ecalories=%{customdata[0]}\\u003cextra\\u003e\\u003c\\u002fextra\\u003e\",\"hovertext\":[\"Cinnamon Toast Crunch\"],\"ids\":[\"Cinnamon Toast Crunch\"],\"legendgroup\":\"Middle\",\"marker\":{\"color\":\"#00cc96\",\"size\":[0.75],\"sizemode\":\"area\",\"sizeref\":0.00375,\"symbol\":\"circle\"},\"mode\":\"markers\",\"name\":\"Middle\",\"orientation\":\"v\",\"showlegend\":true,\"x\":[9],\"xaxis\":\"x\",\"y\":[19.82],\"yaxis\":\"y\",\"type\":\"scatter\"}],\"name\":\"3\"}]);\n",
              "                        }).then(function(){\n",
              "                            \n",
              "var gd = document.getElementById('8b6d05b7-03de-4c30-99b8-b735f8acdae9');\n",
              "var x = new MutationObserver(function (mutations, observer) {{\n",
              "        var display = window.getComputedStyle(gd).display;\n",
              "        if (!display || display === 'none') {{\n",
              "            console.log([gd, 'removed!']);\n",
              "            Plotly.purge(gd);\n",
              "            observer.disconnect();\n",
              "        }}\n",
              "}});\n",
              "\n",
              "// Listen for the removal of the full notebook cells\n",
              "var notebookContainer = gd.closest('#notebook-container');\n",
              "if (notebookContainer) {{\n",
              "    x.observe(notebookContainer, {childList: true});\n",
              "}}\n",
              "\n",
              "// Listen for the clearing of the current output cell\n",
              "var outputEl = gd.closest('.output');\n",
              "if (outputEl) {{\n",
              "    x.observe(outputEl, {childList: true});\n",
              "}}\n",
              "\n",
              "                        })                };                            </script>        </div>\n",
              "</body>\n",
              "</html>"
            ]
          },
          "metadata": {}
        }
      ]
    },
    {
      "cell_type": "code",
      "source": [
        "fig = px.box(df,\n",
        "                x='sugars',\n",
        "                y='rating',\n",
        "                hover_name='name',\n",
        "                title='Cereal ratings vs. sugars',\n",
        "                points='all')\n",
        "\n",
        "fig.show()"
      ],
      "metadata": {
        "id": "ki_FBJWLrMCx",
        "colab": {
          "base_uri": "https://localhost:8080/",
          "height": 542
        },
        "outputId": "d2fce60d-0d33-48bc-9210-75540e05f149"
      },
      "execution_count": null,
      "outputs": [
        {
          "output_type": "display_data",
          "data": {
            "text/html": [
              "<html>\n",
              "<head><meta charset=\"utf-8\" /></head>\n",
              "<body>\n",
              "    <div>            <script src=\"https://cdnjs.cloudflare.com/ajax/libs/mathjax/2.7.5/MathJax.js?config=TeX-AMS-MML_SVG\"></script><script type=\"text/javascript\">if (window.MathJax && window.MathJax.Hub && window.MathJax.Hub.Config) {window.MathJax.Hub.Config({SVG: {font: \"STIX-Web\"}});}</script>                <script type=\"text/javascript\">window.PlotlyConfig = {MathJaxConfig: 'local'};</script>\n",
              "        <script charset=\"utf-8\" src=\"https://cdn.plot.ly/plotly-2.35.2.min.js\"></script>                <div id=\"4ead43da-cbc9-4388-a70f-bf756692e002\" class=\"plotly-graph-div\" style=\"height:525px; width:100%;\"></div>            <script type=\"text/javascript\">                                    window.PLOTLYENV=window.PLOTLYENV || {};                                    if (document.getElementById(\"4ead43da-cbc9-4388-a70f-bf756692e002\")) {                    Plotly.newPlot(                        \"4ead43da-cbc9-4388-a70f-bf756692e002\",                        [{\"alignmentgroup\":\"True\",\"boxpoints\":\"all\",\"hovertemplate\":\"\\u003cb\\u003e%{hovertext}\\u003c\\u002fb\\u003e\\u003cbr\\u003e\\u003cbr\\u003esugars=%{x}\\u003cbr\\u003erating=%{y}\\u003cextra\\u003e\\u003c\\u002fextra\\u003e\",\"hovertext\":[\"100% Bran\",\"100% Natural Bran\",\"All-Bran\",\"All-Bran with Extra Fiber\",\"Almond Delight\",\"Apple Cinnamon Cheerios\",\"Apple Jacks\",\"Basic 4\",\"Bran Chex\",\"Bran Flakes\",\"Cap'n'Crunch\",\"Cheerios\",\"Cinnamon Toast Crunch\",\"Clusters\",\"Cocoa Puffs\",\"Corn Chex\",\"Corn Flakes\",\"Corn Pops\",\"Count Chocula\",\"Cracklin' Oat Bran\",\"Cream of Wheat (Quick)\",\"Crispix\",\"Crispy Wheat & Raisins\",\"Double Chex\",\"Froot Loops\",\"Frosted Flakes\",\"Frosted Mini-Wheats\",\"Fruit & Fibre Dates, Walnuts, and Oats\",\"Fruitful Bran\",\"Fruity Pebbles\",\"Golden Crisp\",\"Golden Grahams\",\"Grape Nuts Flakes\",\"Grape-Nuts\",\"Great Grains Pecan\",\"Honey Graham Ohs\",\"Honey Nut Cheerios\",\"Honey-comb\",\"Just Right Crunchy  Nuggets\",\"Just Right Fruit & Nut\",\"Kix\",\"Life\",\"Lucky Charms\",\"Maypo\",\"Muesli Raisins, Dates, & Almonds\",\"Muesli Raisins, Peaches, & Pecans\",\"Mueslix Crispy Blend\",\"Multi-Grain Cheerios\",\"Nut&Honey Crunch\",\"Nutri-Grain Almond-Raisin\",\"Nutri-grain Wheat\",\"Oatmeal Raisin Crisp\",\"Post Nat. Raisin Bran\",\"Product 19\",\"Puffed Rice\",\"Puffed Wheat\",\"Quaker Oat Squares\",\"Quaker Oatmeal\",\"Raisin Bran\",\"Raisin Nut Bran\",\"Raisin Squares\",\"Rice Chex\",\"Rice Krispies\",\"Shredded Wheat\",\"Shredded Wheat 'n'Bran\",\"Shredded Wheat spoon size\",\"Smacks\",\"Special K\",\"Strawberry Fruit Wheats\",\"Total Corn Flakes\",\"Total Raisin Bran\",\"Total Whole Grain\",\"Triples\",\"Trix\",\"Wheat Chex\",\"Wheaties\",\"Wheaties Honey Gold\"],\"legendgroup\":\"\",\"marker\":{\"color\":\"#636efa\"},\"name\":\"\",\"notched\":false,\"offsetgroup\":\"\",\"orientation\":\"v\",\"showlegend\":false,\"x\":[6,8,5,0,8,10,14,8,6,5,12,1,9,7,13,3,2,12,13,7,0,3,10,5,13,11,7,10,12,12,15,9,5,3,4,11,10,11,6,9,3,6,12,3,11,11,13,6,9,7,2,10,14,3,0,0,6,-1,12,8,6,2,3,0,0,0,15,3,5,3,14,3,3,12,3,3,8],\"x0\":\" \",\"xaxis\":\"x\",\"y\":[68.4,33.98,59.43,93.7,34.38,29.51,33.17,37.04,49.12,53.31,18.04,50.76,19.82,40.4,22.74,41.45,45.86,35.78,22.4,40.45,64.53,46.9,36.18,44.33,32.21,31.44,58.35,40.92,41.02,28.03,35.25,23.8,52.08,53.37,45.81,21.87,31.07,28.74,36.52,36.47,39.24,45.33,26.73,54.85,37.14,34.14,30.31,40.11,29.92,40.69,59.64,30.45,37.84,41.5,60.76,63.01,49.51,50.83,39.26,39.7,55.33,42.0,40.56,68.24,74.47,72.8,31.23,53.13,59.36,38.84,28.59,46.66,39.11,27.75,49.79,51.59,36.19],\"y0\":\" \",\"yaxis\":\"y\",\"type\":\"box\"}],                        {\"template\":{\"data\":{\"histogram2dcontour\":[{\"type\":\"histogram2dcontour\",\"colorbar\":{\"outlinewidth\":0,\"ticks\":\"\"},\"colorscale\":[[0.0,\"#0d0887\"],[0.1111111111111111,\"#46039f\"],[0.2222222222222222,\"#7201a8\"],[0.3333333333333333,\"#9c179e\"],[0.4444444444444444,\"#bd3786\"],[0.5555555555555556,\"#d8576b\"],[0.6666666666666666,\"#ed7953\"],[0.7777777777777778,\"#fb9f3a\"],[0.8888888888888888,\"#fdca26\"],[1.0,\"#f0f921\"]]}],\"choropleth\":[{\"type\":\"choropleth\",\"colorbar\":{\"outlinewidth\":0,\"ticks\":\"\"}}],\"histogram2d\":[{\"type\":\"histogram2d\",\"colorbar\":{\"outlinewidth\":0,\"ticks\":\"\"},\"colorscale\":[[0.0,\"#0d0887\"],[0.1111111111111111,\"#46039f\"],[0.2222222222222222,\"#7201a8\"],[0.3333333333333333,\"#9c179e\"],[0.4444444444444444,\"#bd3786\"],[0.5555555555555556,\"#d8576b\"],[0.6666666666666666,\"#ed7953\"],[0.7777777777777778,\"#fb9f3a\"],[0.8888888888888888,\"#fdca26\"],[1.0,\"#f0f921\"]]}],\"heatmap\":[{\"type\":\"heatmap\",\"colorbar\":{\"outlinewidth\":0,\"ticks\":\"\"},\"colorscale\":[[0.0,\"#0d0887\"],[0.1111111111111111,\"#46039f\"],[0.2222222222222222,\"#7201a8\"],[0.3333333333333333,\"#9c179e\"],[0.4444444444444444,\"#bd3786\"],[0.5555555555555556,\"#d8576b\"],[0.6666666666666666,\"#ed7953\"],[0.7777777777777778,\"#fb9f3a\"],[0.8888888888888888,\"#fdca26\"],[1.0,\"#f0f921\"]]}],\"heatmapgl\":[{\"type\":\"heatmapgl\",\"colorbar\":{\"outlinewidth\":0,\"ticks\":\"\"},\"colorscale\":[[0.0,\"#0d0887\"],[0.1111111111111111,\"#46039f\"],[0.2222222222222222,\"#7201a8\"],[0.3333333333333333,\"#9c179e\"],[0.4444444444444444,\"#bd3786\"],[0.5555555555555556,\"#d8576b\"],[0.6666666666666666,\"#ed7953\"],[0.7777777777777778,\"#fb9f3a\"],[0.8888888888888888,\"#fdca26\"],[1.0,\"#f0f921\"]]}],\"contourcarpet\":[{\"type\":\"contourcarpet\",\"colorbar\":{\"outlinewidth\":0,\"ticks\":\"\"}}],\"contour\":[{\"type\":\"contour\",\"colorbar\":{\"outlinewidth\":0,\"ticks\":\"\"},\"colorscale\":[[0.0,\"#0d0887\"],[0.1111111111111111,\"#46039f\"],[0.2222222222222222,\"#7201a8\"],[0.3333333333333333,\"#9c179e\"],[0.4444444444444444,\"#bd3786\"],[0.5555555555555556,\"#d8576b\"],[0.6666666666666666,\"#ed7953\"],[0.7777777777777778,\"#fb9f3a\"],[0.8888888888888888,\"#fdca26\"],[1.0,\"#f0f921\"]]}],\"surface\":[{\"type\":\"surface\",\"colorbar\":{\"outlinewidth\":0,\"ticks\":\"\"},\"colorscale\":[[0.0,\"#0d0887\"],[0.1111111111111111,\"#46039f\"],[0.2222222222222222,\"#7201a8\"],[0.3333333333333333,\"#9c179e\"],[0.4444444444444444,\"#bd3786\"],[0.5555555555555556,\"#d8576b\"],[0.6666666666666666,\"#ed7953\"],[0.7777777777777778,\"#fb9f3a\"],[0.8888888888888888,\"#fdca26\"],[1.0,\"#f0f921\"]]}],\"mesh3d\":[{\"type\":\"mesh3d\",\"colorbar\":{\"outlinewidth\":0,\"ticks\":\"\"}}],\"scatter\":[{\"fillpattern\":{\"fillmode\":\"overlay\",\"size\":10,\"solidity\":0.2},\"type\":\"scatter\"}],\"parcoords\":[{\"type\":\"parcoords\",\"line\":{\"colorbar\":{\"outlinewidth\":0,\"ticks\":\"\"}}}],\"scatterpolargl\":[{\"type\":\"scatterpolargl\",\"marker\":{\"colorbar\":{\"outlinewidth\":0,\"ticks\":\"\"}}}],\"bar\":[{\"error_x\":{\"color\":\"#2a3f5f\"},\"error_y\":{\"color\":\"#2a3f5f\"},\"marker\":{\"line\":{\"color\":\"#E5ECF6\",\"width\":0.5},\"pattern\":{\"fillmode\":\"overlay\",\"size\":10,\"solidity\":0.2}},\"type\":\"bar\"}],\"scattergeo\":[{\"type\":\"scattergeo\",\"marker\":{\"colorbar\":{\"outlinewidth\":0,\"ticks\":\"\"}}}],\"scatterpolar\":[{\"type\":\"scatterpolar\",\"marker\":{\"colorbar\":{\"outlinewidth\":0,\"ticks\":\"\"}}}],\"histogram\":[{\"marker\":{\"pattern\":{\"fillmode\":\"overlay\",\"size\":10,\"solidity\":0.2}},\"type\":\"histogram\"}],\"scattergl\":[{\"type\":\"scattergl\",\"marker\":{\"colorbar\":{\"outlinewidth\":0,\"ticks\":\"\"}}}],\"scatter3d\":[{\"type\":\"scatter3d\",\"line\":{\"colorbar\":{\"outlinewidth\":0,\"ticks\":\"\"}},\"marker\":{\"colorbar\":{\"outlinewidth\":0,\"ticks\":\"\"}}}],\"scattermapbox\":[{\"type\":\"scattermapbox\",\"marker\":{\"colorbar\":{\"outlinewidth\":0,\"ticks\":\"\"}}}],\"scatterternary\":[{\"type\":\"scatterternary\",\"marker\":{\"colorbar\":{\"outlinewidth\":0,\"ticks\":\"\"}}}],\"scattercarpet\":[{\"type\":\"scattercarpet\",\"marker\":{\"colorbar\":{\"outlinewidth\":0,\"ticks\":\"\"}}}],\"carpet\":[{\"aaxis\":{\"endlinecolor\":\"#2a3f5f\",\"gridcolor\":\"white\",\"linecolor\":\"white\",\"minorgridcolor\":\"white\",\"startlinecolor\":\"#2a3f5f\"},\"baxis\":{\"endlinecolor\":\"#2a3f5f\",\"gridcolor\":\"white\",\"linecolor\":\"white\",\"minorgridcolor\":\"white\",\"startlinecolor\":\"#2a3f5f\"},\"type\":\"carpet\"}],\"table\":[{\"cells\":{\"fill\":{\"color\":\"#EBF0F8\"},\"line\":{\"color\":\"white\"}},\"header\":{\"fill\":{\"color\":\"#C8D4E3\"},\"line\":{\"color\":\"white\"}},\"type\":\"table\"}],\"barpolar\":[{\"marker\":{\"line\":{\"color\":\"#E5ECF6\",\"width\":0.5},\"pattern\":{\"fillmode\":\"overlay\",\"size\":10,\"solidity\":0.2}},\"type\":\"barpolar\"}],\"pie\":[{\"automargin\":true,\"type\":\"pie\"}]},\"layout\":{\"autotypenumbers\":\"strict\",\"colorway\":[\"#636efa\",\"#EF553B\",\"#00cc96\",\"#ab63fa\",\"#FFA15A\",\"#19d3f3\",\"#FF6692\",\"#B6E880\",\"#FF97FF\",\"#FECB52\"],\"font\":{\"color\":\"#2a3f5f\"},\"hovermode\":\"closest\",\"hoverlabel\":{\"align\":\"left\"},\"paper_bgcolor\":\"white\",\"plot_bgcolor\":\"#E5ECF6\",\"polar\":{\"bgcolor\":\"#E5ECF6\",\"angularaxis\":{\"gridcolor\":\"white\",\"linecolor\":\"white\",\"ticks\":\"\"},\"radialaxis\":{\"gridcolor\":\"white\",\"linecolor\":\"white\",\"ticks\":\"\"}},\"ternary\":{\"bgcolor\":\"#E5ECF6\",\"aaxis\":{\"gridcolor\":\"white\",\"linecolor\":\"white\",\"ticks\":\"\"},\"baxis\":{\"gridcolor\":\"white\",\"linecolor\":\"white\",\"ticks\":\"\"},\"caxis\":{\"gridcolor\":\"white\",\"linecolor\":\"white\",\"ticks\":\"\"}},\"coloraxis\":{\"colorbar\":{\"outlinewidth\":0,\"ticks\":\"\"}},\"colorscale\":{\"sequential\":[[0.0,\"#0d0887\"],[0.1111111111111111,\"#46039f\"],[0.2222222222222222,\"#7201a8\"],[0.3333333333333333,\"#9c179e\"],[0.4444444444444444,\"#bd3786\"],[0.5555555555555556,\"#d8576b\"],[0.6666666666666666,\"#ed7953\"],[0.7777777777777778,\"#fb9f3a\"],[0.8888888888888888,\"#fdca26\"],[1.0,\"#f0f921\"]],\"sequentialminus\":[[0.0,\"#0d0887\"],[0.1111111111111111,\"#46039f\"],[0.2222222222222222,\"#7201a8\"],[0.3333333333333333,\"#9c179e\"],[0.4444444444444444,\"#bd3786\"],[0.5555555555555556,\"#d8576b\"],[0.6666666666666666,\"#ed7953\"],[0.7777777777777778,\"#fb9f3a\"],[0.8888888888888888,\"#fdca26\"],[1.0,\"#f0f921\"]],\"diverging\":[[0,\"#8e0152\"],[0.1,\"#c51b7d\"],[0.2,\"#de77ae\"],[0.3,\"#f1b6da\"],[0.4,\"#fde0ef\"],[0.5,\"#f7f7f7\"],[0.6,\"#e6f5d0\"],[0.7,\"#b8e186\"],[0.8,\"#7fbc41\"],[0.9,\"#4d9221\"],[1,\"#276419\"]]},\"xaxis\":{\"gridcolor\":\"white\",\"linecolor\":\"white\",\"ticks\":\"\",\"title\":{\"standoff\":15},\"zerolinecolor\":\"white\",\"automargin\":true,\"zerolinewidth\":2},\"yaxis\":{\"gridcolor\":\"white\",\"linecolor\":\"white\",\"ticks\":\"\",\"title\":{\"standoff\":15},\"zerolinecolor\":\"white\",\"automargin\":true,\"zerolinewidth\":2},\"scene\":{\"xaxis\":{\"backgroundcolor\":\"#E5ECF6\",\"gridcolor\":\"white\",\"linecolor\":\"white\",\"showbackground\":true,\"ticks\":\"\",\"zerolinecolor\":\"white\",\"gridwidth\":2},\"yaxis\":{\"backgroundcolor\":\"#E5ECF6\",\"gridcolor\":\"white\",\"linecolor\":\"white\",\"showbackground\":true,\"ticks\":\"\",\"zerolinecolor\":\"white\",\"gridwidth\":2},\"zaxis\":{\"backgroundcolor\":\"#E5ECF6\",\"gridcolor\":\"white\",\"linecolor\":\"white\",\"showbackground\":true,\"ticks\":\"\",\"zerolinecolor\":\"white\",\"gridwidth\":2}},\"shapedefaults\":{\"line\":{\"color\":\"#2a3f5f\"}},\"annotationdefaults\":{\"arrowcolor\":\"#2a3f5f\",\"arrowhead\":0,\"arrowwidth\":1},\"geo\":{\"bgcolor\":\"white\",\"landcolor\":\"#E5ECF6\",\"subunitcolor\":\"white\",\"showland\":true,\"showlakes\":true,\"lakecolor\":\"white\"},\"title\":{\"x\":0.05},\"mapbox\":{\"style\":\"light\"}}},\"xaxis\":{\"anchor\":\"y\",\"domain\":[0.0,1.0],\"title\":{\"text\":\"sugars\"}},\"yaxis\":{\"anchor\":\"x\",\"domain\":[0.0,1.0],\"title\":{\"text\":\"rating\"}},\"legend\":{\"tracegroupgap\":0},\"title\":{\"text\":\"Cereal ratings vs. sugars\"},\"boxmode\":\"group\"},                        {\"responsive\": true}                    ).then(function(){\n",
              "                            \n",
              "var gd = document.getElementById('4ead43da-cbc9-4388-a70f-bf756692e002');\n",
              "var x = new MutationObserver(function (mutations, observer) {{\n",
              "        var display = window.getComputedStyle(gd).display;\n",
              "        if (!display || display === 'none') {{\n",
              "            console.log([gd, 'removed!']);\n",
              "            Plotly.purge(gd);\n",
              "            observer.disconnect();\n",
              "        }}\n",
              "}});\n",
              "\n",
              "// Listen for the removal of the full notebook cells\n",
              "var notebookContainer = gd.closest('#notebook-container');\n",
              "if (notebookContainer) {{\n",
              "    x.observe(notebookContainer, {childList: true});\n",
              "}}\n",
              "\n",
              "// Listen for the clearing of the current output cell\n",
              "var outputEl = gd.closest('.output');\n",
              "if (outputEl) {{\n",
              "    x.observe(outputEl, {childList: true});\n",
              "}}\n",
              "\n",
              "                        })                };                            </script>        </div>\n",
              "</body>\n",
              "</html>"
            ]
          },
          "metadata": {}
        }
      ]
    },
    {
      "cell_type": "code",
      "source": [
        "fig = px.histogram(df, x='rating', title='Rating distribution',nbins=10,#cumulative=True)\n",
        "\n",
        "fig.show()"
      ],
      "metadata": {
        "id": "R6xpYtyZguC2",
        "colab": {
          "base_uri": "https://localhost:8080/",
          "height": 542
        },
        "outputId": "2cbe7ba3-66e4-4c63-8bbf-c0af0c90670d"
      },
      "execution_count": null,
      "outputs": [
        {
          "output_type": "display_data",
          "data": {
            "text/html": [
              "<html>\n",
              "<head><meta charset=\"utf-8\" /></head>\n",
              "<body>\n",
              "    <div>            <script src=\"https://cdnjs.cloudflare.com/ajax/libs/mathjax/2.7.5/MathJax.js?config=TeX-AMS-MML_SVG\"></script><script type=\"text/javascript\">if (window.MathJax && window.MathJax.Hub && window.MathJax.Hub.Config) {window.MathJax.Hub.Config({SVG: {font: \"STIX-Web\"}});}</script>                <script type=\"text/javascript\">window.PlotlyConfig = {MathJaxConfig: 'local'};</script>\n",
              "        <script charset=\"utf-8\" src=\"https://cdn.plot.ly/plotly-2.35.2.min.js\"></script>                <div id=\"53402591-45ab-4c06-b65a-f0b5cd5b646e\" class=\"plotly-graph-div\" style=\"height:525px; width:100%;\"></div>            <script type=\"text/javascript\">                                    window.PLOTLYENV=window.PLOTLYENV || {};                                    if (document.getElementById(\"53402591-45ab-4c06-b65a-f0b5cd5b646e\")) {                    Plotly.newPlot(                        \"53402591-45ab-4c06-b65a-f0b5cd5b646e\",                        [{\"alignmentgroup\":\"True\",\"bingroup\":\"x\",\"cumulative\":{\"enabled\":true},\"hovertemplate\":\"rating=%{x}\\u003cbr\\u003ecount=%{y}\\u003cextra\\u003e\\u003c\\u002fextra\\u003e\",\"legendgroup\":\"\",\"marker\":{\"color\":\"#636efa\",\"pattern\":{\"shape\":\"\"}},\"name\":\"\",\"nbinsx\":10,\"offsetgroup\":\"\",\"orientation\":\"v\",\"showlegend\":false,\"x\":[68.4,33.98,59.43,93.7,34.38,29.51,33.17,37.04,49.12,53.31,18.04,50.76,19.82,40.4,22.74,41.45,45.86,35.78,22.4,40.45,64.53,46.9,36.18,44.33,32.21,31.44,58.35,40.92,41.02,28.03,35.25,23.8,52.08,53.37,45.81,21.87,31.07,28.74,36.52,36.47,39.24,45.33,26.73,54.85,37.14,34.14,30.31,40.11,29.92,40.69,59.64,30.45,37.84,41.5,60.76,63.01,49.51,50.83,39.26,39.7,55.33,42.0,40.56,68.24,74.47,72.8,31.23,53.13,59.36,38.84,28.59,46.66,39.11,27.75,49.79,51.59,36.19],\"xaxis\":\"x\",\"yaxis\":\"y\",\"type\":\"histogram\"}],                        {\"template\":{\"data\":{\"histogram2dcontour\":[{\"type\":\"histogram2dcontour\",\"colorbar\":{\"outlinewidth\":0,\"ticks\":\"\"},\"colorscale\":[[0.0,\"#0d0887\"],[0.1111111111111111,\"#46039f\"],[0.2222222222222222,\"#7201a8\"],[0.3333333333333333,\"#9c179e\"],[0.4444444444444444,\"#bd3786\"],[0.5555555555555556,\"#d8576b\"],[0.6666666666666666,\"#ed7953\"],[0.7777777777777778,\"#fb9f3a\"],[0.8888888888888888,\"#fdca26\"],[1.0,\"#f0f921\"]]}],\"choropleth\":[{\"type\":\"choropleth\",\"colorbar\":{\"outlinewidth\":0,\"ticks\":\"\"}}],\"histogram2d\":[{\"type\":\"histogram2d\",\"colorbar\":{\"outlinewidth\":0,\"ticks\":\"\"},\"colorscale\":[[0.0,\"#0d0887\"],[0.1111111111111111,\"#46039f\"],[0.2222222222222222,\"#7201a8\"],[0.3333333333333333,\"#9c179e\"],[0.4444444444444444,\"#bd3786\"],[0.5555555555555556,\"#d8576b\"],[0.6666666666666666,\"#ed7953\"],[0.7777777777777778,\"#fb9f3a\"],[0.8888888888888888,\"#fdca26\"],[1.0,\"#f0f921\"]]}],\"heatmap\":[{\"type\":\"heatmap\",\"colorbar\":{\"outlinewidth\":0,\"ticks\":\"\"},\"colorscale\":[[0.0,\"#0d0887\"],[0.1111111111111111,\"#46039f\"],[0.2222222222222222,\"#7201a8\"],[0.3333333333333333,\"#9c179e\"],[0.4444444444444444,\"#bd3786\"],[0.5555555555555556,\"#d8576b\"],[0.6666666666666666,\"#ed7953\"],[0.7777777777777778,\"#fb9f3a\"],[0.8888888888888888,\"#fdca26\"],[1.0,\"#f0f921\"]]}],\"heatmapgl\":[{\"type\":\"heatmapgl\",\"colorbar\":{\"outlinewidth\":0,\"ticks\":\"\"},\"colorscale\":[[0.0,\"#0d0887\"],[0.1111111111111111,\"#46039f\"],[0.2222222222222222,\"#7201a8\"],[0.3333333333333333,\"#9c179e\"],[0.4444444444444444,\"#bd3786\"],[0.5555555555555556,\"#d8576b\"],[0.6666666666666666,\"#ed7953\"],[0.7777777777777778,\"#fb9f3a\"],[0.8888888888888888,\"#fdca26\"],[1.0,\"#f0f921\"]]}],\"contourcarpet\":[{\"type\":\"contourcarpet\",\"colorbar\":{\"outlinewidth\":0,\"ticks\":\"\"}}],\"contour\":[{\"type\":\"contour\",\"colorbar\":{\"outlinewidth\":0,\"ticks\":\"\"},\"colorscale\":[[0.0,\"#0d0887\"],[0.1111111111111111,\"#46039f\"],[0.2222222222222222,\"#7201a8\"],[0.3333333333333333,\"#9c179e\"],[0.4444444444444444,\"#bd3786\"],[0.5555555555555556,\"#d8576b\"],[0.6666666666666666,\"#ed7953\"],[0.7777777777777778,\"#fb9f3a\"],[0.8888888888888888,\"#fdca26\"],[1.0,\"#f0f921\"]]}],\"surface\":[{\"type\":\"surface\",\"colorbar\":{\"outlinewidth\":0,\"ticks\":\"\"},\"colorscale\":[[0.0,\"#0d0887\"],[0.1111111111111111,\"#46039f\"],[0.2222222222222222,\"#7201a8\"],[0.3333333333333333,\"#9c179e\"],[0.4444444444444444,\"#bd3786\"],[0.5555555555555556,\"#d8576b\"],[0.6666666666666666,\"#ed7953\"],[0.7777777777777778,\"#fb9f3a\"],[0.8888888888888888,\"#fdca26\"],[1.0,\"#f0f921\"]]}],\"mesh3d\":[{\"type\":\"mesh3d\",\"colorbar\":{\"outlinewidth\":0,\"ticks\":\"\"}}],\"scatter\":[{\"fillpattern\":{\"fillmode\":\"overlay\",\"size\":10,\"solidity\":0.2},\"type\":\"scatter\"}],\"parcoords\":[{\"type\":\"parcoords\",\"line\":{\"colorbar\":{\"outlinewidth\":0,\"ticks\":\"\"}}}],\"scatterpolargl\":[{\"type\":\"scatterpolargl\",\"marker\":{\"colorbar\":{\"outlinewidth\":0,\"ticks\":\"\"}}}],\"bar\":[{\"error_x\":{\"color\":\"#2a3f5f\"},\"error_y\":{\"color\":\"#2a3f5f\"},\"marker\":{\"line\":{\"color\":\"#E5ECF6\",\"width\":0.5},\"pattern\":{\"fillmode\":\"overlay\",\"size\":10,\"solidity\":0.2}},\"type\":\"bar\"}],\"scattergeo\":[{\"type\":\"scattergeo\",\"marker\":{\"colorbar\":{\"outlinewidth\":0,\"ticks\":\"\"}}}],\"scatterpolar\":[{\"type\":\"scatterpolar\",\"marker\":{\"colorbar\":{\"outlinewidth\":0,\"ticks\":\"\"}}}],\"histogram\":[{\"marker\":{\"pattern\":{\"fillmode\":\"overlay\",\"size\":10,\"solidity\":0.2}},\"type\":\"histogram\"}],\"scattergl\":[{\"type\":\"scattergl\",\"marker\":{\"colorbar\":{\"outlinewidth\":0,\"ticks\":\"\"}}}],\"scatter3d\":[{\"type\":\"scatter3d\",\"line\":{\"colorbar\":{\"outlinewidth\":0,\"ticks\":\"\"}},\"marker\":{\"colorbar\":{\"outlinewidth\":0,\"ticks\":\"\"}}}],\"scattermapbox\":[{\"type\":\"scattermapbox\",\"marker\":{\"colorbar\":{\"outlinewidth\":0,\"ticks\":\"\"}}}],\"scatterternary\":[{\"type\":\"scatterternary\",\"marker\":{\"colorbar\":{\"outlinewidth\":0,\"ticks\":\"\"}}}],\"scattercarpet\":[{\"type\":\"scattercarpet\",\"marker\":{\"colorbar\":{\"outlinewidth\":0,\"ticks\":\"\"}}}],\"carpet\":[{\"aaxis\":{\"endlinecolor\":\"#2a3f5f\",\"gridcolor\":\"white\",\"linecolor\":\"white\",\"minorgridcolor\":\"white\",\"startlinecolor\":\"#2a3f5f\"},\"baxis\":{\"endlinecolor\":\"#2a3f5f\",\"gridcolor\":\"white\",\"linecolor\":\"white\",\"minorgridcolor\":\"white\",\"startlinecolor\":\"#2a3f5f\"},\"type\":\"carpet\"}],\"table\":[{\"cells\":{\"fill\":{\"color\":\"#EBF0F8\"},\"line\":{\"color\":\"white\"}},\"header\":{\"fill\":{\"color\":\"#C8D4E3\"},\"line\":{\"color\":\"white\"}},\"type\":\"table\"}],\"barpolar\":[{\"marker\":{\"line\":{\"color\":\"#E5ECF6\",\"width\":0.5},\"pattern\":{\"fillmode\":\"overlay\",\"size\":10,\"solidity\":0.2}},\"type\":\"barpolar\"}],\"pie\":[{\"automargin\":true,\"type\":\"pie\"}]},\"layout\":{\"autotypenumbers\":\"strict\",\"colorway\":[\"#636efa\",\"#EF553B\",\"#00cc96\",\"#ab63fa\",\"#FFA15A\",\"#19d3f3\",\"#FF6692\",\"#B6E880\",\"#FF97FF\",\"#FECB52\"],\"font\":{\"color\":\"#2a3f5f\"},\"hovermode\":\"closest\",\"hoverlabel\":{\"align\":\"left\"},\"paper_bgcolor\":\"white\",\"plot_bgcolor\":\"#E5ECF6\",\"polar\":{\"bgcolor\":\"#E5ECF6\",\"angularaxis\":{\"gridcolor\":\"white\",\"linecolor\":\"white\",\"ticks\":\"\"},\"radialaxis\":{\"gridcolor\":\"white\",\"linecolor\":\"white\",\"ticks\":\"\"}},\"ternary\":{\"bgcolor\":\"#E5ECF6\",\"aaxis\":{\"gridcolor\":\"white\",\"linecolor\":\"white\",\"ticks\":\"\"},\"baxis\":{\"gridcolor\":\"white\",\"linecolor\":\"white\",\"ticks\":\"\"},\"caxis\":{\"gridcolor\":\"white\",\"linecolor\":\"white\",\"ticks\":\"\"}},\"coloraxis\":{\"colorbar\":{\"outlinewidth\":0,\"ticks\":\"\"}},\"colorscale\":{\"sequential\":[[0.0,\"#0d0887\"],[0.1111111111111111,\"#46039f\"],[0.2222222222222222,\"#7201a8\"],[0.3333333333333333,\"#9c179e\"],[0.4444444444444444,\"#bd3786\"],[0.5555555555555556,\"#d8576b\"],[0.6666666666666666,\"#ed7953\"],[0.7777777777777778,\"#fb9f3a\"],[0.8888888888888888,\"#fdca26\"],[1.0,\"#f0f921\"]],\"sequentialminus\":[[0.0,\"#0d0887\"],[0.1111111111111111,\"#46039f\"],[0.2222222222222222,\"#7201a8\"],[0.3333333333333333,\"#9c179e\"],[0.4444444444444444,\"#bd3786\"],[0.5555555555555556,\"#d8576b\"],[0.6666666666666666,\"#ed7953\"],[0.7777777777777778,\"#fb9f3a\"],[0.8888888888888888,\"#fdca26\"],[1.0,\"#f0f921\"]],\"diverging\":[[0,\"#8e0152\"],[0.1,\"#c51b7d\"],[0.2,\"#de77ae\"],[0.3,\"#f1b6da\"],[0.4,\"#fde0ef\"],[0.5,\"#f7f7f7\"],[0.6,\"#e6f5d0\"],[0.7,\"#b8e186\"],[0.8,\"#7fbc41\"],[0.9,\"#4d9221\"],[1,\"#276419\"]]},\"xaxis\":{\"gridcolor\":\"white\",\"linecolor\":\"white\",\"ticks\":\"\",\"title\":{\"standoff\":15},\"zerolinecolor\":\"white\",\"automargin\":true,\"zerolinewidth\":2},\"yaxis\":{\"gridcolor\":\"white\",\"linecolor\":\"white\",\"ticks\":\"\",\"title\":{\"standoff\":15},\"zerolinecolor\":\"white\",\"automargin\":true,\"zerolinewidth\":2},\"scene\":{\"xaxis\":{\"backgroundcolor\":\"#E5ECF6\",\"gridcolor\":\"white\",\"linecolor\":\"white\",\"showbackground\":true,\"ticks\":\"\",\"zerolinecolor\":\"white\",\"gridwidth\":2},\"yaxis\":{\"backgroundcolor\":\"#E5ECF6\",\"gridcolor\":\"white\",\"linecolor\":\"white\",\"showbackground\":true,\"ticks\":\"\",\"zerolinecolor\":\"white\",\"gridwidth\":2},\"zaxis\":{\"backgroundcolor\":\"#E5ECF6\",\"gridcolor\":\"white\",\"linecolor\":\"white\",\"showbackground\":true,\"ticks\":\"\",\"zerolinecolor\":\"white\",\"gridwidth\":2}},\"shapedefaults\":{\"line\":{\"color\":\"#2a3f5f\"}},\"annotationdefaults\":{\"arrowcolor\":\"#2a3f5f\",\"arrowhead\":0,\"arrowwidth\":1},\"geo\":{\"bgcolor\":\"white\",\"landcolor\":\"#E5ECF6\",\"subunitcolor\":\"white\",\"showland\":true,\"showlakes\":true,\"lakecolor\":\"white\"},\"title\":{\"x\":0.05},\"mapbox\":{\"style\":\"light\"}}},\"xaxis\":{\"anchor\":\"y\",\"domain\":[0.0,1.0],\"title\":{\"text\":\"rating\"}},\"yaxis\":{\"anchor\":\"x\",\"domain\":[0.0,1.0],\"title\":{\"text\":\"count\"}},\"legend\":{\"tracegroupgap\":0},\"title\":{\"text\":\"Rating distribution\"},\"barmode\":\"relative\"},                        {\"responsive\": true}                    ).then(function(){\n",
              "                            \n",
              "var gd = document.getElementById('53402591-45ab-4c06-b65a-f0b5cd5b646e');\n",
              "var x = new MutationObserver(function (mutations, observer) {{\n",
              "        var display = window.getComputedStyle(gd).display;\n",
              "        if (!display || display === 'none') {{\n",
              "            console.log([gd, 'removed!']);\n",
              "            Plotly.purge(gd);\n",
              "            observer.disconnect();\n",
              "        }}\n",
              "}});\n",
              "\n",
              "// Listen for the removal of the full notebook cells\n",
              "var notebookContainer = gd.closest('#notebook-container');\n",
              "if (notebookContainer) {{\n",
              "    x.observe(notebookContainer, {childList: true});\n",
              "}}\n",
              "\n",
              "// Listen for the clearing of the current output cell\n",
              "var outputEl = gd.closest('.output');\n",
              "if (outputEl) {{\n",
              "    x.observe(outputEl, {childList: true});\n",
              "}}\n",
              "\n",
              "                        })                };                            </script>        </div>\n",
              "</body>\n",
              "</html>"
            ]
          },
          "metadata": {}
        }
      ]
    },
    {
      "cell_type": "code",
      "source": [
        "fig = px.scatter(df,\n",
        "                x='sugars',\n",
        "                y='rating',\n",
        "                color='mfr',\n",
        "                size='calories',\n",
        "                facet_row='shelf',\n",
        "                facet_col='type',\n",
        "                hover_name='name',\n",
        "                category_orders={'shelf': ['Top', 'Middle', 'Bottom']})\n",
        "fig.show()\n",
        "print(df.head())"
      ],
      "metadata": {
        "id": "Y4G2ASAtgySR",
        "colab": {
          "base_uri": "https://localhost:8080/",
          "height": 889
        },
        "outputId": "52e892ed-a2bd-4180-d066-b5755957fcf3"
      },
      "execution_count": null,
      "outputs": [
        {
          "output_type": "display_data",
          "data": {
            "text/html": [
              "<html>\n",
              "<head><meta charset=\"utf-8\" /></head>\n",
              "<body>\n",
              "    <div>            <script src=\"https://cdnjs.cloudflare.com/ajax/libs/mathjax/2.7.5/MathJax.js?config=TeX-AMS-MML_SVG\"></script><script type=\"text/javascript\">if (window.MathJax && window.MathJax.Hub && window.MathJax.Hub.Config) {window.MathJax.Hub.Config({SVG: {font: \"STIX-Web\"}});}</script>                <script type=\"text/javascript\">window.PlotlyConfig = {MathJaxConfig: 'local'};</script>\n",
              "        <script charset=\"utf-8\" src=\"https://cdn.plot.ly/plotly-2.24.1.min.js\"></script>                <div id=\"2b9d9bc6-437d-407e-b782-c1ca0eeabc30\" class=\"plotly-graph-div\" style=\"height:525px; width:100%;\"></div>            <script type=\"text/javascript\">                                    window.PLOTLYENV=window.PLOTLYENV || {};                                    if (document.getElementById(\"2b9d9bc6-437d-407e-b782-c1ca0eeabc30\")) {                    Plotly.newPlot(                        \"2b9d9bc6-437d-407e-b782-c1ca0eeabc30\",                        [{\"hovertemplate\":\"\\u003cb\\u003e%{hovertext}\\u003c\\u002fb\\u003e\\u003cbr\\u003e\\u003cbr\\u003emfr=Nabisco\\u003cbr\\u003eshelf=Top\\u003cbr\\u003etype=Cold\\u003cbr\\u003esugars=%{x}\\u003cbr\\u003erating=%{y}\\u003cbr\\u003ecalories=%{marker.size}\\u003cextra\\u003e\\u003c\\u002fextra\\u003e\",\"hovertext\":[\"100% Bran\"],\"legendgroup\":\"Nabisco\",\"marker\":{\"color\":\"#636efa\",\"size\":[70],\"sizemode\":\"area\",\"sizeref\":0.4,\"symbol\":\"circle\"},\"mode\":\"markers\",\"name\":\"Nabisco\",\"orientation\":\"v\",\"showlegend\":true,\"x\":[6],\"xaxis\":\"x5\",\"y\":[68.4],\"yaxis\":\"y5\",\"type\":\"scatter\"},{\"hovertemplate\":\"\\u003cb\\u003e%{hovertext}\\u003c\\u002fb\\u003e\\u003cbr\\u003e\\u003cbr\\u003emfr=Nabisco\\u003cbr\\u003eshelf=Middle\\u003cbr\\u003etype=Cold\\u003cbr\\u003esugars=%{x}\\u003cbr\\u003erating=%{y}\\u003cbr\\u003ecalories=%{marker.size}\\u003cextra\\u003e\\u003c\\u002fextra\\u003e\",\"hovertext\":[\"Strawberry Fruit Wheats\"],\"legendgroup\":\"Nabisco\",\"marker\":{\"color\":\"#636efa\",\"size\":[90],\"sizemode\":\"area\",\"sizeref\":0.4,\"symbol\":\"circle\"},\"mode\":\"markers\",\"name\":\"Nabisco\",\"orientation\":\"v\",\"showlegend\":false,\"x\":[5],\"xaxis\":\"x3\",\"y\":[59.36],\"yaxis\":\"y3\",\"type\":\"scatter\"},{\"hovertemplate\":\"\\u003cb\\u003e%{hovertext}\\u003c\\u002fb\\u003e\\u003cbr\\u003e\\u003cbr\\u003emfr=Nabisco\\u003cbr\\u003eshelf=Middle\\u003cbr\\u003etype=Hot\\u003cbr\\u003esugars=%{x}\\u003cbr\\u003erating=%{y}\\u003cbr\\u003ecalories=%{marker.size}\\u003cextra\\u003e\\u003c\\u002fextra\\u003e\",\"hovertext\":[\"Cream of Wheat (Quick)\"],\"legendgroup\":\"Nabisco\",\"marker\":{\"color\":\"#636efa\",\"size\":[100],\"sizemode\":\"area\",\"sizeref\":0.4,\"symbol\":\"circle\"},\"mode\":\"markers\",\"name\":\"Nabisco\",\"orientation\":\"v\",\"showlegend\":false,\"x\":[0],\"xaxis\":\"x4\",\"y\":[64.53],\"yaxis\":\"y4\",\"type\":\"scatter\"},{\"hovertemplate\":\"\\u003cb\\u003e%{hovertext}\\u003c\\u002fb\\u003e\\u003cbr\\u003e\\u003cbr\\u003emfr=Nabisco\\u003cbr\\u003eshelf=Bottom\\u003cbr\\u003etype=Cold\\u003cbr\\u003esugars=%{x}\\u003cbr\\u003erating=%{y}\\u003cbr\\u003ecalories=%{marker.size}\\u003cextra\\u003e\\u003c\\u002fextra\\u003e\",\"hovertext\":[\"Shredded Wheat\",\"Shredded Wheat 'n'Bran\",\"Shredded Wheat spoon size\"],\"legendgroup\":\"Nabisco\",\"marker\":{\"color\":\"#636efa\",\"size\":[80,90,90],\"sizemode\":\"area\",\"sizeref\":0.4,\"symbol\":\"circle\"},\"mode\":\"markers\",\"name\":\"Nabisco\",\"orientation\":\"v\",\"showlegend\":false,\"x\":[0,0,0],\"xaxis\":\"x\",\"y\":[68.24,74.47,72.8],\"yaxis\":\"y\",\"type\":\"scatter\"},{\"hovertemplate\":\"\\u003cb\\u003e%{hovertext}\\u003c\\u002fb\\u003e\\u003cbr\\u003e\\u003cbr\\u003emfr=Quaker Oats\\u003cbr\\u003eshelf=Top\\u003cbr\\u003etype=Cold\\u003cbr\\u003esugars=%{x}\\u003cbr\\u003erating=%{y}\\u003cbr\\u003ecalories=%{marker.size}\\u003cextra\\u003e\\u003c\\u002fextra\\u003e\",\"hovertext\":[\"100% Natural Bran\",\"Puffed Rice\",\"Puffed Wheat\",\"Quaker Oat Squares\"],\"legendgroup\":\"Quaker Oats\",\"marker\":{\"color\":\"#EF553B\",\"size\":[120,50,50,100],\"sizemode\":\"area\",\"sizeref\":0.4,\"symbol\":\"circle\"},\"mode\":\"markers\",\"name\":\"Quaker Oats\",\"orientation\":\"v\",\"showlegend\":true,\"x\":[8,0,0,6],\"xaxis\":\"x5\",\"y\":[33.98,60.76,63.01,49.51],\"yaxis\":\"y5\",\"type\":\"scatter\"},{\"hovertemplate\":\"\\u003cb\\u003e%{hovertext}\\u003c\\u002fb\\u003e\\u003cbr\\u003e\\u003cbr\\u003emfr=Quaker Oats\\u003cbr\\u003eshelf=Middle\\u003cbr\\u003etype=Cold\\u003cbr\\u003esugars=%{x}\\u003cbr\\u003erating=%{y}\\u003cbr\\u003ecalories=%{marker.size}\\u003cextra\\u003e\\u003c\\u002fextra\\u003e\",\"hovertext\":[\"Cap'n'Crunch\",\"Honey Graham Ohs\",\"Life\"],\"legendgroup\":\"Quaker Oats\",\"marker\":{\"color\":\"#EF553B\",\"size\":[120,120,100],\"sizemode\":\"area\",\"sizeref\":0.4,\"symbol\":\"circle\"},\"mode\":\"markers\",\"name\":\"Quaker Oats\",\"orientation\":\"v\",\"showlegend\":false,\"x\":[12,11,6],\"xaxis\":\"x3\",\"y\":[18.04,21.87,45.33],\"yaxis\":\"y3\",\"type\":\"scatter\"},{\"hovertemplate\":\"\\u003cb\\u003e%{hovertext}\\u003c\\u002fb\\u003e\\u003cbr\\u003e\\u003cbr\\u003emfr=Quaker Oats\\u003cbr\\u003eshelf=Bottom\\u003cbr\\u003etype=Hot\\u003cbr\\u003esugars=%{x}\\u003cbr\\u003erating=%{y}\\u003cbr\\u003ecalories=%{marker.size}\\u003cextra\\u003e\\u003c\\u002fextra\\u003e\",\"hovertext\":[\"Quaker Oatmeal\"],\"legendgroup\":\"Quaker Oats\",\"marker\":{\"color\":\"#EF553B\",\"size\":[100],\"sizemode\":\"area\",\"sizeref\":0.4,\"symbol\":\"circle\"},\"mode\":\"markers\",\"name\":\"Quaker Oats\",\"orientation\":\"v\",\"showlegend\":false,\"x\":[-1],\"xaxis\":\"x2\",\"y\":[50.83],\"yaxis\":\"y2\",\"type\":\"scatter\"},{\"hovertemplate\":\"\\u003cb\\u003e%{hovertext}\\u003c\\u002fb\\u003e\\u003cbr\\u003e\\u003cbr\\u003emfr=Kellogs\\u003cbr\\u003eshelf=Top\\u003cbr\\u003etype=Cold\\u003cbr\\u003esugars=%{x}\\u003cbr\\u003erating=%{y}\\u003cbr\\u003ecalories=%{marker.size}\\u003cextra\\u003e\\u003c\\u002fextra\\u003e\",\"hovertext\":[\"All-Bran\",\"All-Bran with Extra Fiber\",\"Cracklin' Oat Bran\",\"Crispix\",\"Fruitful Bran\",\"Just Right Crunchy  Nuggets\",\"Just Right Fruit & Nut\",\"Mueslix Crispy Blend\",\"Nutri-Grain Almond-Raisin\",\"Nutri-grain Wheat\",\"Product 19\",\"Raisin Squares\"],\"legendgroup\":\"Kellogs\",\"marker\":{\"color\":\"#00cc96\",\"size\":[70,50,110,110,120,110,140,160,140,90,100,90],\"sizemode\":\"area\",\"sizeref\":0.4,\"symbol\":\"circle\"},\"mode\":\"markers\",\"name\":\"Kellogs\",\"orientation\":\"v\",\"showlegend\":true,\"x\":[5,0,7,3,12,6,9,13,7,2,3,6],\"xaxis\":\"x5\",\"y\":[59.43,93.7,40.45,46.9,41.02,36.52,36.47,30.31,40.69,59.64,41.5,55.33],\"yaxis\":\"y5\",\"type\":\"scatter\"},{\"hovertemplate\":\"\\u003cb\\u003e%{hovertext}\\u003c\\u002fb\\u003e\\u003cbr\\u003e\\u003cbr\\u003emfr=Kellogs\\u003cbr\\u003eshelf=Middle\\u003cbr\\u003etype=Cold\\u003cbr\\u003esugars=%{x}\\u003cbr\\u003erating=%{y}\\u003cbr\\u003ecalories=%{marker.size}\\u003cextra\\u003e\\u003c\\u002fextra\\u003e\",\"hovertext\":[\"Apple Jacks\",\"Corn Pops\",\"Froot Loops\",\"Frosted Mini-Wheats\",\"Nut&Honey Crunch\",\"Raisin Bran\",\"Smacks\"],\"legendgroup\":\"Kellogs\",\"marker\":{\"color\":\"#00cc96\",\"size\":[110,110,110,100,120,120,110],\"sizemode\":\"area\",\"sizeref\":0.4,\"symbol\":\"circle\"},\"mode\":\"markers\",\"name\":\"Kellogs\",\"orientation\":\"v\",\"showlegend\":false,\"x\":[14,12,13,7,9,12,15],\"xaxis\":\"x3\",\"y\":[33.17,35.78,32.21,58.35,29.92,39.26,31.23],\"yaxis\":\"y3\",\"type\":\"scatter\"},{\"hovertemplate\":\"\\u003cb\\u003e%{hovertext}\\u003c\\u002fb\\u003e\\u003cbr\\u003e\\u003cbr\\u003emfr=Kellogs\\u003cbr\\u003eshelf=Bottom\\u003cbr\\u003etype=Cold\\u003cbr\\u003esugars=%{x}\\u003cbr\\u003erating=%{y}\\u003cbr\\u003ecalories=%{marker.size}\\u003cextra\\u003e\\u003c\\u002fextra\\u003e\",\"hovertext\":[\"Corn Flakes\",\"Frosted Flakes\",\"Rice Krispies\",\"Special K\"],\"legendgroup\":\"Kellogs\",\"marker\":{\"color\":\"#00cc96\",\"size\":[100,110,110,110],\"sizemode\":\"area\",\"sizeref\":0.4,\"symbol\":\"circle\"},\"mode\":\"markers\",\"name\":\"Kellogs\",\"orientation\":\"v\",\"showlegend\":false,\"x\":[2,11,3,3],\"xaxis\":\"x\",\"y\":[45.86,31.44,40.56,53.13],\"yaxis\":\"y\",\"type\":\"scatter\"},{\"hovertemplate\":\"\\u003cb\\u003e%{hovertext}\\u003c\\u002fb\\u003e\\u003cbr\\u003e\\u003cbr\\u003emfr=Ralston Purina\\u003cbr\\u003eshelf=Top\\u003cbr\\u003etype=Cold\\u003cbr\\u003esugars=%{x}\\u003cbr\\u003erating=%{y}\\u003cbr\\u003ecalories=%{marker.size}\\u003cextra\\u003e\\u003c\\u002fextra\\u003e\",\"hovertext\":[\"Almond Delight\",\"Double Chex\",\"Muesli Raisins, Dates, & Almonds\",\"Muesli Raisins, Peaches, & Pecans\"],\"legendgroup\":\"Ralston Purina\",\"marker\":{\"color\":\"#ab63fa\",\"size\":[110,100,150,150],\"sizemode\":\"area\",\"sizeref\":0.4,\"symbol\":\"circle\"},\"mode\":\"markers\",\"name\":\"Ralston Purina\",\"orientation\":\"v\",\"showlegend\":true,\"x\":[8,5,11,11],\"xaxis\":\"x5\",\"y\":[34.38,44.33,37.14,34.14],\"yaxis\":\"y5\",\"type\":\"scatter\"},{\"hovertemplate\":\"\\u003cb\\u003e%{hovertext}\\u003c\\u002fb\\u003e\\u003cbr\\u003e\\u003cbr\\u003emfr=Ralston Purina\\u003cbr\\u003eshelf=Bottom\\u003cbr\\u003etype=Cold\\u003cbr\\u003esugars=%{x}\\u003cbr\\u003erating=%{y}\\u003cbr\\u003ecalories=%{marker.size}\\u003cextra\\u003e\\u003c\\u002fextra\\u003e\",\"hovertext\":[\"Bran Chex\",\"Corn Chex\",\"Rice Chex\",\"Wheat Chex\"],\"legendgroup\":\"Ralston Purina\",\"marker\":{\"color\":\"#ab63fa\",\"size\":[90,110,110,100],\"sizemode\":\"area\",\"sizeref\":0.4,\"symbol\":\"circle\"},\"mode\":\"markers\",\"name\":\"Ralston Purina\",\"orientation\":\"v\",\"showlegend\":false,\"x\":[6,3,2,3],\"xaxis\":\"x\",\"y\":[49.12,41.45,42.0,49.79],\"yaxis\":\"y\",\"type\":\"scatter\"},{\"hovertemplate\":\"\\u003cb\\u003e%{hovertext}\\u003c\\u002fb\\u003e\\u003cbr\\u003e\\u003cbr\\u003emfr=General Mills\\u003cbr\\u003eshelf=Top\\u003cbr\\u003etype=Cold\\u003cbr\\u003esugars=%{x}\\u003cbr\\u003erating=%{y}\\u003cbr\\u003ecalories=%{marker.size}\\u003cextra\\u003e\\u003c\\u002fextra\\u003e\",\"hovertext\":[\"Basic 4\",\"Clusters\",\"Crispy Wheat & Raisins\",\"Oatmeal Raisin Crisp\",\"Raisin Nut Bran\",\"Total Corn Flakes\",\"Total Raisin Bran\",\"Total Whole Grain\",\"Triples\"],\"legendgroup\":\"General Mills\",\"marker\":{\"color\":\"#FFA15A\",\"size\":[130,110,100,130,100,110,140,100,110],\"sizemode\":\"area\",\"sizeref\":0.4,\"symbol\":\"circle\"},\"mode\":\"markers\",\"name\":\"General Mills\",\"orientation\":\"v\",\"showlegend\":true,\"x\":[8,7,10,10,8,3,14,3,3],\"xaxis\":\"x5\",\"y\":[37.04,40.4,36.18,30.45,39.7,38.84,28.59,46.66,39.11],\"yaxis\":\"y5\",\"type\":\"scatter\"},{\"hovertemplate\":\"\\u003cb\\u003e%{hovertext}\\u003c\\u002fb\\u003e\\u003cbr\\u003e\\u003cbr\\u003emfr=General Mills\\u003cbr\\u003eshelf=Middle\\u003cbr\\u003etype=Cold\\u003cbr\\u003esugars=%{x}\\u003cbr\\u003erating=%{y}\\u003cbr\\u003ecalories=%{marker.size}\\u003cextra\\u003e\\u003c\\u002fextra\\u003e\",\"hovertext\":[\"Cinnamon Toast Crunch\",\"Cocoa Puffs\",\"Count Chocula\",\"Golden Grahams\",\"Kix\",\"Lucky Charms\",\"Trix\"],\"legendgroup\":\"General Mills\",\"marker\":{\"color\":\"#FFA15A\",\"size\":[120,110,110,110,110,110,110],\"sizemode\":\"area\",\"sizeref\":0.4,\"symbol\":\"circle\"},\"mode\":\"markers\",\"name\":\"General Mills\",\"orientation\":\"v\",\"showlegend\":false,\"x\":[9,13,13,9,3,12,12],\"xaxis\":\"x3\",\"y\":[19.82,22.74,22.4,23.8,39.24,26.73,27.75],\"yaxis\":\"y3\",\"type\":\"scatter\"},{\"hovertemplate\":\"\\u003cb\\u003e%{hovertext}\\u003c\\u002fb\\u003e\\u003cbr\\u003e\\u003cbr\\u003emfr=General Mills\\u003cbr\\u003eshelf=Bottom\\u003cbr\\u003etype=Cold\\u003cbr\\u003esugars=%{x}\\u003cbr\\u003erating=%{y}\\u003cbr\\u003ecalories=%{marker.size}\\u003cextra\\u003e\\u003c\\u002fextra\\u003e\",\"hovertext\":[\"Apple Cinnamon Cheerios\",\"Cheerios\",\"Honey Nut Cheerios\",\"Multi-Grain Cheerios\",\"Wheaties\",\"Wheaties Honey Gold\"],\"legendgroup\":\"General Mills\",\"marker\":{\"color\":\"#FFA15A\",\"size\":[110,110,110,100,100,110],\"sizemode\":\"area\",\"sizeref\":0.4,\"symbol\":\"circle\"},\"mode\":\"markers\",\"name\":\"General Mills\",\"orientation\":\"v\",\"showlegend\":false,\"x\":[10,1,10,6,3,8],\"xaxis\":\"x\",\"y\":[29.51,50.76,31.07,40.11,51.59,36.19],\"yaxis\":\"y\",\"type\":\"scatter\"},{\"hovertemplate\":\"\\u003cb\\u003e%{hovertext}\\u003c\\u002fb\\u003e\\u003cbr\\u003e\\u003cbr\\u003emfr=Post\\u003cbr\\u003eshelf=Top\\u003cbr\\u003etype=Cold\\u003cbr\\u003esugars=%{x}\\u003cbr\\u003erating=%{y}\\u003cbr\\u003ecalories=%{marker.size}\\u003cextra\\u003e\\u003c\\u002fextra\\u003e\",\"hovertext\":[\"Bran Flakes\",\"Fruit & Fibre Dates, Walnuts, and Oats\",\"Grape Nuts Flakes\",\"Grape-Nuts\",\"Great Grains Pecan\",\"Post Nat. Raisin Bran\"],\"legendgroup\":\"Post\",\"marker\":{\"color\":\"#19d3f3\",\"size\":[90,120,100,110,120,120],\"sizemode\":\"area\",\"sizeref\":0.4,\"symbol\":\"circle\"},\"mode\":\"markers\",\"name\":\"Post\",\"orientation\":\"v\",\"showlegend\":true,\"x\":[5,10,5,3,4,14],\"xaxis\":\"x5\",\"y\":[53.31,40.92,52.08,53.37,45.81,37.84],\"yaxis\":\"y5\",\"type\":\"scatter\"},{\"hovertemplate\":\"\\u003cb\\u003e%{hovertext}\\u003c\\u002fb\\u003e\\u003cbr\\u003e\\u003cbr\\u003emfr=Post\\u003cbr\\u003eshelf=Middle\\u003cbr\\u003etype=Cold\\u003cbr\\u003esugars=%{x}\\u003cbr\\u003erating=%{y}\\u003cbr\\u003ecalories=%{marker.size}\\u003cextra\\u003e\\u003c\\u002fextra\\u003e\",\"hovertext\":[\"Fruity Pebbles\"],\"legendgroup\":\"Post\",\"marker\":{\"color\":\"#19d3f3\",\"size\":[110],\"sizemode\":\"area\",\"sizeref\":0.4,\"symbol\":\"circle\"},\"mode\":\"markers\",\"name\":\"Post\",\"orientation\":\"v\",\"showlegend\":false,\"x\":[12],\"xaxis\":\"x3\",\"y\":[28.03],\"yaxis\":\"y3\",\"type\":\"scatter\"},{\"hovertemplate\":\"\\u003cb\\u003e%{hovertext}\\u003c\\u002fb\\u003e\\u003cbr\\u003e\\u003cbr\\u003emfr=Post\\u003cbr\\u003eshelf=Bottom\\u003cbr\\u003etype=Cold\\u003cbr\\u003esugars=%{x}\\u003cbr\\u003erating=%{y}\\u003cbr\\u003ecalories=%{marker.size}\\u003cextra\\u003e\\u003c\\u002fextra\\u003e\",\"hovertext\":[\"Golden Crisp\",\"Honey-comb\"],\"legendgroup\":\"Post\",\"marker\":{\"color\":\"#19d3f3\",\"size\":[100,110],\"sizemode\":\"area\",\"sizeref\":0.4,\"symbol\":\"circle\"},\"mode\":\"markers\",\"name\":\"Post\",\"orientation\":\"v\",\"showlegend\":false,\"x\":[15,11],\"xaxis\":\"x\",\"y\":[35.25,28.74],\"yaxis\":\"y\",\"type\":\"scatter\"},{\"hovertemplate\":\"\\u003cb\\u003e%{hovertext}\\u003c\\u002fb\\u003e\\u003cbr\\u003e\\u003cbr\\u003emfr=AM Home Food\\u003cbr\\u003eshelf=Middle\\u003cbr\\u003etype=Hot\\u003cbr\\u003esugars=%{x}\\u003cbr\\u003erating=%{y}\\u003cbr\\u003ecalories=%{marker.size}\\u003cextra\\u003e\\u003c\\u002fextra\\u003e\",\"hovertext\":[\"Maypo\"],\"legendgroup\":\"AM Home Food\",\"marker\":{\"color\":\"#FF6692\",\"size\":[100],\"sizemode\":\"area\",\"sizeref\":0.4,\"symbol\":\"circle\"},\"mode\":\"markers\",\"name\":\"AM Home Food\",\"orientation\":\"v\",\"showlegend\":true,\"x\":[3],\"xaxis\":\"x4\",\"y\":[54.85],\"yaxis\":\"y4\",\"type\":\"scatter\"}],                        {\"template\":{\"data\":{\"histogram2dcontour\":[{\"type\":\"histogram2dcontour\",\"colorbar\":{\"outlinewidth\":0,\"ticks\":\"\"},\"colorscale\":[[0.0,\"#0d0887\"],[0.1111111111111111,\"#46039f\"],[0.2222222222222222,\"#7201a8\"],[0.3333333333333333,\"#9c179e\"],[0.4444444444444444,\"#bd3786\"],[0.5555555555555556,\"#d8576b\"],[0.6666666666666666,\"#ed7953\"],[0.7777777777777778,\"#fb9f3a\"],[0.8888888888888888,\"#fdca26\"],[1.0,\"#f0f921\"]]}],\"choropleth\":[{\"type\":\"choropleth\",\"colorbar\":{\"outlinewidth\":0,\"ticks\":\"\"}}],\"histogram2d\":[{\"type\":\"histogram2d\",\"colorbar\":{\"outlinewidth\":0,\"ticks\":\"\"},\"colorscale\":[[0.0,\"#0d0887\"],[0.1111111111111111,\"#46039f\"],[0.2222222222222222,\"#7201a8\"],[0.3333333333333333,\"#9c179e\"],[0.4444444444444444,\"#bd3786\"],[0.5555555555555556,\"#d8576b\"],[0.6666666666666666,\"#ed7953\"],[0.7777777777777778,\"#fb9f3a\"],[0.8888888888888888,\"#fdca26\"],[1.0,\"#f0f921\"]]}],\"heatmap\":[{\"type\":\"heatmap\",\"colorbar\":{\"outlinewidth\":0,\"ticks\":\"\"},\"colorscale\":[[0.0,\"#0d0887\"],[0.1111111111111111,\"#46039f\"],[0.2222222222222222,\"#7201a8\"],[0.3333333333333333,\"#9c179e\"],[0.4444444444444444,\"#bd3786\"],[0.5555555555555556,\"#d8576b\"],[0.6666666666666666,\"#ed7953\"],[0.7777777777777778,\"#fb9f3a\"],[0.8888888888888888,\"#fdca26\"],[1.0,\"#f0f921\"]]}],\"heatmapgl\":[{\"type\":\"heatmapgl\",\"colorbar\":{\"outlinewidth\":0,\"ticks\":\"\"},\"colorscale\":[[0.0,\"#0d0887\"],[0.1111111111111111,\"#46039f\"],[0.2222222222222222,\"#7201a8\"],[0.3333333333333333,\"#9c179e\"],[0.4444444444444444,\"#bd3786\"],[0.5555555555555556,\"#d8576b\"],[0.6666666666666666,\"#ed7953\"],[0.7777777777777778,\"#fb9f3a\"],[0.8888888888888888,\"#fdca26\"],[1.0,\"#f0f921\"]]}],\"contourcarpet\":[{\"type\":\"contourcarpet\",\"colorbar\":{\"outlinewidth\":0,\"ticks\":\"\"}}],\"contour\":[{\"type\":\"contour\",\"colorbar\":{\"outlinewidth\":0,\"ticks\":\"\"},\"colorscale\":[[0.0,\"#0d0887\"],[0.1111111111111111,\"#46039f\"],[0.2222222222222222,\"#7201a8\"],[0.3333333333333333,\"#9c179e\"],[0.4444444444444444,\"#bd3786\"],[0.5555555555555556,\"#d8576b\"],[0.6666666666666666,\"#ed7953\"],[0.7777777777777778,\"#fb9f3a\"],[0.8888888888888888,\"#fdca26\"],[1.0,\"#f0f921\"]]}],\"surface\":[{\"type\":\"surface\",\"colorbar\":{\"outlinewidth\":0,\"ticks\":\"\"},\"colorscale\":[[0.0,\"#0d0887\"],[0.1111111111111111,\"#46039f\"],[0.2222222222222222,\"#7201a8\"],[0.3333333333333333,\"#9c179e\"],[0.4444444444444444,\"#bd3786\"],[0.5555555555555556,\"#d8576b\"],[0.6666666666666666,\"#ed7953\"],[0.7777777777777778,\"#fb9f3a\"],[0.8888888888888888,\"#fdca26\"],[1.0,\"#f0f921\"]]}],\"mesh3d\":[{\"type\":\"mesh3d\",\"colorbar\":{\"outlinewidth\":0,\"ticks\":\"\"}}],\"scatter\":[{\"fillpattern\":{\"fillmode\":\"overlay\",\"size\":10,\"solidity\":0.2},\"type\":\"scatter\"}],\"parcoords\":[{\"type\":\"parcoords\",\"line\":{\"colorbar\":{\"outlinewidth\":0,\"ticks\":\"\"}}}],\"scatterpolargl\":[{\"type\":\"scatterpolargl\",\"marker\":{\"colorbar\":{\"outlinewidth\":0,\"ticks\":\"\"}}}],\"bar\":[{\"error_x\":{\"color\":\"#2a3f5f\"},\"error_y\":{\"color\":\"#2a3f5f\"},\"marker\":{\"line\":{\"color\":\"#E5ECF6\",\"width\":0.5},\"pattern\":{\"fillmode\":\"overlay\",\"size\":10,\"solidity\":0.2}},\"type\":\"bar\"}],\"scattergeo\":[{\"type\":\"scattergeo\",\"marker\":{\"colorbar\":{\"outlinewidth\":0,\"ticks\":\"\"}}}],\"scatterpolar\":[{\"type\":\"scatterpolar\",\"marker\":{\"colorbar\":{\"outlinewidth\":0,\"ticks\":\"\"}}}],\"histogram\":[{\"marker\":{\"pattern\":{\"fillmode\":\"overlay\",\"size\":10,\"solidity\":0.2}},\"type\":\"histogram\"}],\"scattergl\":[{\"type\":\"scattergl\",\"marker\":{\"colorbar\":{\"outlinewidth\":0,\"ticks\":\"\"}}}],\"scatter3d\":[{\"type\":\"scatter3d\",\"line\":{\"colorbar\":{\"outlinewidth\":0,\"ticks\":\"\"}},\"marker\":{\"colorbar\":{\"outlinewidth\":0,\"ticks\":\"\"}}}],\"scattermapbox\":[{\"type\":\"scattermapbox\",\"marker\":{\"colorbar\":{\"outlinewidth\":0,\"ticks\":\"\"}}}],\"scatterternary\":[{\"type\":\"scatterternary\",\"marker\":{\"colorbar\":{\"outlinewidth\":0,\"ticks\":\"\"}}}],\"scattercarpet\":[{\"type\":\"scattercarpet\",\"marker\":{\"colorbar\":{\"outlinewidth\":0,\"ticks\":\"\"}}}],\"carpet\":[{\"aaxis\":{\"endlinecolor\":\"#2a3f5f\",\"gridcolor\":\"white\",\"linecolor\":\"white\",\"minorgridcolor\":\"white\",\"startlinecolor\":\"#2a3f5f\"},\"baxis\":{\"endlinecolor\":\"#2a3f5f\",\"gridcolor\":\"white\",\"linecolor\":\"white\",\"minorgridcolor\":\"white\",\"startlinecolor\":\"#2a3f5f\"},\"type\":\"carpet\"}],\"table\":[{\"cells\":{\"fill\":{\"color\":\"#EBF0F8\"},\"line\":{\"color\":\"white\"}},\"header\":{\"fill\":{\"color\":\"#C8D4E3\"},\"line\":{\"color\":\"white\"}},\"type\":\"table\"}],\"barpolar\":[{\"marker\":{\"line\":{\"color\":\"#E5ECF6\",\"width\":0.5},\"pattern\":{\"fillmode\":\"overlay\",\"size\":10,\"solidity\":0.2}},\"type\":\"barpolar\"}],\"pie\":[{\"automargin\":true,\"type\":\"pie\"}]},\"layout\":{\"autotypenumbers\":\"strict\",\"colorway\":[\"#636efa\",\"#EF553B\",\"#00cc96\",\"#ab63fa\",\"#FFA15A\",\"#19d3f3\",\"#FF6692\",\"#B6E880\",\"#FF97FF\",\"#FECB52\"],\"font\":{\"color\":\"#2a3f5f\"},\"hovermode\":\"closest\",\"hoverlabel\":{\"align\":\"left\"},\"paper_bgcolor\":\"white\",\"plot_bgcolor\":\"#E5ECF6\",\"polar\":{\"bgcolor\":\"#E5ECF6\",\"angularaxis\":{\"gridcolor\":\"white\",\"linecolor\":\"white\",\"ticks\":\"\"},\"radialaxis\":{\"gridcolor\":\"white\",\"linecolor\":\"white\",\"ticks\":\"\"}},\"ternary\":{\"bgcolor\":\"#E5ECF6\",\"aaxis\":{\"gridcolor\":\"white\",\"linecolor\":\"white\",\"ticks\":\"\"},\"baxis\":{\"gridcolor\":\"white\",\"linecolor\":\"white\",\"ticks\":\"\"},\"caxis\":{\"gridcolor\":\"white\",\"linecolor\":\"white\",\"ticks\":\"\"}},\"coloraxis\":{\"colorbar\":{\"outlinewidth\":0,\"ticks\":\"\"}},\"colorscale\":{\"sequential\":[[0.0,\"#0d0887\"],[0.1111111111111111,\"#46039f\"],[0.2222222222222222,\"#7201a8\"],[0.3333333333333333,\"#9c179e\"],[0.4444444444444444,\"#bd3786\"],[0.5555555555555556,\"#d8576b\"],[0.6666666666666666,\"#ed7953\"],[0.7777777777777778,\"#fb9f3a\"],[0.8888888888888888,\"#fdca26\"],[1.0,\"#f0f921\"]],\"sequentialminus\":[[0.0,\"#0d0887\"],[0.1111111111111111,\"#46039f\"],[0.2222222222222222,\"#7201a8\"],[0.3333333333333333,\"#9c179e\"],[0.4444444444444444,\"#bd3786\"],[0.5555555555555556,\"#d8576b\"],[0.6666666666666666,\"#ed7953\"],[0.7777777777777778,\"#fb9f3a\"],[0.8888888888888888,\"#fdca26\"],[1.0,\"#f0f921\"]],\"diverging\":[[0,\"#8e0152\"],[0.1,\"#c51b7d\"],[0.2,\"#de77ae\"],[0.3,\"#f1b6da\"],[0.4,\"#fde0ef\"],[0.5,\"#f7f7f7\"],[0.6,\"#e6f5d0\"],[0.7,\"#b8e186\"],[0.8,\"#7fbc41\"],[0.9,\"#4d9221\"],[1,\"#276419\"]]},\"xaxis\":{\"gridcolor\":\"white\",\"linecolor\":\"white\",\"ticks\":\"\",\"title\":{\"standoff\":15},\"zerolinecolor\":\"white\",\"automargin\":true,\"zerolinewidth\":2},\"yaxis\":{\"gridcolor\":\"white\",\"linecolor\":\"white\",\"ticks\":\"\",\"title\":{\"standoff\":15},\"zerolinecolor\":\"white\",\"automargin\":true,\"zerolinewidth\":2},\"scene\":{\"xaxis\":{\"backgroundcolor\":\"#E5ECF6\",\"gridcolor\":\"white\",\"linecolor\":\"white\",\"showbackground\":true,\"ticks\":\"\",\"zerolinecolor\":\"white\",\"gridwidth\":2},\"yaxis\":{\"backgroundcolor\":\"#E5ECF6\",\"gridcolor\":\"white\",\"linecolor\":\"white\",\"showbackground\":true,\"ticks\":\"\",\"zerolinecolor\":\"white\",\"gridwidth\":2},\"zaxis\":{\"backgroundcolor\":\"#E5ECF6\",\"gridcolor\":\"white\",\"linecolor\":\"white\",\"showbackground\":true,\"ticks\":\"\",\"zerolinecolor\":\"white\",\"gridwidth\":2}},\"shapedefaults\":{\"line\":{\"color\":\"#2a3f5f\"}},\"annotationdefaults\":{\"arrowcolor\":\"#2a3f5f\",\"arrowhead\":0,\"arrowwidth\":1},\"geo\":{\"bgcolor\":\"white\",\"landcolor\":\"#E5ECF6\",\"subunitcolor\":\"white\",\"showland\":true,\"showlakes\":true,\"lakecolor\":\"white\"},\"title\":{\"x\":0.05},\"mapbox\":{\"style\":\"light\"}}},\"xaxis\":{\"anchor\":\"y\",\"domain\":[0.0,0.48],\"title\":{\"text\":\"sugars\"}},\"yaxis\":{\"anchor\":\"x\",\"domain\":[0.0,0.3133333333333333],\"title\":{\"text\":\"rating\"}},\"xaxis2\":{\"anchor\":\"y2\",\"domain\":[0.5,0.98],\"matches\":\"x\",\"title\":{\"text\":\"sugars\"}},\"yaxis2\":{\"anchor\":\"x2\",\"domain\":[0.0,0.3133333333333333],\"matches\":\"y\",\"showticklabels\":false},\"xaxis3\":{\"anchor\":\"y3\",\"domain\":[0.0,0.48],\"matches\":\"x\",\"showticklabels\":false},\"yaxis3\":{\"anchor\":\"x3\",\"domain\":[0.34333333333333327,0.6566666666666665],\"matches\":\"y\",\"title\":{\"text\":\"rating\"}},\"xaxis4\":{\"anchor\":\"y4\",\"domain\":[0.5,0.98],\"matches\":\"x\",\"showticklabels\":false},\"yaxis4\":{\"anchor\":\"x4\",\"domain\":[0.34333333333333327,0.6566666666666665],\"matches\":\"y\",\"showticklabels\":false},\"xaxis5\":{\"anchor\":\"y5\",\"domain\":[0.0,0.48],\"matches\":\"x\",\"showticklabels\":false},\"yaxis5\":{\"anchor\":\"x5\",\"domain\":[0.6866666666666665,0.9999999999999998],\"matches\":\"y\",\"title\":{\"text\":\"rating\"}},\"xaxis6\":{\"anchor\":\"y6\",\"domain\":[0.5,0.98],\"matches\":\"x\",\"showticklabels\":false},\"yaxis6\":{\"anchor\":\"x6\",\"domain\":[0.6866666666666665,0.9999999999999998],\"matches\":\"y\",\"showticklabels\":false},\"annotations\":[{\"font\":{},\"showarrow\":false,\"text\":\"type=Cold\",\"x\":0.24,\"xanchor\":\"center\",\"xref\":\"paper\",\"y\":0.9999999999999998,\"yanchor\":\"bottom\",\"yref\":\"paper\"},{\"font\":{},\"showarrow\":false,\"text\":\"type=Hot\",\"x\":0.74,\"xanchor\":\"center\",\"xref\":\"paper\",\"y\":0.9999999999999998,\"yanchor\":\"bottom\",\"yref\":\"paper\"},{\"font\":{},\"showarrow\":false,\"text\":\"shelf=Bottom\",\"textangle\":90,\"x\":0.98,\"xanchor\":\"left\",\"xref\":\"paper\",\"y\":0.15666666666666665,\"yanchor\":\"middle\",\"yref\":\"paper\"},{\"font\":{},\"showarrow\":false,\"text\":\"shelf=Middle\",\"textangle\":90,\"x\":0.98,\"xanchor\":\"left\",\"xref\":\"paper\",\"y\":0.4999999999999999,\"yanchor\":\"middle\",\"yref\":\"paper\"},{\"font\":{},\"showarrow\":false,\"text\":\"shelf=Top\",\"textangle\":90,\"x\":0.98,\"xanchor\":\"left\",\"xref\":\"paper\",\"y\":0.8433333333333332,\"yanchor\":\"middle\",\"yref\":\"paper\"}],\"legend\":{\"title\":{\"text\":\"mfr\"},\"tracegroupgap\":0,\"itemsizing\":\"constant\"},\"margin\":{\"t\":60}},                        {\"responsive\": true}                    ).then(function(){\n",
              "                            \n",
              "var gd = document.getElementById('2b9d9bc6-437d-407e-b782-c1ca0eeabc30');\n",
              "var x = new MutationObserver(function (mutations, observer) {{\n",
              "        var display = window.getComputedStyle(gd).display;\n",
              "        if (!display || display === 'none') {{\n",
              "            console.log([gd, 'removed!']);\n",
              "            Plotly.purge(gd);\n",
              "            observer.disconnect();\n",
              "        }}\n",
              "}});\n",
              "\n",
              "// Listen for the removal of the full notebook cells\n",
              "var notebookContainer = gd.closest('#notebook-container');\n",
              "if (notebookContainer) {{\n",
              "    x.observe(notebookContainer, {childList: true});\n",
              "}}\n",
              "\n",
              "// Listen for the clearing of the current output cell\n",
              "var outputEl = gd.closest('.output');\n",
              "if (outputEl) {{\n",
              "    x.observe(outputEl, {childList: true});\n",
              "}}\n",
              "\n",
              "                        })                };                            </script>        </div>\n",
              "</body>\n",
              "</html>"
            ]
          },
          "metadata": {}
        },
        {
          "output_type": "stream",
          "name": "stdout",
          "text": [
            "                        name             mfr  type  calories  protein  fat  \\\n",
            "0                  100% Bran         Nabisco  Cold        70        4    1   \n",
            "1          100% Natural Bran     Quaker Oats  Cold       120        3    5   \n",
            "2                   All-Bran         Kellogs  Cold        70        4    1   \n",
            "3  All-Bran with Extra Fiber         Kellogs  Cold        50        4    0   \n",
            "4             Almond Delight  Ralston Purina  Cold       110        2    2   \n",
            "\n",
            "   sodium  fiber  carbo  sugars  potass  vitamins shelf  weight  cups  rating  \\\n",
            "0     130   10.0    5.0       6     280        25   Top     1.0  0.33   68.40   \n",
            "1      15    2.0    8.0       8     135         0   Top     1.0  1.00   33.98   \n",
            "2     260    9.0    7.0       5     320        25   Top     1.0  0.33   59.43   \n",
            "3     140   14.0    8.0       0     330        25   Top     1.0  0.50   93.70   \n",
            "4     200    1.0   14.0       8      -1        25   Top     1.0  0.75   34.38   \n",
            "\n",
            "   cereal  \n",
            "0       1  \n",
            "1       1  \n",
            "2       1  \n",
            "3       1  \n",
            "4       1  \n"
          ]
        }
      ]
    },
    {
      "cell_type": "code",
      "source": [
        "fig = px.treemap(df, path=['mfr', 'shelf','calories'], values='cereal', title='Cereals by shelf location')   #title is information\n",
        "fig.show()"
      ],
      "metadata": {
        "id": "Bs4Wvsgdg7TD",
        "colab": {
          "base_uri": "https://localhost:8080/",
          "height": 542
        },
        "outputId": "150ad1a3-bbfe-40f6-ad83-fc02b2505977"
      },
      "execution_count": null,
      "outputs": [
        {
          "output_type": "display_data",
          "data": {
            "text/html": [
              "<html>\n",
              "<head><meta charset=\"utf-8\" /></head>\n",
              "<body>\n",
              "    <div>            <script src=\"https://cdnjs.cloudflare.com/ajax/libs/mathjax/2.7.5/MathJax.js?config=TeX-AMS-MML_SVG\"></script><script type=\"text/javascript\">if (window.MathJax && window.MathJax.Hub && window.MathJax.Hub.Config) {window.MathJax.Hub.Config({SVG: {font: \"STIX-Web\"}});}</script>                <script type=\"text/javascript\">window.PlotlyConfig = {MathJaxConfig: 'local'};</script>\n",
              "        <script charset=\"utf-8\" src=\"https://cdn.plot.ly/plotly-2.24.1.min.js\"></script>                <div id=\"547fc441-6184-4d07-b1f1-8a677aa849f4\" class=\"plotly-graph-div\" style=\"height:525px; width:100%;\"></div>            <script type=\"text/javascript\">                                    window.PLOTLYENV=window.PLOTLYENV || {};                                    if (document.getElementById(\"547fc441-6184-4d07-b1f1-8a677aa849f4\")) {                    Plotly.newPlot(                        \"547fc441-6184-4d07-b1f1-8a677aa849f4\",                        [{\"branchvalues\":\"total\",\"domain\":{\"x\":[0.0,1.0],\"y\":[0.0,1.0]},\"hovertemplate\":\"labels=%{label}\\u003cbr\\u003ecereal=%{value}\\u003cbr\\u003eparent=%{parent}\\u003cbr\\u003eid=%{id}\\u003cextra\\u003e\\u003c\\u002fextra\\u003e\",\"ids\":[\"Kellogs\\u002fTop\\u002f50\",\"Quaker Oats\\u002fTop\\u002f50\",\"Kellogs\\u002fTop\\u002f70\",\"Nabisco\\u002fTop\\u002f70\",\"Nabisco\\u002fBottom\\u002f80\",\"Nabisco\\u002fBottom\\u002f90\",\"Ralston Purina\\u002fBottom\\u002f90\",\"Nabisco\\u002fMiddle\\u002f90\",\"Kellogs\\u002fTop\\u002f90\",\"Post\\u002fTop\\u002f90\",\"General Mills\\u002fBottom\\u002f100\",\"Kellogs\\u002fBottom\\u002f100\",\"Post\\u002fBottom\\u002f100\",\"Quaker Oats\\u002fBottom\\u002f100\",\"Ralston Purina\\u002fBottom\\u002f100\",\"AM Home Food\\u002fMiddle\\u002f100\",\"Kellogs\\u002fMiddle\\u002f100\",\"Nabisco\\u002fMiddle\\u002f100\",\"Quaker Oats\\u002fMiddle\\u002f100\",\"General Mills\\u002fTop\\u002f100\",\"Kellogs\\u002fTop\\u002f100\",\"Post\\u002fTop\\u002f100\",\"Quaker Oats\\u002fTop\\u002f100\",\"Ralston Purina\\u002fTop\\u002f100\",\"General Mills\\u002fBottom\\u002f110\",\"Kellogs\\u002fBottom\\u002f110\",\"Post\\u002fBottom\\u002f110\",\"Ralston Purina\\u002fBottom\\u002f110\",\"General Mills\\u002fMiddle\\u002f110\",\"Kellogs\\u002fMiddle\\u002f110\",\"Post\\u002fMiddle\\u002f110\",\"General Mills\\u002fTop\\u002f110\",\"Kellogs\\u002fTop\\u002f110\",\"Post\\u002fTop\\u002f110\",\"Ralston Purina\\u002fTop\\u002f110\",\"General Mills\\u002fMiddle\\u002f120\",\"Kellogs\\u002fMiddle\\u002f120\",\"Quaker Oats\\u002fMiddle\\u002f120\",\"Kellogs\\u002fTop\\u002f120\",\"Post\\u002fTop\\u002f120\",\"Quaker Oats\\u002fTop\\u002f120\",\"General Mills\\u002fTop\\u002f130\",\"General Mills\\u002fTop\\u002f140\",\"Kellogs\\u002fTop\\u002f140\",\"Ralston Purina\\u002fTop\\u002f150\",\"Kellogs\\u002fTop\\u002f160\",\"General Mills\\u002fBottom\",\"Kellogs\\u002fBottom\",\"Nabisco\\u002fBottom\",\"Post\\u002fBottom\",\"Quaker Oats\\u002fBottom\",\"Ralston Purina\\u002fBottom\",\"AM Home Food\\u002fMiddle\",\"General Mills\\u002fMiddle\",\"Kellogs\\u002fMiddle\",\"Nabisco\\u002fMiddle\",\"Post\\u002fMiddle\",\"Quaker Oats\\u002fMiddle\",\"General Mills\\u002fTop\",\"Kellogs\\u002fTop\",\"Nabisco\\u002fTop\",\"Post\\u002fTop\",\"Quaker Oats\\u002fTop\",\"Ralston Purina\\u002fTop\",\"AM Home Food\",\"General Mills\",\"Kellogs\",\"Nabisco\",\"Post\",\"Quaker Oats\",\"Ralston Purina\"],\"labels\":[\"50\",\"50\",\"70\",\"70\",\"80\",\"90\",\"90\",\"90\",\"90\",\"90\",\"100\",\"100\",\"100\",\"100\",\"100\",\"100\",\"100\",\"100\",\"100\",\"100\",\"100\",\"100\",\"100\",\"100\",\"110\",\"110\",\"110\",\"110\",\"110\",\"110\",\"110\",\"110\",\"110\",\"110\",\"110\",\"120\",\"120\",\"120\",\"120\",\"120\",\"120\",\"130\",\"140\",\"140\",\"150\",\"160\",\"Bottom\",\"Bottom\",\"Bottom\",\"Bottom\",\"Bottom\",\"Bottom\",\"Middle\",\"Middle\",\"Middle\",\"Middle\",\"Middle\",\"Middle\",\"Top\",\"Top\",\"Top\",\"Top\",\"Top\",\"Top\",\"AM Home Food\",\"General Mills\",\"Kellogs\",\"Nabisco\",\"Post\",\"Quaker Oats\",\"Ralston Purina\"],\"name\":\"\",\"parents\":[\"Kellogs\\u002fTop\",\"Quaker Oats\\u002fTop\",\"Kellogs\\u002fTop\",\"Nabisco\\u002fTop\",\"Nabisco\\u002fBottom\",\"Nabisco\\u002fBottom\",\"Ralston Purina\\u002fBottom\",\"Nabisco\\u002fMiddle\",\"Kellogs\\u002fTop\",\"Post\\u002fTop\",\"General Mills\\u002fBottom\",\"Kellogs\\u002fBottom\",\"Post\\u002fBottom\",\"Quaker Oats\\u002fBottom\",\"Ralston Purina\\u002fBottom\",\"AM Home Food\\u002fMiddle\",\"Kellogs\\u002fMiddle\",\"Nabisco\\u002fMiddle\",\"Quaker Oats\\u002fMiddle\",\"General Mills\\u002fTop\",\"Kellogs\\u002fTop\",\"Post\\u002fTop\",\"Quaker Oats\\u002fTop\",\"Ralston Purina\\u002fTop\",\"General Mills\\u002fBottom\",\"Kellogs\\u002fBottom\",\"Post\\u002fBottom\",\"Ralston Purina\\u002fBottom\",\"General Mills\\u002fMiddle\",\"Kellogs\\u002fMiddle\",\"Post\\u002fMiddle\",\"General Mills\\u002fTop\",\"Kellogs\\u002fTop\",\"Post\\u002fTop\",\"Ralston Purina\\u002fTop\",\"General Mills\\u002fMiddle\",\"Kellogs\\u002fMiddle\",\"Quaker Oats\\u002fMiddle\",\"Kellogs\\u002fTop\",\"Post\\u002fTop\",\"Quaker Oats\\u002fTop\",\"General Mills\\u002fTop\",\"General Mills\\u002fTop\",\"Kellogs\\u002fTop\",\"Ralston Purina\\u002fTop\",\"Kellogs\\u002fTop\",\"General Mills\",\"Kellogs\",\"Nabisco\",\"Post\",\"Quaker Oats\",\"Ralston Purina\",\"AM Home Food\",\"General Mills\",\"Kellogs\",\"Nabisco\",\"Post\",\"Quaker Oats\",\"General Mills\",\"Kellogs\",\"Nabisco\",\"Post\",\"Quaker Oats\",\"Ralston Purina\",\"\",\"\",\"\",\"\",\"\",\"\",\"\"],\"values\":[1,2,1,1,1,2,1,1,2,1,2,1,1,1,1,1,1,1,1,3,1,1,1,1,4,3,1,2,6,4,1,3,3,1,1,1,2,2,1,3,1,2,1,2,2,1,6,4,3,2,1,4,1,7,7,2,1,3,9,12,1,6,4,4,1,22,23,6,9,8,8],\"type\":\"treemap\"}],                        {\"template\":{\"data\":{\"histogram2dcontour\":[{\"type\":\"histogram2dcontour\",\"colorbar\":{\"outlinewidth\":0,\"ticks\":\"\"},\"colorscale\":[[0.0,\"#0d0887\"],[0.1111111111111111,\"#46039f\"],[0.2222222222222222,\"#7201a8\"],[0.3333333333333333,\"#9c179e\"],[0.4444444444444444,\"#bd3786\"],[0.5555555555555556,\"#d8576b\"],[0.6666666666666666,\"#ed7953\"],[0.7777777777777778,\"#fb9f3a\"],[0.8888888888888888,\"#fdca26\"],[1.0,\"#f0f921\"]]}],\"choropleth\":[{\"type\":\"choropleth\",\"colorbar\":{\"outlinewidth\":0,\"ticks\":\"\"}}],\"histogram2d\":[{\"type\":\"histogram2d\",\"colorbar\":{\"outlinewidth\":0,\"ticks\":\"\"},\"colorscale\":[[0.0,\"#0d0887\"],[0.1111111111111111,\"#46039f\"],[0.2222222222222222,\"#7201a8\"],[0.3333333333333333,\"#9c179e\"],[0.4444444444444444,\"#bd3786\"],[0.5555555555555556,\"#d8576b\"],[0.6666666666666666,\"#ed7953\"],[0.7777777777777778,\"#fb9f3a\"],[0.8888888888888888,\"#fdca26\"],[1.0,\"#f0f921\"]]}],\"heatmap\":[{\"type\":\"heatmap\",\"colorbar\":{\"outlinewidth\":0,\"ticks\":\"\"},\"colorscale\":[[0.0,\"#0d0887\"],[0.1111111111111111,\"#46039f\"],[0.2222222222222222,\"#7201a8\"],[0.3333333333333333,\"#9c179e\"],[0.4444444444444444,\"#bd3786\"],[0.5555555555555556,\"#d8576b\"],[0.6666666666666666,\"#ed7953\"],[0.7777777777777778,\"#fb9f3a\"],[0.8888888888888888,\"#fdca26\"],[1.0,\"#f0f921\"]]}],\"heatmapgl\":[{\"type\":\"heatmapgl\",\"colorbar\":{\"outlinewidth\":0,\"ticks\":\"\"},\"colorscale\":[[0.0,\"#0d0887\"],[0.1111111111111111,\"#46039f\"],[0.2222222222222222,\"#7201a8\"],[0.3333333333333333,\"#9c179e\"],[0.4444444444444444,\"#bd3786\"],[0.5555555555555556,\"#d8576b\"],[0.6666666666666666,\"#ed7953\"],[0.7777777777777778,\"#fb9f3a\"],[0.8888888888888888,\"#fdca26\"],[1.0,\"#f0f921\"]]}],\"contourcarpet\":[{\"type\":\"contourcarpet\",\"colorbar\":{\"outlinewidth\":0,\"ticks\":\"\"}}],\"contour\":[{\"type\":\"contour\",\"colorbar\":{\"outlinewidth\":0,\"ticks\":\"\"},\"colorscale\":[[0.0,\"#0d0887\"],[0.1111111111111111,\"#46039f\"],[0.2222222222222222,\"#7201a8\"],[0.3333333333333333,\"#9c179e\"],[0.4444444444444444,\"#bd3786\"],[0.5555555555555556,\"#d8576b\"],[0.6666666666666666,\"#ed7953\"],[0.7777777777777778,\"#fb9f3a\"],[0.8888888888888888,\"#fdca26\"],[1.0,\"#f0f921\"]]}],\"surface\":[{\"type\":\"surface\",\"colorbar\":{\"outlinewidth\":0,\"ticks\":\"\"},\"colorscale\":[[0.0,\"#0d0887\"],[0.1111111111111111,\"#46039f\"],[0.2222222222222222,\"#7201a8\"],[0.3333333333333333,\"#9c179e\"],[0.4444444444444444,\"#bd3786\"],[0.5555555555555556,\"#d8576b\"],[0.6666666666666666,\"#ed7953\"],[0.7777777777777778,\"#fb9f3a\"],[0.8888888888888888,\"#fdca26\"],[1.0,\"#f0f921\"]]}],\"mesh3d\":[{\"type\":\"mesh3d\",\"colorbar\":{\"outlinewidth\":0,\"ticks\":\"\"}}],\"scatter\":[{\"fillpattern\":{\"fillmode\":\"overlay\",\"size\":10,\"solidity\":0.2},\"type\":\"scatter\"}],\"parcoords\":[{\"type\":\"parcoords\",\"line\":{\"colorbar\":{\"outlinewidth\":0,\"ticks\":\"\"}}}],\"scatterpolargl\":[{\"type\":\"scatterpolargl\",\"marker\":{\"colorbar\":{\"outlinewidth\":0,\"ticks\":\"\"}}}],\"bar\":[{\"error_x\":{\"color\":\"#2a3f5f\"},\"error_y\":{\"color\":\"#2a3f5f\"},\"marker\":{\"line\":{\"color\":\"#E5ECF6\",\"width\":0.5},\"pattern\":{\"fillmode\":\"overlay\",\"size\":10,\"solidity\":0.2}},\"type\":\"bar\"}],\"scattergeo\":[{\"type\":\"scattergeo\",\"marker\":{\"colorbar\":{\"outlinewidth\":0,\"ticks\":\"\"}}}],\"scatterpolar\":[{\"type\":\"scatterpolar\",\"marker\":{\"colorbar\":{\"outlinewidth\":0,\"ticks\":\"\"}}}],\"histogram\":[{\"marker\":{\"pattern\":{\"fillmode\":\"overlay\",\"size\":10,\"solidity\":0.2}},\"type\":\"histogram\"}],\"scattergl\":[{\"type\":\"scattergl\",\"marker\":{\"colorbar\":{\"outlinewidth\":0,\"ticks\":\"\"}}}],\"scatter3d\":[{\"type\":\"scatter3d\",\"line\":{\"colorbar\":{\"outlinewidth\":0,\"ticks\":\"\"}},\"marker\":{\"colorbar\":{\"outlinewidth\":0,\"ticks\":\"\"}}}],\"scattermapbox\":[{\"type\":\"scattermapbox\",\"marker\":{\"colorbar\":{\"outlinewidth\":0,\"ticks\":\"\"}}}],\"scatterternary\":[{\"type\":\"scatterternary\",\"marker\":{\"colorbar\":{\"outlinewidth\":0,\"ticks\":\"\"}}}],\"scattercarpet\":[{\"type\":\"scattercarpet\",\"marker\":{\"colorbar\":{\"outlinewidth\":0,\"ticks\":\"\"}}}],\"carpet\":[{\"aaxis\":{\"endlinecolor\":\"#2a3f5f\",\"gridcolor\":\"white\",\"linecolor\":\"white\",\"minorgridcolor\":\"white\",\"startlinecolor\":\"#2a3f5f\"},\"baxis\":{\"endlinecolor\":\"#2a3f5f\",\"gridcolor\":\"white\",\"linecolor\":\"white\",\"minorgridcolor\":\"white\",\"startlinecolor\":\"#2a3f5f\"},\"type\":\"carpet\"}],\"table\":[{\"cells\":{\"fill\":{\"color\":\"#EBF0F8\"},\"line\":{\"color\":\"white\"}},\"header\":{\"fill\":{\"color\":\"#C8D4E3\"},\"line\":{\"color\":\"white\"}},\"type\":\"table\"}],\"barpolar\":[{\"marker\":{\"line\":{\"color\":\"#E5ECF6\",\"width\":0.5},\"pattern\":{\"fillmode\":\"overlay\",\"size\":10,\"solidity\":0.2}},\"type\":\"barpolar\"}],\"pie\":[{\"automargin\":true,\"type\":\"pie\"}]},\"layout\":{\"autotypenumbers\":\"strict\",\"colorway\":[\"#636efa\",\"#EF553B\",\"#00cc96\",\"#ab63fa\",\"#FFA15A\",\"#19d3f3\",\"#FF6692\",\"#B6E880\",\"#FF97FF\",\"#FECB52\"],\"font\":{\"color\":\"#2a3f5f\"},\"hovermode\":\"closest\",\"hoverlabel\":{\"align\":\"left\"},\"paper_bgcolor\":\"white\",\"plot_bgcolor\":\"#E5ECF6\",\"polar\":{\"bgcolor\":\"#E5ECF6\",\"angularaxis\":{\"gridcolor\":\"white\",\"linecolor\":\"white\",\"ticks\":\"\"},\"radialaxis\":{\"gridcolor\":\"white\",\"linecolor\":\"white\",\"ticks\":\"\"}},\"ternary\":{\"bgcolor\":\"#E5ECF6\",\"aaxis\":{\"gridcolor\":\"white\",\"linecolor\":\"white\",\"ticks\":\"\"},\"baxis\":{\"gridcolor\":\"white\",\"linecolor\":\"white\",\"ticks\":\"\"},\"caxis\":{\"gridcolor\":\"white\",\"linecolor\":\"white\",\"ticks\":\"\"}},\"coloraxis\":{\"colorbar\":{\"outlinewidth\":0,\"ticks\":\"\"}},\"colorscale\":{\"sequential\":[[0.0,\"#0d0887\"],[0.1111111111111111,\"#46039f\"],[0.2222222222222222,\"#7201a8\"],[0.3333333333333333,\"#9c179e\"],[0.4444444444444444,\"#bd3786\"],[0.5555555555555556,\"#d8576b\"],[0.6666666666666666,\"#ed7953\"],[0.7777777777777778,\"#fb9f3a\"],[0.8888888888888888,\"#fdca26\"],[1.0,\"#f0f921\"]],\"sequentialminus\":[[0.0,\"#0d0887\"],[0.1111111111111111,\"#46039f\"],[0.2222222222222222,\"#7201a8\"],[0.3333333333333333,\"#9c179e\"],[0.4444444444444444,\"#bd3786\"],[0.5555555555555556,\"#d8576b\"],[0.6666666666666666,\"#ed7953\"],[0.7777777777777778,\"#fb9f3a\"],[0.8888888888888888,\"#fdca26\"],[1.0,\"#f0f921\"]],\"diverging\":[[0,\"#8e0152\"],[0.1,\"#c51b7d\"],[0.2,\"#de77ae\"],[0.3,\"#f1b6da\"],[0.4,\"#fde0ef\"],[0.5,\"#f7f7f7\"],[0.6,\"#e6f5d0\"],[0.7,\"#b8e186\"],[0.8,\"#7fbc41\"],[0.9,\"#4d9221\"],[1,\"#276419\"]]},\"xaxis\":{\"gridcolor\":\"white\",\"linecolor\":\"white\",\"ticks\":\"\",\"title\":{\"standoff\":15},\"zerolinecolor\":\"white\",\"automargin\":true,\"zerolinewidth\":2},\"yaxis\":{\"gridcolor\":\"white\",\"linecolor\":\"white\",\"ticks\":\"\",\"title\":{\"standoff\":15},\"zerolinecolor\":\"white\",\"automargin\":true,\"zerolinewidth\":2},\"scene\":{\"xaxis\":{\"backgroundcolor\":\"#E5ECF6\",\"gridcolor\":\"white\",\"linecolor\":\"white\",\"showbackground\":true,\"ticks\":\"\",\"zerolinecolor\":\"white\",\"gridwidth\":2},\"yaxis\":{\"backgroundcolor\":\"#E5ECF6\",\"gridcolor\":\"white\",\"linecolor\":\"white\",\"showbackground\":true,\"ticks\":\"\",\"zerolinecolor\":\"white\",\"gridwidth\":2},\"zaxis\":{\"backgroundcolor\":\"#E5ECF6\",\"gridcolor\":\"white\",\"linecolor\":\"white\",\"showbackground\":true,\"ticks\":\"\",\"zerolinecolor\":\"white\",\"gridwidth\":2}},\"shapedefaults\":{\"line\":{\"color\":\"#2a3f5f\"}},\"annotationdefaults\":{\"arrowcolor\":\"#2a3f5f\",\"arrowhead\":0,\"arrowwidth\":1},\"geo\":{\"bgcolor\":\"white\",\"landcolor\":\"#E5ECF6\",\"subunitcolor\":\"white\",\"showland\":true,\"showlakes\":true,\"lakecolor\":\"white\"},\"title\":{\"x\":0.05},\"mapbox\":{\"style\":\"light\"}}},\"legend\":{\"tracegroupgap\":0},\"title\":{\"text\":\"Cereals by shelf location\"}},                        {\"responsive\": true}                    ).then(function(){\n",
              "                            \n",
              "var gd = document.getElementById('547fc441-6184-4d07-b1f1-8a677aa849f4');\n",
              "var x = new MutationObserver(function (mutations, observer) {{\n",
              "        var display = window.getComputedStyle(gd).display;\n",
              "        if (!display || display === 'none') {{\n",
              "            console.log([gd, 'removed!']);\n",
              "            Plotly.purge(gd);\n",
              "            observer.disconnect();\n",
              "        }}\n",
              "}});\n",
              "\n",
              "// Listen for the removal of the full notebook cells\n",
              "var notebookContainer = gd.closest('#notebook-container');\n",
              "if (notebookContainer) {{\n",
              "    x.observe(notebookContainer, {childList: true});\n",
              "}}\n",
              "\n",
              "// Listen for the clearing of the current output cell\n",
              "var outputEl = gd.closest('.output');\n",
              "if (outputEl) {{\n",
              "    x.observe(outputEl, {childList: true});\n",
              "}}\n",
              "\n",
              "                        })                };                            </script>        </div>\n",
              "</body>\n",
              "</html>"
            ]
          },
          "metadata": {}
        }
      ]
    },
    {
      "cell_type": "code",
      "source": [
        "# Show the name of each products\n",
        "# paths represent the depth of our data column we want to show\n",
        "\n",
        "fig = px.treemap(df, path=['mfr', 'shelf', 'calories','name'], values='cereal', title='Cereals by shelf location')\n",
        "fig.show()"
      ],
      "metadata": {
        "colab": {
          "base_uri": "https://localhost:8080/",
          "height": 542
        },
        "id": "tVKLcmustYvt",
        "outputId": "dfd95c1e-bb71-477b-cb80-d36f2ac7d8c3"
      },
      "execution_count": null,
      "outputs": [
        {
          "output_type": "display_data",
          "data": {
            "text/html": [
              "<html>\n",
              "<head><meta charset=\"utf-8\" /></head>\n",
              "<body>\n",
              "    <div>            <script src=\"https://cdnjs.cloudflare.com/ajax/libs/mathjax/2.7.5/MathJax.js?config=TeX-AMS-MML_SVG\"></script><script type=\"text/javascript\">if (window.MathJax && window.MathJax.Hub && window.MathJax.Hub.Config) {window.MathJax.Hub.Config({SVG: {font: \"STIX-Web\"}});}</script>                <script type=\"text/javascript\">window.PlotlyConfig = {MathJaxConfig: 'local'};</script>\n",
              "        <script charset=\"utf-8\" src=\"https://cdn.plot.ly/plotly-2.35.2.min.js\"></script>                <div id=\"b1fed87e-91fa-418a-9b55-a29f580560f0\" class=\"plotly-graph-div\" style=\"height:525px; width:100%;\"></div>            <script type=\"text/javascript\">                                    window.PLOTLYENV=window.PLOTLYENV || {};                                    if (document.getElementById(\"b1fed87e-91fa-418a-9b55-a29f580560f0\")) {                    Plotly.newPlot(                        \"b1fed87e-91fa-418a-9b55-a29f580560f0\",                        [{\"branchvalues\":\"total\",\"domain\":{\"x\":[0.0,1.0],\"y\":[0.0,1.0]},\"hovertemplate\":\"labels=%{label}\\u003cbr\\u003ecereal=%{value}\\u003cbr\\u003eparent=%{parent}\\u003cbr\\u003eid=%{id}\\u003cextra\\u003e\\u003c\\u002fextra\\u003e\",\"ids\":[\"Nabisco\\u002fTop\\u002f70\\u002f100% Bran\",\"Quaker Oats\\u002fTop\\u002f120\\u002f100% Natural Bran\",\"Kellogs\\u002fTop\\u002f70\\u002fAll-Bran\",\"Kellogs\\u002fTop\\u002f50\\u002fAll-Bran with Extra Fiber\",\"Ralston Purina\\u002fTop\\u002f110\\u002fAlmond Delight\",\"General Mills\\u002fBottom\\u002f110\\u002fApple Cinnamon Cheerios\",\"Kellogs\\u002fMiddle\\u002f110\\u002fApple Jacks\",\"General Mills\\u002fTop\\u002f130\\u002fBasic 4\",\"Ralston Purina\\u002fBottom\\u002f90\\u002fBran Chex\",\"Post\\u002fTop\\u002f90\\u002fBran Flakes\",\"Quaker Oats\\u002fMiddle\\u002f120\\u002fCap'n'Crunch\",\"General Mills\\u002fBottom\\u002f110\\u002fCheerios\",\"General Mills\\u002fMiddle\\u002f120\\u002fCinnamon Toast Crunch\",\"General Mills\\u002fTop\\u002f110\\u002fClusters\",\"General Mills\\u002fMiddle\\u002f110\\u002fCocoa Puffs\",\"Ralston Purina\\u002fBottom\\u002f110\\u002fCorn Chex\",\"Kellogs\\u002fBottom\\u002f100\\u002fCorn Flakes\",\"Kellogs\\u002fMiddle\\u002f110\\u002fCorn Pops\",\"General Mills\\u002fMiddle\\u002f110\\u002fCount Chocula\",\"Kellogs\\u002fTop\\u002f110\\u002fCracklin' Oat Bran\",\"Nabisco\\u002fMiddle\\u002f100\\u002fCream of Wheat (Quick)\",\"Kellogs\\u002fTop\\u002f110\\u002fCrispix\",\"General Mills\\u002fTop\\u002f100\\u002fCrispy Wheat & Raisins\",\"Ralston Purina\\u002fTop\\u002f100\\u002fDouble Chex\",\"Kellogs\\u002fMiddle\\u002f110\\u002fFroot Loops\",\"Kellogs\\u002fBottom\\u002f110\\u002fFrosted Flakes\",\"Kellogs\\u002fMiddle\\u002f100\\u002fFrosted Mini-Wheats\",\"Post\\u002fTop\\u002f120\\u002fFruit & Fibre Dates, Walnuts, and Oats\",\"Kellogs\\u002fTop\\u002f120\\u002fFruitful Bran\",\"Post\\u002fMiddle\\u002f110\\u002fFruity Pebbles\",\"Post\\u002fBottom\\u002f100\\u002fGolden Crisp\",\"General Mills\\u002fMiddle\\u002f110\\u002fGolden Grahams\",\"Post\\u002fTop\\u002f100\\u002fGrape Nuts Flakes\",\"Post\\u002fTop\\u002f110\\u002fGrape-Nuts\",\"Post\\u002fTop\\u002f120\\u002fGreat Grains Pecan\",\"Quaker Oats\\u002fMiddle\\u002f120\\u002fHoney Graham Ohs\",\"General Mills\\u002fBottom\\u002f110\\u002fHoney Nut Cheerios\",\"Post\\u002fBottom\\u002f110\\u002fHoney-comb\",\"Kellogs\\u002fTop\\u002f110\\u002fJust Right Crunchy  Nuggets\",\"Kellogs\\u002fTop\\u002f140\\u002fJust Right Fruit & Nut\",\"General Mills\\u002fMiddle\\u002f110\\u002fKix\",\"Quaker Oats\\u002fMiddle\\u002f100\\u002fLife\",\"General Mills\\u002fMiddle\\u002f110\\u002fLucky Charms\",\"AM Home Food\\u002fMiddle\\u002f100\\u002fMaypo\",\"Ralston Purina\\u002fTop\\u002f150\\u002fMuesli Raisins, Dates, & Almonds\",\"Ralston Purina\\u002fTop\\u002f150\\u002fMuesli Raisins, Peaches, & Pecans\",\"Kellogs\\u002fTop\\u002f160\\u002fMueslix Crispy Blend\",\"General Mills\\u002fBottom\\u002f100\\u002fMulti-Grain Cheerios\",\"Kellogs\\u002fMiddle\\u002f120\\u002fNut&Honey Crunch\",\"Kellogs\\u002fTop\\u002f140\\u002fNutri-Grain Almond-Raisin\",\"Kellogs\\u002fTop\\u002f90\\u002fNutri-grain Wheat\",\"General Mills\\u002fTop\\u002f130\\u002fOatmeal Raisin Crisp\",\"Post\\u002fTop\\u002f120\\u002fPost Nat. Raisin Bran\",\"Kellogs\\u002fTop\\u002f100\\u002fProduct 19\",\"Quaker Oats\\u002fTop\\u002f50\\u002fPuffed Rice\",\"Quaker Oats\\u002fTop\\u002f50\\u002fPuffed Wheat\",\"Quaker Oats\\u002fTop\\u002f100\\u002fQuaker Oat Squares\",\"Quaker Oats\\u002fBottom\\u002f100\\u002fQuaker Oatmeal\",\"Kellogs\\u002fMiddle\\u002f120\\u002fRaisin Bran\",\"General Mills\\u002fTop\\u002f100\\u002fRaisin Nut Bran\",\"Kellogs\\u002fTop\\u002f90\\u002fRaisin Squares\",\"Ralston Purina\\u002fBottom\\u002f110\\u002fRice Chex\",\"Kellogs\\u002fBottom\\u002f110\\u002fRice Krispies\",\"Nabisco\\u002fBottom\\u002f80\\u002fShredded Wheat\",\"Nabisco\\u002fBottom\\u002f90\\u002fShredded Wheat 'n'Bran\",\"Nabisco\\u002fBottom\\u002f90\\u002fShredded Wheat spoon size\",\"Kellogs\\u002fMiddle\\u002f110\\u002fSmacks\",\"Kellogs\\u002fBottom\\u002f110\\u002fSpecial K\",\"Nabisco\\u002fMiddle\\u002f90\\u002fStrawberry Fruit Wheats\",\"General Mills\\u002fTop\\u002f110\\u002fTotal Corn Flakes\",\"General Mills\\u002fTop\\u002f140\\u002fTotal Raisin Bran\",\"General Mills\\u002fTop\\u002f100\\u002fTotal Whole Grain\",\"General Mills\\u002fTop\\u002f110\\u002fTriples\",\"General Mills\\u002fMiddle\\u002f110\\u002fTrix\",\"Ralston Purina\\u002fBottom\\u002f100\\u002fWheat Chex\",\"General Mills\\u002fBottom\\u002f100\\u002fWheaties\",\"General Mills\\u002fBottom\\u002f110\\u002fWheaties Honey Gold\",\"Kellogs\\u002fTop\\u002f50\",\"Quaker Oats\\u002fTop\\u002f50\",\"Kellogs\\u002fTop\\u002f70\",\"Nabisco\\u002fTop\\u002f70\",\"Nabisco\\u002fBottom\\u002f80\",\"Nabisco\\u002fBottom\\u002f90\",\"Ralston Purina\\u002fBottom\\u002f90\",\"Nabisco\\u002fMiddle\\u002f90\",\"Kellogs\\u002fTop\\u002f90\",\"Post\\u002fTop\\u002f90\",\"General Mills\\u002fBottom\\u002f100\",\"Kellogs\\u002fBottom\\u002f100\",\"Post\\u002fBottom\\u002f100\",\"Quaker Oats\\u002fBottom\\u002f100\",\"Ralston Purina\\u002fBottom\\u002f100\",\"AM Home Food\\u002fMiddle\\u002f100\",\"Kellogs\\u002fMiddle\\u002f100\",\"Nabisco\\u002fMiddle\\u002f100\",\"Quaker Oats\\u002fMiddle\\u002f100\",\"General Mills\\u002fTop\\u002f100\",\"Kellogs\\u002fTop\\u002f100\",\"Post\\u002fTop\\u002f100\",\"Quaker Oats\\u002fTop\\u002f100\",\"Ralston Purina\\u002fTop\\u002f100\",\"General Mills\\u002fBottom\\u002f110\",\"Kellogs\\u002fBottom\\u002f110\",\"Post\\u002fBottom\\u002f110\",\"Ralston Purina\\u002fBottom\\u002f110\",\"General Mills\\u002fMiddle\\u002f110\",\"Kellogs\\u002fMiddle\\u002f110\",\"Post\\u002fMiddle\\u002f110\",\"General Mills\\u002fTop\\u002f110\",\"Kellogs\\u002fTop\\u002f110\",\"Post\\u002fTop\\u002f110\",\"Ralston Purina\\u002fTop\\u002f110\",\"General Mills\\u002fMiddle\\u002f120\",\"Kellogs\\u002fMiddle\\u002f120\",\"Quaker Oats\\u002fMiddle\\u002f120\",\"Kellogs\\u002fTop\\u002f120\",\"Post\\u002fTop\\u002f120\",\"Quaker Oats\\u002fTop\\u002f120\",\"General Mills\\u002fTop\\u002f130\",\"General Mills\\u002fTop\\u002f140\",\"Kellogs\\u002fTop\\u002f140\",\"Ralston Purina\\u002fTop\\u002f150\",\"Kellogs\\u002fTop\\u002f160\",\"General Mills\\u002fBottom\",\"Kellogs\\u002fBottom\",\"Nabisco\\u002fBottom\",\"Post\\u002fBottom\",\"Quaker Oats\\u002fBottom\",\"Ralston Purina\\u002fBottom\",\"AM Home Food\\u002fMiddle\",\"General Mills\\u002fMiddle\",\"Kellogs\\u002fMiddle\",\"Nabisco\\u002fMiddle\",\"Post\\u002fMiddle\",\"Quaker Oats\\u002fMiddle\",\"General Mills\\u002fTop\",\"Kellogs\\u002fTop\",\"Nabisco\\u002fTop\",\"Post\\u002fTop\",\"Quaker Oats\\u002fTop\",\"Ralston Purina\\u002fTop\",\"AM Home Food\",\"General Mills\",\"Kellogs\",\"Nabisco\",\"Post\",\"Quaker Oats\",\"Ralston Purina\"],\"labels\":[\"100% Bran\",\"100% Natural Bran\",\"All-Bran\",\"All-Bran with Extra Fiber\",\"Almond Delight\",\"Apple Cinnamon Cheerios\",\"Apple Jacks\",\"Basic 4\",\"Bran Chex\",\"Bran Flakes\",\"Cap'n'Crunch\",\"Cheerios\",\"Cinnamon Toast Crunch\",\"Clusters\",\"Cocoa Puffs\",\"Corn Chex\",\"Corn Flakes\",\"Corn Pops\",\"Count Chocula\",\"Cracklin' Oat Bran\",\"Cream of Wheat (Quick)\",\"Crispix\",\"Crispy Wheat & Raisins\",\"Double Chex\",\"Froot Loops\",\"Frosted Flakes\",\"Frosted Mini-Wheats\",\"Fruit & Fibre Dates, Walnuts, and Oats\",\"Fruitful Bran\",\"Fruity Pebbles\",\"Golden Crisp\",\"Golden Grahams\",\"Grape Nuts Flakes\",\"Grape-Nuts\",\"Great Grains Pecan\",\"Honey Graham Ohs\",\"Honey Nut Cheerios\",\"Honey-comb\",\"Just Right Crunchy  Nuggets\",\"Just Right Fruit & Nut\",\"Kix\",\"Life\",\"Lucky Charms\",\"Maypo\",\"Muesli Raisins, Dates, & Almonds\",\"Muesli Raisins, Peaches, & Pecans\",\"Mueslix Crispy Blend\",\"Multi-Grain Cheerios\",\"Nut&Honey Crunch\",\"Nutri-Grain Almond-Raisin\",\"Nutri-grain Wheat\",\"Oatmeal Raisin Crisp\",\"Post Nat. Raisin Bran\",\"Product 19\",\"Puffed Rice\",\"Puffed Wheat\",\"Quaker Oat Squares\",\"Quaker Oatmeal\",\"Raisin Bran\",\"Raisin Nut Bran\",\"Raisin Squares\",\"Rice Chex\",\"Rice Krispies\",\"Shredded Wheat\",\"Shredded Wheat 'n'Bran\",\"Shredded Wheat spoon size\",\"Smacks\",\"Special K\",\"Strawberry Fruit Wheats\",\"Total Corn Flakes\",\"Total Raisin Bran\",\"Total Whole Grain\",\"Triples\",\"Trix\",\"Wheat Chex\",\"Wheaties\",\"Wheaties Honey Gold\",\"50\",\"50\",\"70\",\"70\",\"80\",\"90\",\"90\",\"90\",\"90\",\"90\",\"100\",\"100\",\"100\",\"100\",\"100\",\"100\",\"100\",\"100\",\"100\",\"100\",\"100\",\"100\",\"100\",\"100\",\"110\",\"110\",\"110\",\"110\",\"110\",\"110\",\"110\",\"110\",\"110\",\"110\",\"110\",\"120\",\"120\",\"120\",\"120\",\"120\",\"120\",\"130\",\"140\",\"140\",\"150\",\"160\",\"Bottom\",\"Bottom\",\"Bottom\",\"Bottom\",\"Bottom\",\"Bottom\",\"Middle\",\"Middle\",\"Middle\",\"Middle\",\"Middle\",\"Middle\",\"Top\",\"Top\",\"Top\",\"Top\",\"Top\",\"Top\",\"AM Home Food\",\"General Mills\",\"Kellogs\",\"Nabisco\",\"Post\",\"Quaker Oats\",\"Ralston Purina\"],\"name\":\"\",\"parents\":[\"Nabisco\\u002fTop\\u002f70\",\"Quaker Oats\\u002fTop\\u002f120\",\"Kellogs\\u002fTop\\u002f70\",\"Kellogs\\u002fTop\\u002f50\",\"Ralston Purina\\u002fTop\\u002f110\",\"General Mills\\u002fBottom\\u002f110\",\"Kellogs\\u002fMiddle\\u002f110\",\"General Mills\\u002fTop\\u002f130\",\"Ralston Purina\\u002fBottom\\u002f90\",\"Post\\u002fTop\\u002f90\",\"Quaker Oats\\u002fMiddle\\u002f120\",\"General Mills\\u002fBottom\\u002f110\",\"General Mills\\u002fMiddle\\u002f120\",\"General Mills\\u002fTop\\u002f110\",\"General Mills\\u002fMiddle\\u002f110\",\"Ralston Purina\\u002fBottom\\u002f110\",\"Kellogs\\u002fBottom\\u002f100\",\"Kellogs\\u002fMiddle\\u002f110\",\"General Mills\\u002fMiddle\\u002f110\",\"Kellogs\\u002fTop\\u002f110\",\"Nabisco\\u002fMiddle\\u002f100\",\"Kellogs\\u002fTop\\u002f110\",\"General Mills\\u002fTop\\u002f100\",\"Ralston Purina\\u002fTop\\u002f100\",\"Kellogs\\u002fMiddle\\u002f110\",\"Kellogs\\u002fBottom\\u002f110\",\"Kellogs\\u002fMiddle\\u002f100\",\"Post\\u002fTop\\u002f120\",\"Kellogs\\u002fTop\\u002f120\",\"Post\\u002fMiddle\\u002f110\",\"Post\\u002fBottom\\u002f100\",\"General Mills\\u002fMiddle\\u002f110\",\"Post\\u002fTop\\u002f100\",\"Post\\u002fTop\\u002f110\",\"Post\\u002fTop\\u002f120\",\"Quaker Oats\\u002fMiddle\\u002f120\",\"General Mills\\u002fBottom\\u002f110\",\"Post\\u002fBottom\\u002f110\",\"Kellogs\\u002fTop\\u002f110\",\"Kellogs\\u002fTop\\u002f140\",\"General Mills\\u002fMiddle\\u002f110\",\"Quaker Oats\\u002fMiddle\\u002f100\",\"General Mills\\u002fMiddle\\u002f110\",\"AM Home Food\\u002fMiddle\\u002f100\",\"Ralston Purina\\u002fTop\\u002f150\",\"Ralston Purina\\u002fTop\\u002f150\",\"Kellogs\\u002fTop\\u002f160\",\"General Mills\\u002fBottom\\u002f100\",\"Kellogs\\u002fMiddle\\u002f120\",\"Kellogs\\u002fTop\\u002f140\",\"Kellogs\\u002fTop\\u002f90\",\"General Mills\\u002fTop\\u002f130\",\"Post\\u002fTop\\u002f120\",\"Kellogs\\u002fTop\\u002f100\",\"Quaker Oats\\u002fTop\\u002f50\",\"Quaker Oats\\u002fTop\\u002f50\",\"Quaker Oats\\u002fTop\\u002f100\",\"Quaker Oats\\u002fBottom\\u002f100\",\"Kellogs\\u002fMiddle\\u002f120\",\"General Mills\\u002fTop\\u002f100\",\"Kellogs\\u002fTop\\u002f90\",\"Ralston Purina\\u002fBottom\\u002f110\",\"Kellogs\\u002fBottom\\u002f110\",\"Nabisco\\u002fBottom\\u002f80\",\"Nabisco\\u002fBottom\\u002f90\",\"Nabisco\\u002fBottom\\u002f90\",\"Kellogs\\u002fMiddle\\u002f110\",\"Kellogs\\u002fBottom\\u002f110\",\"Nabisco\\u002fMiddle\\u002f90\",\"General Mills\\u002fTop\\u002f110\",\"General Mills\\u002fTop\\u002f140\",\"General Mills\\u002fTop\\u002f100\",\"General Mills\\u002fTop\\u002f110\",\"General Mills\\u002fMiddle\\u002f110\",\"Ralston Purina\\u002fBottom\\u002f100\",\"General Mills\\u002fBottom\\u002f100\",\"General Mills\\u002fBottom\\u002f110\",\"Kellogs\\u002fTop\",\"Quaker Oats\\u002fTop\",\"Kellogs\\u002fTop\",\"Nabisco\\u002fTop\",\"Nabisco\\u002fBottom\",\"Nabisco\\u002fBottom\",\"Ralston Purina\\u002fBottom\",\"Nabisco\\u002fMiddle\",\"Kellogs\\u002fTop\",\"Post\\u002fTop\",\"General Mills\\u002fBottom\",\"Kellogs\\u002fBottom\",\"Post\\u002fBottom\",\"Quaker Oats\\u002fBottom\",\"Ralston Purina\\u002fBottom\",\"AM Home Food\\u002fMiddle\",\"Kellogs\\u002fMiddle\",\"Nabisco\\u002fMiddle\",\"Quaker Oats\\u002fMiddle\",\"General Mills\\u002fTop\",\"Kellogs\\u002fTop\",\"Post\\u002fTop\",\"Quaker Oats\\u002fTop\",\"Ralston Purina\\u002fTop\",\"General Mills\\u002fBottom\",\"Kellogs\\u002fBottom\",\"Post\\u002fBottom\",\"Ralston Purina\\u002fBottom\",\"General Mills\\u002fMiddle\",\"Kellogs\\u002fMiddle\",\"Post\\u002fMiddle\",\"General Mills\\u002fTop\",\"Kellogs\\u002fTop\",\"Post\\u002fTop\",\"Ralston Purina\\u002fTop\",\"General Mills\\u002fMiddle\",\"Kellogs\\u002fMiddle\",\"Quaker Oats\\u002fMiddle\",\"Kellogs\\u002fTop\",\"Post\\u002fTop\",\"Quaker Oats\\u002fTop\",\"General Mills\\u002fTop\",\"General Mills\\u002fTop\",\"Kellogs\\u002fTop\",\"Ralston Purina\\u002fTop\",\"Kellogs\\u002fTop\",\"General Mills\",\"Kellogs\",\"Nabisco\",\"Post\",\"Quaker Oats\",\"Ralston Purina\",\"AM Home Food\",\"General Mills\",\"Kellogs\",\"Nabisco\",\"Post\",\"Quaker Oats\",\"General Mills\",\"Kellogs\",\"Nabisco\",\"Post\",\"Quaker Oats\",\"Ralston Purina\",\"\",\"\",\"\",\"\",\"\",\"\",\"\"],\"values\":[1,1,1,1,1,1,1,1,1,1,1,1,1,1,1,1,1,1,1,1,1,1,1,1,1,1,1,1,1,1,1,1,1,1,1,1,1,1,1,1,1,1,1,1,1,1,1,1,1,1,1,1,1,1,1,1,1,1,1,1,1,1,1,1,1,1,1,1,1,1,1,1,1,1,1,1,1,1,2,1,1,1,2,1,1,2,1,2,1,1,1,1,1,1,1,1,3,1,1,1,1,4,3,1,2,6,4,1,3,3,1,1,1,2,2,1,3,1,2,1,2,2,1,6,4,3,2,1,4,1,7,7,2,1,3,9,12,1,6,4,4,1,22,23,6,9,8,8],\"type\":\"treemap\"}],                        {\"template\":{\"data\":{\"histogram2dcontour\":[{\"type\":\"histogram2dcontour\",\"colorbar\":{\"outlinewidth\":0,\"ticks\":\"\"},\"colorscale\":[[0.0,\"#0d0887\"],[0.1111111111111111,\"#46039f\"],[0.2222222222222222,\"#7201a8\"],[0.3333333333333333,\"#9c179e\"],[0.4444444444444444,\"#bd3786\"],[0.5555555555555556,\"#d8576b\"],[0.6666666666666666,\"#ed7953\"],[0.7777777777777778,\"#fb9f3a\"],[0.8888888888888888,\"#fdca26\"],[1.0,\"#f0f921\"]]}],\"choropleth\":[{\"type\":\"choropleth\",\"colorbar\":{\"outlinewidth\":0,\"ticks\":\"\"}}],\"histogram2d\":[{\"type\":\"histogram2d\",\"colorbar\":{\"outlinewidth\":0,\"ticks\":\"\"},\"colorscale\":[[0.0,\"#0d0887\"],[0.1111111111111111,\"#46039f\"],[0.2222222222222222,\"#7201a8\"],[0.3333333333333333,\"#9c179e\"],[0.4444444444444444,\"#bd3786\"],[0.5555555555555556,\"#d8576b\"],[0.6666666666666666,\"#ed7953\"],[0.7777777777777778,\"#fb9f3a\"],[0.8888888888888888,\"#fdca26\"],[1.0,\"#f0f921\"]]}],\"heatmap\":[{\"type\":\"heatmap\",\"colorbar\":{\"outlinewidth\":0,\"ticks\":\"\"},\"colorscale\":[[0.0,\"#0d0887\"],[0.1111111111111111,\"#46039f\"],[0.2222222222222222,\"#7201a8\"],[0.3333333333333333,\"#9c179e\"],[0.4444444444444444,\"#bd3786\"],[0.5555555555555556,\"#d8576b\"],[0.6666666666666666,\"#ed7953\"],[0.7777777777777778,\"#fb9f3a\"],[0.8888888888888888,\"#fdca26\"],[1.0,\"#f0f921\"]]}],\"heatmapgl\":[{\"type\":\"heatmapgl\",\"colorbar\":{\"outlinewidth\":0,\"ticks\":\"\"},\"colorscale\":[[0.0,\"#0d0887\"],[0.1111111111111111,\"#46039f\"],[0.2222222222222222,\"#7201a8\"],[0.3333333333333333,\"#9c179e\"],[0.4444444444444444,\"#bd3786\"],[0.5555555555555556,\"#d8576b\"],[0.6666666666666666,\"#ed7953\"],[0.7777777777777778,\"#fb9f3a\"],[0.8888888888888888,\"#fdca26\"],[1.0,\"#f0f921\"]]}],\"contourcarpet\":[{\"type\":\"contourcarpet\",\"colorbar\":{\"outlinewidth\":0,\"ticks\":\"\"}}],\"contour\":[{\"type\":\"contour\",\"colorbar\":{\"outlinewidth\":0,\"ticks\":\"\"},\"colorscale\":[[0.0,\"#0d0887\"],[0.1111111111111111,\"#46039f\"],[0.2222222222222222,\"#7201a8\"],[0.3333333333333333,\"#9c179e\"],[0.4444444444444444,\"#bd3786\"],[0.5555555555555556,\"#d8576b\"],[0.6666666666666666,\"#ed7953\"],[0.7777777777777778,\"#fb9f3a\"],[0.8888888888888888,\"#fdca26\"],[1.0,\"#f0f921\"]]}],\"surface\":[{\"type\":\"surface\",\"colorbar\":{\"outlinewidth\":0,\"ticks\":\"\"},\"colorscale\":[[0.0,\"#0d0887\"],[0.1111111111111111,\"#46039f\"],[0.2222222222222222,\"#7201a8\"],[0.3333333333333333,\"#9c179e\"],[0.4444444444444444,\"#bd3786\"],[0.5555555555555556,\"#d8576b\"],[0.6666666666666666,\"#ed7953\"],[0.7777777777777778,\"#fb9f3a\"],[0.8888888888888888,\"#fdca26\"],[1.0,\"#f0f921\"]]}],\"mesh3d\":[{\"type\":\"mesh3d\",\"colorbar\":{\"outlinewidth\":0,\"ticks\":\"\"}}],\"scatter\":[{\"fillpattern\":{\"fillmode\":\"overlay\",\"size\":10,\"solidity\":0.2},\"type\":\"scatter\"}],\"parcoords\":[{\"type\":\"parcoords\",\"line\":{\"colorbar\":{\"outlinewidth\":0,\"ticks\":\"\"}}}],\"scatterpolargl\":[{\"type\":\"scatterpolargl\",\"marker\":{\"colorbar\":{\"outlinewidth\":0,\"ticks\":\"\"}}}],\"bar\":[{\"error_x\":{\"color\":\"#2a3f5f\"},\"error_y\":{\"color\":\"#2a3f5f\"},\"marker\":{\"line\":{\"color\":\"#E5ECF6\",\"width\":0.5},\"pattern\":{\"fillmode\":\"overlay\",\"size\":10,\"solidity\":0.2}},\"type\":\"bar\"}],\"scattergeo\":[{\"type\":\"scattergeo\",\"marker\":{\"colorbar\":{\"outlinewidth\":0,\"ticks\":\"\"}}}],\"scatterpolar\":[{\"type\":\"scatterpolar\",\"marker\":{\"colorbar\":{\"outlinewidth\":0,\"ticks\":\"\"}}}],\"histogram\":[{\"marker\":{\"pattern\":{\"fillmode\":\"overlay\",\"size\":10,\"solidity\":0.2}},\"type\":\"histogram\"}],\"scattergl\":[{\"type\":\"scattergl\",\"marker\":{\"colorbar\":{\"outlinewidth\":0,\"ticks\":\"\"}}}],\"scatter3d\":[{\"type\":\"scatter3d\",\"line\":{\"colorbar\":{\"outlinewidth\":0,\"ticks\":\"\"}},\"marker\":{\"colorbar\":{\"outlinewidth\":0,\"ticks\":\"\"}}}],\"scattermapbox\":[{\"type\":\"scattermapbox\",\"marker\":{\"colorbar\":{\"outlinewidth\":0,\"ticks\":\"\"}}}],\"scatterternary\":[{\"type\":\"scatterternary\",\"marker\":{\"colorbar\":{\"outlinewidth\":0,\"ticks\":\"\"}}}],\"scattercarpet\":[{\"type\":\"scattercarpet\",\"marker\":{\"colorbar\":{\"outlinewidth\":0,\"ticks\":\"\"}}}],\"carpet\":[{\"aaxis\":{\"endlinecolor\":\"#2a3f5f\",\"gridcolor\":\"white\",\"linecolor\":\"white\",\"minorgridcolor\":\"white\",\"startlinecolor\":\"#2a3f5f\"},\"baxis\":{\"endlinecolor\":\"#2a3f5f\",\"gridcolor\":\"white\",\"linecolor\":\"white\",\"minorgridcolor\":\"white\",\"startlinecolor\":\"#2a3f5f\"},\"type\":\"carpet\"}],\"table\":[{\"cells\":{\"fill\":{\"color\":\"#EBF0F8\"},\"line\":{\"color\":\"white\"}},\"header\":{\"fill\":{\"color\":\"#C8D4E3\"},\"line\":{\"color\":\"white\"}},\"type\":\"table\"}],\"barpolar\":[{\"marker\":{\"line\":{\"color\":\"#E5ECF6\",\"width\":0.5},\"pattern\":{\"fillmode\":\"overlay\",\"size\":10,\"solidity\":0.2}},\"type\":\"barpolar\"}],\"pie\":[{\"automargin\":true,\"type\":\"pie\"}]},\"layout\":{\"autotypenumbers\":\"strict\",\"colorway\":[\"#636efa\",\"#EF553B\",\"#00cc96\",\"#ab63fa\",\"#FFA15A\",\"#19d3f3\",\"#FF6692\",\"#B6E880\",\"#FF97FF\",\"#FECB52\"],\"font\":{\"color\":\"#2a3f5f\"},\"hovermode\":\"closest\",\"hoverlabel\":{\"align\":\"left\"},\"paper_bgcolor\":\"white\",\"plot_bgcolor\":\"#E5ECF6\",\"polar\":{\"bgcolor\":\"#E5ECF6\",\"angularaxis\":{\"gridcolor\":\"white\",\"linecolor\":\"white\",\"ticks\":\"\"},\"radialaxis\":{\"gridcolor\":\"white\",\"linecolor\":\"white\",\"ticks\":\"\"}},\"ternary\":{\"bgcolor\":\"#E5ECF6\",\"aaxis\":{\"gridcolor\":\"white\",\"linecolor\":\"white\",\"ticks\":\"\"},\"baxis\":{\"gridcolor\":\"white\",\"linecolor\":\"white\",\"ticks\":\"\"},\"caxis\":{\"gridcolor\":\"white\",\"linecolor\":\"white\",\"ticks\":\"\"}},\"coloraxis\":{\"colorbar\":{\"outlinewidth\":0,\"ticks\":\"\"}},\"colorscale\":{\"sequential\":[[0.0,\"#0d0887\"],[0.1111111111111111,\"#46039f\"],[0.2222222222222222,\"#7201a8\"],[0.3333333333333333,\"#9c179e\"],[0.4444444444444444,\"#bd3786\"],[0.5555555555555556,\"#d8576b\"],[0.6666666666666666,\"#ed7953\"],[0.7777777777777778,\"#fb9f3a\"],[0.8888888888888888,\"#fdca26\"],[1.0,\"#f0f921\"]],\"sequentialminus\":[[0.0,\"#0d0887\"],[0.1111111111111111,\"#46039f\"],[0.2222222222222222,\"#7201a8\"],[0.3333333333333333,\"#9c179e\"],[0.4444444444444444,\"#bd3786\"],[0.5555555555555556,\"#d8576b\"],[0.6666666666666666,\"#ed7953\"],[0.7777777777777778,\"#fb9f3a\"],[0.8888888888888888,\"#fdca26\"],[1.0,\"#f0f921\"]],\"diverging\":[[0,\"#8e0152\"],[0.1,\"#c51b7d\"],[0.2,\"#de77ae\"],[0.3,\"#f1b6da\"],[0.4,\"#fde0ef\"],[0.5,\"#f7f7f7\"],[0.6,\"#e6f5d0\"],[0.7,\"#b8e186\"],[0.8,\"#7fbc41\"],[0.9,\"#4d9221\"],[1,\"#276419\"]]},\"xaxis\":{\"gridcolor\":\"white\",\"linecolor\":\"white\",\"ticks\":\"\",\"title\":{\"standoff\":15},\"zerolinecolor\":\"white\",\"automargin\":true,\"zerolinewidth\":2},\"yaxis\":{\"gridcolor\":\"white\",\"linecolor\":\"white\",\"ticks\":\"\",\"title\":{\"standoff\":15},\"zerolinecolor\":\"white\",\"automargin\":true,\"zerolinewidth\":2},\"scene\":{\"xaxis\":{\"backgroundcolor\":\"#E5ECF6\",\"gridcolor\":\"white\",\"linecolor\":\"white\",\"showbackground\":true,\"ticks\":\"\",\"zerolinecolor\":\"white\",\"gridwidth\":2},\"yaxis\":{\"backgroundcolor\":\"#E5ECF6\",\"gridcolor\":\"white\",\"linecolor\":\"white\",\"showbackground\":true,\"ticks\":\"\",\"zerolinecolor\":\"white\",\"gridwidth\":2},\"zaxis\":{\"backgroundcolor\":\"#E5ECF6\",\"gridcolor\":\"white\",\"linecolor\":\"white\",\"showbackground\":true,\"ticks\":\"\",\"zerolinecolor\":\"white\",\"gridwidth\":2}},\"shapedefaults\":{\"line\":{\"color\":\"#2a3f5f\"}},\"annotationdefaults\":{\"arrowcolor\":\"#2a3f5f\",\"arrowhead\":0,\"arrowwidth\":1},\"geo\":{\"bgcolor\":\"white\",\"landcolor\":\"#E5ECF6\",\"subunitcolor\":\"white\",\"showland\":true,\"showlakes\":true,\"lakecolor\":\"white\"},\"title\":{\"x\":0.05},\"mapbox\":{\"style\":\"light\"}}},\"legend\":{\"tracegroupgap\":0},\"title\":{\"text\":\"Cereals by shelf location\"}},                        {\"responsive\": true}                    ).then(function(){\n",
              "                            \n",
              "var gd = document.getElementById('b1fed87e-91fa-418a-9b55-a29f580560f0');\n",
              "var x = new MutationObserver(function (mutations, observer) {{\n",
              "        var display = window.getComputedStyle(gd).display;\n",
              "        if (!display || display === 'none') {{\n",
              "            console.log([gd, 'removed!']);\n",
              "            Plotly.purge(gd);\n",
              "            observer.disconnect();\n",
              "        }}\n",
              "}});\n",
              "\n",
              "// Listen for the removal of the full notebook cells\n",
              "var notebookContainer = gd.closest('#notebook-container');\n",
              "if (notebookContainer) {{\n",
              "    x.observe(notebookContainer, {childList: true});\n",
              "}}\n",
              "\n",
              "// Listen for the clearing of the current output cell\n",
              "var outputEl = gd.closest('.output');\n",
              "if (outputEl) {{\n",
              "    x.observe(outputEl, {childList: true});\n",
              "}}\n",
              "\n",
              "                        })                };                            </script>        </div>\n",
              "</body>\n",
              "</html>"
            ]
          },
          "metadata": {}
        }
      ]
    },
    {
      "cell_type": "code",
      "source": [
        "fig = px.sunburst(df, path=['mfr','calories','sugars'], values='cereal')\n",
        "fig.show()"
      ],
      "metadata": {
        "id": "35zNI8SRg9zf",
        "colab": {
          "base_uri": "https://localhost:8080/",
          "height": 542
        },
        "outputId": "ae6b723a-46a3-4e08-82cf-97a8ac26e2ed"
      },
      "execution_count": null,
      "outputs": [
        {
          "output_type": "display_data",
          "data": {
            "text/html": [
              "<html>\n",
              "<head><meta charset=\"utf-8\" /></head>\n",
              "<body>\n",
              "    <div>            <script src=\"https://cdnjs.cloudflare.com/ajax/libs/mathjax/2.7.5/MathJax.js?config=TeX-AMS-MML_SVG\"></script><script type=\"text/javascript\">if (window.MathJax && window.MathJax.Hub && window.MathJax.Hub.Config) {window.MathJax.Hub.Config({SVG: {font: \"STIX-Web\"}});}</script>                <script type=\"text/javascript\">window.PlotlyConfig = {MathJaxConfig: 'local'};</script>\n",
              "        <script charset=\"utf-8\" src=\"https://cdn.plot.ly/plotly-2.24.1.min.js\"></script>                <div id=\"e12b3104-8c49-4493-957c-c43fb9508bac\" class=\"plotly-graph-div\" style=\"height:525px; width:100%;\"></div>            <script type=\"text/javascript\">                                    window.PLOTLYENV=window.PLOTLYENV || {};                                    if (document.getElementById(\"e12b3104-8c49-4493-957c-c43fb9508bac\")) {                    Plotly.newPlot(                        \"e12b3104-8c49-4493-957c-c43fb9508bac\",                        [{\"branchvalues\":\"total\",\"domain\":{\"x\":[0.0,1.0],\"y\":[0.0,1.0]},\"hovertemplate\":\"labels=%{label}\\u003cbr\\u003ecereal=%{value}\\u003cbr\\u003eparent=%{parent}\\u003cbr\\u003eid=%{id}\\u003cextra\\u003e\\u003c\\u002fextra\\u003e\",\"ids\":[\"Quaker Oats\\u002f100\\u002f-1\",\"Kellogs\\u002f50\\u002f0\",\"Quaker Oats\\u002f50\\u002f0\",\"Nabisco\\u002f80\\u002f0\",\"Nabisco\\u002f90\\u002f0\",\"Nabisco\\u002f100\\u002f0\",\"General Mills\\u002f110\\u002f1\",\"Kellogs\\u002f90\\u002f2\",\"Kellogs\\u002f100\\u002f2\",\"Ralston Purina\\u002f110\\u002f2\",\"AM Home Food\\u002f100\\u002f3\",\"General Mills\\u002f100\\u002f3\",\"Kellogs\\u002f100\\u002f3\",\"Ralston Purina\\u002f100\\u002f3\",\"General Mills\\u002f110\\u002f3\",\"Kellogs\\u002f110\\u002f3\",\"Post\\u002f110\\u002f3\",\"Ralston Purina\\u002f110\\u002f3\",\"Post\\u002f120\\u002f4\",\"Kellogs\\u002f70\\u002f5\",\"Nabisco\\u002f90\\u002f5\",\"Post\\u002f90\\u002f5\",\"Post\\u002f100\\u002f5\",\"Ralston Purina\\u002f100\\u002f5\",\"Nabisco\\u002f70\\u002f6\",\"Kellogs\\u002f90\\u002f6\",\"Ralston Purina\\u002f90\\u002f6\",\"General Mills\\u002f100\\u002f6\",\"Quaker Oats\\u002f100\\u002f6\",\"Kellogs\\u002f110\\u002f6\",\"Kellogs\\u002f100\\u002f7\",\"General Mills\\u002f110\\u002f7\",\"Kellogs\\u002f110\\u002f7\",\"Kellogs\\u002f140\\u002f7\",\"General Mills\\u002f100\\u002f8\",\"General Mills\\u002f110\\u002f8\",\"Ralston Purina\\u002f110\\u002f8\",\"Quaker Oats\\u002f120\\u002f8\",\"General Mills\\u002f130\\u002f8\",\"General Mills\\u002f110\\u002f9\",\"General Mills\\u002f120\\u002f9\",\"Kellogs\\u002f120\\u002f9\",\"Kellogs\\u002f140\\u002f9\",\"General Mills\\u002f100\\u002f10\",\"General Mills\\u002f110\\u002f10\",\"Post\\u002f120\\u002f10\",\"General Mills\\u002f130\\u002f10\",\"Kellogs\\u002f110\\u002f11\",\"Post\\u002f110\\u002f11\",\"Quaker Oats\\u002f120\\u002f11\",\"Ralston Purina\\u002f150\\u002f11\",\"General Mills\\u002f110\\u002f12\",\"Kellogs\\u002f110\\u002f12\",\"Post\\u002f110\\u002f12\",\"Kellogs\\u002f120\\u002f12\",\"Quaker Oats\\u002f120\\u002f12\",\"General Mills\\u002f110\\u002f13\",\"Kellogs\\u002f110\\u002f13\",\"Kellogs\\u002f160\\u002f13\",\"Kellogs\\u002f110\\u002f14\",\"Post\\u002f120\\u002f14\",\"General Mills\\u002f140\\u002f14\",\"Post\\u002f100\\u002f15\",\"Kellogs\\u002f110\\u002f15\",\"Kellogs\\u002f50\",\"Quaker Oats\\u002f50\",\"Kellogs\\u002f70\",\"Nabisco\\u002f70\",\"Nabisco\\u002f80\",\"Kellogs\\u002f90\",\"Nabisco\\u002f90\",\"Post\\u002f90\",\"Ralston Purina\\u002f90\",\"AM Home Food\\u002f100\",\"General Mills\\u002f100\",\"Kellogs\\u002f100\",\"Nabisco\\u002f100\",\"Post\\u002f100\",\"Quaker Oats\\u002f100\",\"Ralston Purina\\u002f100\",\"General Mills\\u002f110\",\"Kellogs\\u002f110\",\"Post\\u002f110\",\"Ralston Purina\\u002f110\",\"General Mills\\u002f120\",\"Kellogs\\u002f120\",\"Post\\u002f120\",\"Quaker Oats\\u002f120\",\"General Mills\\u002f130\",\"General Mills\\u002f140\",\"Kellogs\\u002f140\",\"Ralston Purina\\u002f150\",\"Kellogs\\u002f160\",\"AM Home Food\",\"General Mills\",\"Kellogs\",\"Nabisco\",\"Post\",\"Quaker Oats\",\"Ralston Purina\"],\"labels\":[\"-1\",\"0\",\"0\",\"0\",\"0\",\"0\",\"1\",\"2\",\"2\",\"2\",\"3\",\"3\",\"3\",\"3\",\"3\",\"3\",\"3\",\"3\",\"4\",\"5\",\"5\",\"5\",\"5\",\"5\",\"6\",\"6\",\"6\",\"6\",\"6\",\"6\",\"7\",\"7\",\"7\",\"7\",\"8\",\"8\",\"8\",\"8\",\"8\",\"9\",\"9\",\"9\",\"9\",\"10\",\"10\",\"10\",\"10\",\"11\",\"11\",\"11\",\"11\",\"12\",\"12\",\"12\",\"12\",\"12\",\"13\",\"13\",\"13\",\"14\",\"14\",\"14\",\"15\",\"15\",\"50\",\"50\",\"70\",\"70\",\"80\",\"90\",\"90\",\"90\",\"90\",\"100\",\"100\",\"100\",\"100\",\"100\",\"100\",\"100\",\"110\",\"110\",\"110\",\"110\",\"120\",\"120\",\"120\",\"120\",\"130\",\"140\",\"140\",\"150\",\"160\",\"AM Home Food\",\"General Mills\",\"Kellogs\",\"Nabisco\",\"Post\",\"Quaker Oats\",\"Ralston Purina\"],\"name\":\"\",\"parents\":[\"Quaker Oats\\u002f100\",\"Kellogs\\u002f50\",\"Quaker Oats\\u002f50\",\"Nabisco\\u002f80\",\"Nabisco\\u002f90\",\"Nabisco\\u002f100\",\"General Mills\\u002f110\",\"Kellogs\\u002f90\",\"Kellogs\\u002f100\",\"Ralston Purina\\u002f110\",\"AM Home Food\\u002f100\",\"General Mills\\u002f100\",\"Kellogs\\u002f100\",\"Ralston Purina\\u002f100\",\"General Mills\\u002f110\",\"Kellogs\\u002f110\",\"Post\\u002f110\",\"Ralston Purina\\u002f110\",\"Post\\u002f120\",\"Kellogs\\u002f70\",\"Nabisco\\u002f90\",\"Post\\u002f90\",\"Post\\u002f100\",\"Ralston Purina\\u002f100\",\"Nabisco\\u002f70\",\"Kellogs\\u002f90\",\"Ralston Purina\\u002f90\",\"General Mills\\u002f100\",\"Quaker Oats\\u002f100\",\"Kellogs\\u002f110\",\"Kellogs\\u002f100\",\"General Mills\\u002f110\",\"Kellogs\\u002f110\",\"Kellogs\\u002f140\",\"General Mills\\u002f100\",\"General Mills\\u002f110\",\"Ralston Purina\\u002f110\",\"Quaker Oats\\u002f120\",\"General Mills\\u002f130\",\"General Mills\\u002f110\",\"General Mills\\u002f120\",\"Kellogs\\u002f120\",\"Kellogs\\u002f140\",\"General Mills\\u002f100\",\"General Mills\\u002f110\",\"Post\\u002f120\",\"General Mills\\u002f130\",\"Kellogs\\u002f110\",\"Post\\u002f110\",\"Quaker Oats\\u002f120\",\"Ralston Purina\\u002f150\",\"General Mills\\u002f110\",\"Kellogs\\u002f110\",\"Post\\u002f110\",\"Kellogs\\u002f120\",\"Quaker Oats\\u002f120\",\"General Mills\\u002f110\",\"Kellogs\\u002f110\",\"Kellogs\\u002f160\",\"Kellogs\\u002f110\",\"Post\\u002f120\",\"General Mills\\u002f140\",\"Post\\u002f100\",\"Kellogs\\u002f110\",\"Kellogs\",\"Quaker Oats\",\"Kellogs\",\"Nabisco\",\"Nabisco\",\"Kellogs\",\"Nabisco\",\"Post\",\"Ralston Purina\",\"AM Home Food\",\"General Mills\",\"Kellogs\",\"Nabisco\",\"Post\",\"Quaker Oats\",\"Ralston Purina\",\"General Mills\",\"Kellogs\",\"Post\",\"Ralston Purina\",\"General Mills\",\"Kellogs\",\"Post\",\"Quaker Oats\",\"General Mills\",\"General Mills\",\"Kellogs\",\"Ralston Purina\",\"Kellogs\",\"\",\"\",\"\",\"\",\"\",\"\",\"\"],\"values\":[1,1,2,1,2,1,1,1,1,1,1,2,1,1,3,3,1,1,1,1,1,1,1,1,1,1,1,1,2,1,1,1,1,1,1,1,1,1,1,1,1,1,1,1,2,1,1,1,1,1,2,2,1,1,2,1,2,1,1,1,1,1,1,1,1,2,1,1,1,2,3,1,1,1,5,3,1,2,3,2,13,10,3,3,1,3,3,3,2,1,2,2,1,1,22,23,6,9,8,8],\"type\":\"sunburst\"}],                        {\"template\":{\"data\":{\"histogram2dcontour\":[{\"type\":\"histogram2dcontour\",\"colorbar\":{\"outlinewidth\":0,\"ticks\":\"\"},\"colorscale\":[[0.0,\"#0d0887\"],[0.1111111111111111,\"#46039f\"],[0.2222222222222222,\"#7201a8\"],[0.3333333333333333,\"#9c179e\"],[0.4444444444444444,\"#bd3786\"],[0.5555555555555556,\"#d8576b\"],[0.6666666666666666,\"#ed7953\"],[0.7777777777777778,\"#fb9f3a\"],[0.8888888888888888,\"#fdca26\"],[1.0,\"#f0f921\"]]}],\"choropleth\":[{\"type\":\"choropleth\",\"colorbar\":{\"outlinewidth\":0,\"ticks\":\"\"}}],\"histogram2d\":[{\"type\":\"histogram2d\",\"colorbar\":{\"outlinewidth\":0,\"ticks\":\"\"},\"colorscale\":[[0.0,\"#0d0887\"],[0.1111111111111111,\"#46039f\"],[0.2222222222222222,\"#7201a8\"],[0.3333333333333333,\"#9c179e\"],[0.4444444444444444,\"#bd3786\"],[0.5555555555555556,\"#d8576b\"],[0.6666666666666666,\"#ed7953\"],[0.7777777777777778,\"#fb9f3a\"],[0.8888888888888888,\"#fdca26\"],[1.0,\"#f0f921\"]]}],\"heatmap\":[{\"type\":\"heatmap\",\"colorbar\":{\"outlinewidth\":0,\"ticks\":\"\"},\"colorscale\":[[0.0,\"#0d0887\"],[0.1111111111111111,\"#46039f\"],[0.2222222222222222,\"#7201a8\"],[0.3333333333333333,\"#9c179e\"],[0.4444444444444444,\"#bd3786\"],[0.5555555555555556,\"#d8576b\"],[0.6666666666666666,\"#ed7953\"],[0.7777777777777778,\"#fb9f3a\"],[0.8888888888888888,\"#fdca26\"],[1.0,\"#f0f921\"]]}],\"heatmapgl\":[{\"type\":\"heatmapgl\",\"colorbar\":{\"outlinewidth\":0,\"ticks\":\"\"},\"colorscale\":[[0.0,\"#0d0887\"],[0.1111111111111111,\"#46039f\"],[0.2222222222222222,\"#7201a8\"],[0.3333333333333333,\"#9c179e\"],[0.4444444444444444,\"#bd3786\"],[0.5555555555555556,\"#d8576b\"],[0.6666666666666666,\"#ed7953\"],[0.7777777777777778,\"#fb9f3a\"],[0.8888888888888888,\"#fdca26\"],[1.0,\"#f0f921\"]]}],\"contourcarpet\":[{\"type\":\"contourcarpet\",\"colorbar\":{\"outlinewidth\":0,\"ticks\":\"\"}}],\"contour\":[{\"type\":\"contour\",\"colorbar\":{\"outlinewidth\":0,\"ticks\":\"\"},\"colorscale\":[[0.0,\"#0d0887\"],[0.1111111111111111,\"#46039f\"],[0.2222222222222222,\"#7201a8\"],[0.3333333333333333,\"#9c179e\"],[0.4444444444444444,\"#bd3786\"],[0.5555555555555556,\"#d8576b\"],[0.6666666666666666,\"#ed7953\"],[0.7777777777777778,\"#fb9f3a\"],[0.8888888888888888,\"#fdca26\"],[1.0,\"#f0f921\"]]}],\"surface\":[{\"type\":\"surface\",\"colorbar\":{\"outlinewidth\":0,\"ticks\":\"\"},\"colorscale\":[[0.0,\"#0d0887\"],[0.1111111111111111,\"#46039f\"],[0.2222222222222222,\"#7201a8\"],[0.3333333333333333,\"#9c179e\"],[0.4444444444444444,\"#bd3786\"],[0.5555555555555556,\"#d8576b\"],[0.6666666666666666,\"#ed7953\"],[0.7777777777777778,\"#fb9f3a\"],[0.8888888888888888,\"#fdca26\"],[1.0,\"#f0f921\"]]}],\"mesh3d\":[{\"type\":\"mesh3d\",\"colorbar\":{\"outlinewidth\":0,\"ticks\":\"\"}}],\"scatter\":[{\"fillpattern\":{\"fillmode\":\"overlay\",\"size\":10,\"solidity\":0.2},\"type\":\"scatter\"}],\"parcoords\":[{\"type\":\"parcoords\",\"line\":{\"colorbar\":{\"outlinewidth\":0,\"ticks\":\"\"}}}],\"scatterpolargl\":[{\"type\":\"scatterpolargl\",\"marker\":{\"colorbar\":{\"outlinewidth\":0,\"ticks\":\"\"}}}],\"bar\":[{\"error_x\":{\"color\":\"#2a3f5f\"},\"error_y\":{\"color\":\"#2a3f5f\"},\"marker\":{\"line\":{\"color\":\"#E5ECF6\",\"width\":0.5},\"pattern\":{\"fillmode\":\"overlay\",\"size\":10,\"solidity\":0.2}},\"type\":\"bar\"}],\"scattergeo\":[{\"type\":\"scattergeo\",\"marker\":{\"colorbar\":{\"outlinewidth\":0,\"ticks\":\"\"}}}],\"scatterpolar\":[{\"type\":\"scatterpolar\",\"marker\":{\"colorbar\":{\"outlinewidth\":0,\"ticks\":\"\"}}}],\"histogram\":[{\"marker\":{\"pattern\":{\"fillmode\":\"overlay\",\"size\":10,\"solidity\":0.2}},\"type\":\"histogram\"}],\"scattergl\":[{\"type\":\"scattergl\",\"marker\":{\"colorbar\":{\"outlinewidth\":0,\"ticks\":\"\"}}}],\"scatter3d\":[{\"type\":\"scatter3d\",\"line\":{\"colorbar\":{\"outlinewidth\":0,\"ticks\":\"\"}},\"marker\":{\"colorbar\":{\"outlinewidth\":0,\"ticks\":\"\"}}}],\"scattermapbox\":[{\"type\":\"scattermapbox\",\"marker\":{\"colorbar\":{\"outlinewidth\":0,\"ticks\":\"\"}}}],\"scatterternary\":[{\"type\":\"scatterternary\",\"marker\":{\"colorbar\":{\"outlinewidth\":0,\"ticks\":\"\"}}}],\"scattercarpet\":[{\"type\":\"scattercarpet\",\"marker\":{\"colorbar\":{\"outlinewidth\":0,\"ticks\":\"\"}}}],\"carpet\":[{\"aaxis\":{\"endlinecolor\":\"#2a3f5f\",\"gridcolor\":\"white\",\"linecolor\":\"white\",\"minorgridcolor\":\"white\",\"startlinecolor\":\"#2a3f5f\"},\"baxis\":{\"endlinecolor\":\"#2a3f5f\",\"gridcolor\":\"white\",\"linecolor\":\"white\",\"minorgridcolor\":\"white\",\"startlinecolor\":\"#2a3f5f\"},\"type\":\"carpet\"}],\"table\":[{\"cells\":{\"fill\":{\"color\":\"#EBF0F8\"},\"line\":{\"color\":\"white\"}},\"header\":{\"fill\":{\"color\":\"#C8D4E3\"},\"line\":{\"color\":\"white\"}},\"type\":\"table\"}],\"barpolar\":[{\"marker\":{\"line\":{\"color\":\"#E5ECF6\",\"width\":0.5},\"pattern\":{\"fillmode\":\"overlay\",\"size\":10,\"solidity\":0.2}},\"type\":\"barpolar\"}],\"pie\":[{\"automargin\":true,\"type\":\"pie\"}]},\"layout\":{\"autotypenumbers\":\"strict\",\"colorway\":[\"#636efa\",\"#EF553B\",\"#00cc96\",\"#ab63fa\",\"#FFA15A\",\"#19d3f3\",\"#FF6692\",\"#B6E880\",\"#FF97FF\",\"#FECB52\"],\"font\":{\"color\":\"#2a3f5f\"},\"hovermode\":\"closest\",\"hoverlabel\":{\"align\":\"left\"},\"paper_bgcolor\":\"white\",\"plot_bgcolor\":\"#E5ECF6\",\"polar\":{\"bgcolor\":\"#E5ECF6\",\"angularaxis\":{\"gridcolor\":\"white\",\"linecolor\":\"white\",\"ticks\":\"\"},\"radialaxis\":{\"gridcolor\":\"white\",\"linecolor\":\"white\",\"ticks\":\"\"}},\"ternary\":{\"bgcolor\":\"#E5ECF6\",\"aaxis\":{\"gridcolor\":\"white\",\"linecolor\":\"white\",\"ticks\":\"\"},\"baxis\":{\"gridcolor\":\"white\",\"linecolor\":\"white\",\"ticks\":\"\"},\"caxis\":{\"gridcolor\":\"white\",\"linecolor\":\"white\",\"ticks\":\"\"}},\"coloraxis\":{\"colorbar\":{\"outlinewidth\":0,\"ticks\":\"\"}},\"colorscale\":{\"sequential\":[[0.0,\"#0d0887\"],[0.1111111111111111,\"#46039f\"],[0.2222222222222222,\"#7201a8\"],[0.3333333333333333,\"#9c179e\"],[0.4444444444444444,\"#bd3786\"],[0.5555555555555556,\"#d8576b\"],[0.6666666666666666,\"#ed7953\"],[0.7777777777777778,\"#fb9f3a\"],[0.8888888888888888,\"#fdca26\"],[1.0,\"#f0f921\"]],\"sequentialminus\":[[0.0,\"#0d0887\"],[0.1111111111111111,\"#46039f\"],[0.2222222222222222,\"#7201a8\"],[0.3333333333333333,\"#9c179e\"],[0.4444444444444444,\"#bd3786\"],[0.5555555555555556,\"#d8576b\"],[0.6666666666666666,\"#ed7953\"],[0.7777777777777778,\"#fb9f3a\"],[0.8888888888888888,\"#fdca26\"],[1.0,\"#f0f921\"]],\"diverging\":[[0,\"#8e0152\"],[0.1,\"#c51b7d\"],[0.2,\"#de77ae\"],[0.3,\"#f1b6da\"],[0.4,\"#fde0ef\"],[0.5,\"#f7f7f7\"],[0.6,\"#e6f5d0\"],[0.7,\"#b8e186\"],[0.8,\"#7fbc41\"],[0.9,\"#4d9221\"],[1,\"#276419\"]]},\"xaxis\":{\"gridcolor\":\"white\",\"linecolor\":\"white\",\"ticks\":\"\",\"title\":{\"standoff\":15},\"zerolinecolor\":\"white\",\"automargin\":true,\"zerolinewidth\":2},\"yaxis\":{\"gridcolor\":\"white\",\"linecolor\":\"white\",\"ticks\":\"\",\"title\":{\"standoff\":15},\"zerolinecolor\":\"white\",\"automargin\":true,\"zerolinewidth\":2},\"scene\":{\"xaxis\":{\"backgroundcolor\":\"#E5ECF6\",\"gridcolor\":\"white\",\"linecolor\":\"white\",\"showbackground\":true,\"ticks\":\"\",\"zerolinecolor\":\"white\",\"gridwidth\":2},\"yaxis\":{\"backgroundcolor\":\"#E5ECF6\",\"gridcolor\":\"white\",\"linecolor\":\"white\",\"showbackground\":true,\"ticks\":\"\",\"zerolinecolor\":\"white\",\"gridwidth\":2},\"zaxis\":{\"backgroundcolor\":\"#E5ECF6\",\"gridcolor\":\"white\",\"linecolor\":\"white\",\"showbackground\":true,\"ticks\":\"\",\"zerolinecolor\":\"white\",\"gridwidth\":2}},\"shapedefaults\":{\"line\":{\"color\":\"#2a3f5f\"}},\"annotationdefaults\":{\"arrowcolor\":\"#2a3f5f\",\"arrowhead\":0,\"arrowwidth\":1},\"geo\":{\"bgcolor\":\"white\",\"landcolor\":\"#E5ECF6\",\"subunitcolor\":\"white\",\"showland\":true,\"showlakes\":true,\"lakecolor\":\"white\"},\"title\":{\"x\":0.05},\"mapbox\":{\"style\":\"light\"}}},\"legend\":{\"tracegroupgap\":0},\"margin\":{\"t\":60}},                        {\"responsive\": true}                    ).then(function(){\n",
              "                            \n",
              "var gd = document.getElementById('e12b3104-8c49-4493-957c-c43fb9508bac');\n",
              "var x = new MutationObserver(function (mutations, observer) {{\n",
              "        var display = window.getComputedStyle(gd).display;\n",
              "        if (!display || display === 'none') {{\n",
              "            console.log([gd, 'removed!']);\n",
              "            Plotly.purge(gd);\n",
              "            observer.disconnect();\n",
              "        }}\n",
              "}});\n",
              "\n",
              "// Listen for the removal of the full notebook cells\n",
              "var notebookContainer = gd.closest('#notebook-container');\n",
              "if (notebookContainer) {{\n",
              "    x.observe(notebookContainer, {childList: true});\n",
              "}}\n",
              "\n",
              "// Listen for the clearing of the current output cell\n",
              "var outputEl = gd.closest('.output');\n",
              "if (outputEl) {{\n",
              "    x.observe(outputEl, {childList: true});\n",
              "}}\n",
              "\n",
              "                        })                };                            </script>        </div>\n",
              "</body>\n",
              "</html>"
            ]
          },
          "metadata": {}
        }
      ]
    }
  ]
}