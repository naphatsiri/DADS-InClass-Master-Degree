{
  "nbformat": 4,
  "nbformat_minor": 0,
  "metadata": {
    "colab": {
      "provenance": [],
      "include_colab_link": true
    },
    "kernelspec": {
      "name": "python3",
      "display_name": "Python 3"
    },
    "language_info": {
      "name": "python"
    }
  },
  "cells": [
    {
      "cell_type": "markdown",
      "metadata": {
        "id": "view-in-github",
        "colab_type": "text"
      },
      "source": [
        "<a href=\"https://colab.research.google.com/github/naphatsiri/DADS-InClass-Master-Degree/blob/main/dads6003_week11_Pytorch_NIDA.ipynb\" target=\"_parent\"><img src=\"https://colab.research.google.com/assets/colab-badge.svg\" alt=\"Open In Colab\"/></a>"
      ]
    },
    {
      "cell_type": "markdown",
      "source": [
        "# https://bit.ly/3CbrI8K"
      ],
      "metadata": {
        "id": "WKL1W8Y9pgXH"
      }
    },
    {
      "cell_type": "markdown",
      "source": [
        "# Google Colab & Google Drive"
      ],
      "metadata": {
        "id": "YJe7_GxBIq5k"
      }
    },
    {
      "cell_type": "code",
      "execution_count": null,
      "metadata": {
        "id": "9KfGD-bx7X09"
      },
      "outputs": [],
      "source": [
        "!nvidia-smi"
      ]
    },
    {
      "cell_type": "code",
      "source": [
        "import torch\n",
        "\n",
        "device = torch.device('cuda:0' if torch.cuda.is_available() else 'cpu')\n",
        "print(device)"
      ],
      "metadata": {
        "id": "gwBvEIwlItzj"
      },
      "execution_count": null,
      "outputs": []
    },
    {
      "cell_type": "code",
      "source": [
        "from google.colab import drive\n",
        "drive.mount('/content/drive/')"
      ],
      "metadata": {
        "id": "j-dwh9X0ItwH"
      },
      "execution_count": null,
      "outputs": []
    },
    {
      "cell_type": "markdown",
      "source": [
        "# Basic CNN for MNIST dataset"
      ],
      "metadata": {
        "id": "bBlwtRmUIzVz"
      }
    },
    {
      "cell_type": "code",
      "source": [
        "import torch\n",
        "import torchvision"
      ],
      "metadata": {
        "id": "tKxw9xM5Its9"
      },
      "execution_count": null,
      "outputs": []
    },
    {
      "cell_type": "code",
      "source": [
        "batch_size_train = 64\n",
        "batch_size_test = 1000\n",
        "\n",
        "train_dataset = torchvision.datasets.MNIST(\n",
        "    '/files/', train=True, download=True,\n",
        "    transform=torchvision.transforms.Compose([\n",
        "        # torchvision.transforms.RandomHorizontalFlip(),\n",
        "        torchvision.transforms.ToTensor(),\n",
        "        torchvision.transforms.Normalize(\n",
        "            (0.1307,), (0.3081,))\n",
        "    ]))\n",
        "train_loader = torch.utils.data.DataLoader(\n",
        "  train_dataset,\n",
        "  batch_size=batch_size_train, shuffle=True)\n",
        "\n",
        "test_dataset = torchvision.datasets.MNIST(\n",
        "    '/files/', train=False, download=True,\n",
        "    transform=torchvision.transforms.Compose([\n",
        "        torchvision.transforms.ToTensor(),\n",
        "        torchvision.transforms.Normalize(\n",
        "            (0.1307,), (0.3081,))\n",
        "    ]))\n",
        "test_loader = torch.utils.data.DataLoader(\n",
        "  test_dataset,\n",
        "  batch_size=batch_size_test, shuffle=False)"
      ],
      "metadata": {
        "id": "a_O_vnlQItqk"
      },
      "execution_count": null,
      "outputs": []
    },
    {
      "cell_type": "code",
      "source": [
        "(example_data, example_targets) = test_dataset[3]"
      ],
      "metadata": {
        "id": "3klZZD8wMp9u"
      },
      "execution_count": null,
      "outputs": []
    },
    {
      "cell_type": "code",
      "source": [
        "example_data.shape, example_targets"
      ],
      "metadata": {
        "id": "acnjxWK5NBUy"
      },
      "execution_count": null,
      "outputs": []
    },
    {
      "cell_type": "code",
      "source": [
        "import matplotlib.pyplot as plt\n",
        "\n",
        "plt.imshow(example_data[0], cmap='gray')\n",
        "plt.title(\"Ground Truth: {}\".format(example_targets))\n",
        "plt.show()"
      ],
      "metadata": {
        "id": "pHEtWs95Itnv"
      },
      "execution_count": null,
      "outputs": []
    },
    {
      "cell_type": "code",
      "source": [
        "import matplotlib.pyplot as plt\n",
        "\n",
        "examples = enumerate(train_loader)\n",
        "batch_idx, (example_data, example_targets) = next(examples)\n",
        "\n",
        "\n",
        "fig = plt.figure()\n",
        "for i in range(6):\n",
        "  plt.subplot(2,3,i+1)\n",
        "  plt.tight_layout()\n",
        "  plt.imshow(example_data[i][0], cmap='gray', interpolation='none')\n",
        "  plt.title(\"Ground Truth: {}\".format(example_targets[i]))\n",
        "  plt.xticks([])\n",
        "  plt.yticks([])\n",
        "fig"
      ],
      "metadata": {
        "id": "cxxhF2sjItlW"
      },
      "execution_count": null,
      "outputs": []
    },
    {
      "cell_type": "markdown",
      "source": [
        "## Building Neural Network"
      ],
      "metadata": {
        "id": "shZiKSj-I-z3"
      }
    },
    {
      "cell_type": "code",
      "source": [
        "import torch.nn as nn\n",
        "import torch.nn.functional as F\n",
        "import torch.optim as optim"
      ],
      "metadata": {
        "id": "z6EJx3p7Iti4"
      },
      "execution_count": null,
      "outputs": []
    },
    {
      "cell_type": "code",
      "source": [
        "class CNN(nn.Module):\n",
        "    def __init__(self):\n",
        "        super(CNN, self).__init__()\n",
        "        self.conv1 = nn.Conv2d(1, 8, kernel_size=3, padding=1)  # input 1 channel, 8 filters = output 8 channels, output same size as input\n",
        "        self.conv2 = nn.Conv2d(8, 10, kernel_size=3, padding=1)\n",
        "        self.conv2_drop = nn.Dropout2d()\n",
        "        self.fc1 = nn.Linear(490, 50)\n",
        "        self.fc2 = nn.Linear(50, 10)\n",
        "\n",
        "    def forward(self, x):\n",
        "        # (batch_size, 1, 28,28) -> conv1 -> (batch_size, 8, 28,28) -> max_pool2d -> (batch_size, 8, 14, 14)\n",
        "        x = F.relu(F.max_pool2d(self.conv1(x), 2))\n",
        "\n",
        "        # (batch_size, 8, 14,14) -> conv2 -> (batch_size, 10, 14,14) -> dropout -> (batch_size, 10, 14,14) -> max_pool2d -> (batch_size, 10, 7,7)\n",
        "        x = F.relu(F.max_pool2d(self.conv2_drop(self.conv2(x)), 2))\n",
        "\n",
        "        # \"flatten\" >> arrange all values on the feature maps as a single vector >> 490 values\n",
        "        x = x.view(-1, x.size(dim=1)*x.size(dim=2)*x.size(dim=3))\n",
        "\n",
        "        x = F.relu(self.fc1(x))\n",
        "        x = self.fc2(x)\n",
        "        return F.log_softmax(x, dim=1)\n"
      ],
      "metadata": {
        "id": "Gr-U_LzrItgM"
      },
      "execution_count": null,
      "outputs": []
    },
    {
      "cell_type": "code",
      "source": [
        "model = CNN()\n",
        "\n",
        "x = torch.rand((1,1,28,28))\n",
        "model(x).argmax()"
      ],
      "metadata": {
        "id": "UXKHO32rItdl"
      },
      "execution_count": null,
      "outputs": []
    },
    {
      "cell_type": "code",
      "source": [
        "import tqdm\n",
        "\n",
        "def train_epoch(model, optimizer, data_loader, device):\n",
        "\n",
        "  model.train()\n",
        "  model.to(device)\n",
        "  train_loss = 0\n",
        "  for batch_idx, (data, target) in enumerate(pbar := tqdm.tqdm_notebook(data_loader)):\n",
        "    data, target = data.to(device), target.to(device)\n",
        "\n",
        "    optimizer.zero_grad()\n",
        "\n",
        "    output = model(data)              # predict output for current data\n",
        "    loss = F.nll_loss(output, target) # compute loss\n",
        "    loss.backward()                   # backprop to get gradient\n",
        "\n",
        "    optimizer.step()                  # update the model\n",
        "\n",
        "    train_loss += loss\n",
        "\n",
        "    if (batch_idx+1) % 100 == 0:\n",
        "      pbar.set_description('Train Epoch: [{}/{} ({:.0f}%)]\\tLoss: {:.6f}'.format(\n",
        "        batch_idx * len(data), len(data_loader.dataset),\n",
        "        100. * batch_idx / len(data_loader), loss.item()))\n",
        "\n",
        "  return train_loss"
      ],
      "metadata": {
        "id": "tZPo04EvItYY"
      },
      "execution_count": null,
      "outputs": []
    },
    {
      "cell_type": "markdown",
      "source": [
        "![image.png](data:image/png;base64,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)"
      ],
      "metadata": {
        "id": "6zchdxQhRMxd"
      }
    },
    {
      "cell_type": "code",
      "source": [
        "def test(model, data_loader, device):\n",
        "  model.eval()\n",
        "  model.to(device)\n",
        "  test_loss = 0\n",
        "  correct = 0\n",
        "  with torch.no_grad(): # no need for gradient >>not allocate additional variables\n",
        "    for data, target in data_loader:\n",
        "      data, target = data.to(device), target.to(device)\n",
        "      output = model(data)\n",
        "      test_loss += F.nll_loss(output, target, size_average=False).item()\n",
        "      pred = output.data.max(1, keepdim=True)[1]\n",
        "      correct += pred.eq(target.data.view_as(pred)).sum()\n",
        "  test_loss /= len(data_loader.dataset)\n",
        "  test_acc = 100. * correct / len(data_loader.dataset)\n",
        "  return test_acc, test_loss"
      ],
      "metadata": {
        "id": "dosTyaOBItVw"
      },
      "execution_count": null,
      "outputs": []
    },
    {
      "cell_type": "code",
      "source": [
        "from tqdm import trange\n",
        "\n",
        "network = CNN()\n",
        "\n",
        "# training config\n",
        "n_epochs = 3\n",
        "learning_rate = 0.01\n",
        "\n",
        "optimizer = optim.Adam(network.parameters(), lr=learning_rate)\n",
        "\n",
        "best_acc = 0\n",
        "for epoch in (pbar := trange(1, n_epochs + 1)):\n",
        "  train_epoch(network, optimizer, train_loader, device)\n",
        "  test_acc, test_loss = test(network, test_loader, device)\n",
        "  if test_acc > best_acc:\n",
        "    pbar.set_description('Test accracy improves from {:.2f} to {:.2f}'.format(best_acc, test_acc))\n",
        "    best_acc = test_acc\n",
        "\n",
        "    torch.save(network.state_dict(), 'model.pth')\n",
        "    torch.save(optimizer.state_dict(), 'optimizer.pth')"
      ],
      "metadata": {
        "id": "4QIDxabIItTH"
      },
      "execution_count": null,
      "outputs": []
    },
    {
      "cell_type": "markdown",
      "source": [
        "## Train with custom Dataset"
      ],
      "metadata": {
        "id": "dLioB-omLZX2"
      }
    },
    {
      "cell_type": "code",
      "source": [
        "import torch\n",
        "import torch.nn as nn\n",
        "from torch.utils.data import Dataset, DataLoader"
      ],
      "metadata": {
        "id": "-NHoUze4Lb38"
      },
      "execution_count": null,
      "outputs": []
    },
    {
      "cell_type": "code",
      "source": [
        "class MyDataset(Dataset):\n",
        "\n",
        "    def __init__(self):\n",
        "        self.dataset = train_dataset\n",
        "\n",
        "    def __len__(self):\n",
        "        return len(self.dataset)\n",
        "\n",
        "    def __getitem__(self, idx):\n",
        "\n",
        "        bitmap, cls = self.dataset[idx]\n",
        "\n",
        "        return {\n",
        "            \"pixels\": torch.tensor(bitmap),\n",
        "            \"label\": cls\n",
        "        }"
      ],
      "metadata": {
        "id": "NkFt8lp7Lbz4"
      },
      "execution_count": null,
      "outputs": []
    },
    {
      "cell_type": "code",
      "source": [
        "train_dataset = MyDataset()\n",
        "train_loader = torch.utils.data.DataLoader(\n",
        "  train_dataset,\n",
        "  batch_size=batch_size_train, shuffle=True)"
      ],
      "metadata": {
        "id": "-FJXRZY0NWp-"
      },
      "execution_count": null,
      "outputs": []
    },
    {
      "cell_type": "code",
      "source": [
        "import tqdm\n",
        "\n",
        "model = CNN()\n",
        "#model.to(device)\n",
        "\n",
        "optimizer = optim.Adam(model.parameters(), lr=0.001)\n",
        "\n",
        "\n",
        "train_loss = 0\n",
        "for batch_idx, data in enumerate(pbar := tqdm.tqdm_notebook(train_loader)):\n",
        "  data, target = data[\"pixels\"], data[\"label\"]\n",
        "\n",
        "  optimizer.zero_grad()\n",
        "\n",
        "  output = model(data)              # predict output for current data\n",
        "  loss = F.nll_loss(output, target) # compute loss\n",
        "  loss.backward()                   # backprop to get gradient\n",
        "\n",
        "  optimizer.step()                  # update the model\n",
        "\n",
        "  train_loss += loss\n",
        "\n",
        "  if (batch_idx+1) % 100 == 0:\n",
        "    pbar.set_description('Train Epoch: [{}/{} ({:.0f}%)]\\tLoss: {:.6f}'.format(\n",
        "      batch_idx * len(data), len(train_loader.dataset),\n",
        "      100. * batch_idx / len(train_loader), loss.item()))\n"
      ],
      "metadata": {
        "id": "BBZVZRPJLbxS"
      },
      "execution_count": null,
      "outputs": []
    },
    {
      "cell_type": "markdown",
      "source": [
        "## Use pre-trained vision model"
      ],
      "metadata": {
        "id": "DQfq69AdJXQ4"
      }
    },
    {
      "cell_type": "code",
      "source": [
        "!pip install timm"
      ],
      "metadata": {
        "id": "SekGdIAJItQl",
        "collapsed": true
      },
      "execution_count": null,
      "outputs": []
    },
    {
      "cell_type": "code",
      "source": [
        "from timm.models import create_model"
      ],
      "metadata": {
        "id": "k0Z1YHoyItN8"
      },
      "execution_count": null,
      "outputs": []
    },
    {
      "cell_type": "code",
      "source": [
        "import timm\n",
        "\n",
        "for i,n in enumerate(timm.list_models('*')):\n",
        "  print(i, n)"
      ],
      "metadata": {
        "collapsed": true,
        "id": "NSXCirbFJdTI"
      },
      "execution_count": null,
      "outputs": []
    },
    {
      "cell_type": "code",
      "source": [
        "for i,n in enumerate(timm.list_models('*', pretrained=True)):\n",
        "  print(i,n)"
      ],
      "metadata": {
        "id": "dOxRnLsVItLD"
      },
      "execution_count": null,
      "outputs": []
    },
    {
      "cell_type": "code",
      "source": [
        "model = timm.create_model('resnet50d', pretrained=True)"
      ],
      "metadata": {
        "id": "vv3dj3WzItIa"
      },
      "execution_count": null,
      "outputs": []
    },
    {
      "cell_type": "code",
      "source": [
        "model"
      ],
      "metadata": {
        "id": "MipPVwO0ItFW"
      },
      "execution_count": null,
      "outputs": []
    },
    {
      "cell_type": "code",
      "source": [
        "# it's possible to adapt existing model for different input channels\n",
        "# useful when we want to retrain the model on grayscale images\n",
        "model = timm.create_model('resnet50d', pretrained=True, in_chans=1)\n",
        "\n",
        "x = torch.rand((1,1,224,224)) # batch, channels, height, width\n",
        "\n",
        "model(x).size()"
      ],
      "metadata": {
        "id": "pZqSpnDNJi_L"
      },
      "execution_count": null,
      "outputs": []
    },
    {
      "cell_type": "code",
      "source": [
        "import timm\n",
        "\n",
        "model = timm.create_model('resnet50d', pretrained=True)\n",
        "model"
      ],
      "metadata": {
        "collapsed": true,
        "id": "uxDlqjSQJi7v"
      },
      "execution_count": null,
      "outputs": []
    },
    {
      "cell_type": "code",
      "source": [
        "from timm.data import resolve_data_config\n",
        "from timm.data.transforms_factory import create_transform\n",
        "\n",
        "transform = create_transform(**resolve_data_config(model.pretrained_cfg, model=model))\n",
        "transform"
      ],
      "metadata": {
        "id": "Xt6oNYhrJi4r"
      },
      "execution_count": null,
      "outputs": []
    },
    {
      "cell_type": "code",
      "source": [
        "import matplotlib.pyplot as plt\n",
        "from PIL import Image\n",
        "import requests\n",
        "\n",
        "url = \"https://farm1.staticflickr.com/15/18770229_42b4101aa0_z.jpg\"\n",
        "image = Image.open(requests.get(url, stream=True).raw).convert(\"RGB\")\n",
        "plt.imshow(image)"
      ],
      "metadata": {
        "id": "7brn-K1BJi2S"
      },
      "execution_count": null,
      "outputs": []
    },
    {
      "cell_type": "code",
      "source": [
        "input_tensor = transform(image)"
      ],
      "metadata": {
        "id": "GnxGEiGhJizc"
      },
      "execution_count": null,
      "outputs": []
    },
    {
      "cell_type": "code",
      "source": [
        "import torchvision.transforms as T\n",
        "\n",
        "tr = T.ToPILImage()\n",
        "\n",
        "plt.imshow(tr(input_tensor))"
      ],
      "metadata": {
        "id": "YaX96UenJiw-"
      },
      "execution_count": null,
      "outputs": []
    },
    {
      "cell_type": "code",
      "source": [
        "tr = T.Compose([\n",
        "    T.Resize(size=256),\n",
        "    T.CenterCrop(size=(224, 224)),\n",
        "])\n",
        "\n",
        "img = tr(image)\n",
        "\n",
        "plt.imshow(img)"
      ],
      "metadata": {
        "id": "GWPF62gCJiuP"
      },
      "execution_count": null,
      "outputs": []
    },
    {
      "cell_type": "code",
      "source": [
        "out = model(input_tensor.unsqueeze(0))\n",
        "out.topk(10, dim=1)"
      ],
      "metadata": {
        "id": "dTevfJ-SJirn"
      },
      "execution_count": null,
      "outputs": []
    },
    {
      "cell_type": "code",
      "source": [
        "# adapt pretrained model to custom data\n",
        "import timm\n",
        "\n",
        "custom_model = timm.create_model('resnet50d', pretrained=True, num_classes=14)\n",
        "custom_model"
      ],
      "metadata": {
        "id": "-c2XVOAFJior"
      },
      "execution_count": null,
      "outputs": []
    },
    {
      "cell_type": "markdown",
      "source": [
        "## Explainability: GradCAM"
      ],
      "metadata": {
        "id": "QGxYWN5EKA02"
      }
    },
    {
      "cell_type": "code",
      "source": [
        "!pip install grad-cam"
      ],
      "metadata": {
        "collapsed": true,
        "id": "gcPlbwCZJily"
      },
      "execution_count": null,
      "outputs": []
    },
    {
      "cell_type": "code",
      "source": [
        "from pytorch_grad_cam import GradCAM, HiResCAM, ScoreCAM, GradCAMPlusPlus, AblationCAM, XGradCAM, EigenCAM, FullGrad\n",
        "from pytorch_grad_cam.utils.model_targets import ClassifierOutputTarget\n",
        "from pytorch_grad_cam.utils.image import show_cam_on_image\n"
      ],
      "metadata": {
        "id": "9CJbJC7HM4Jg"
      },
      "execution_count": null,
      "outputs": []
    },
    {
      "cell_type": "code",
      "source": [
        "cam = GradCAM(model=model, target_layers=[model.layer4[-1]])\n",
        "\n",
        "grayscale_cam = cam(input_tensor=input_tensor.unsqueeze(0), targets=[ClassifierOutputTarget(180)])\n",
        "\n",
        "grayscale_cam = grayscale_cam[0, :]\n",
        "visualization = show_cam_on_image(np.asarray(img)/255, grayscale_cam, use_rgb=True)\n",
        "visualization"
      ],
      "metadata": {
        "id": "KT-JwC_9MeWL"
      },
      "execution_count": null,
      "outputs": []
    },
    {
      "cell_type": "code",
      "source": [
        "import timm\n",
        "\n",
        "model = timm.create_model('deit_tiny_patch16_224', pretrained=True)\n",
        "transform = create_transform(**resolve_data_config(model.pretrained_cfg, model=model))\n",
        "transform"
      ],
      "metadata": {
        "id": "lJcNAFYSNS3U"
      },
      "execution_count": null,
      "outputs": []
    },
    {
      "cell_type": "code",
      "source": [
        "tr = T.Compose([\n",
        "    T.Resize(size=248),\n",
        "    T.CenterCrop(size=(224, 224)),\n",
        "])\n",
        "\n",
        "img = tr(image)\n",
        "\n",
        "plt.imshow(img)"
      ],
      "metadata": {
        "id": "fSmFJlVqNo0n"
      },
      "execution_count": null,
      "outputs": []
    },
    {
      "cell_type": "code",
      "source": [
        "model"
      ],
      "metadata": {
        "collapsed": true,
        "id": "fdoMc0kbNu4B"
      },
      "execution_count": null,
      "outputs": []
    },
    {
      "cell_type": "code",
      "source": [
        "def reshape_transform(tensor, height=14, width=14):\n",
        "    result = tensor[:, 1 :  , :].reshape(tensor.size(0),\n",
        "        height, width, tensor.size(2))\n",
        "\n",
        "    # Bring the channels to the first dimension,\n",
        "    # like in CNNs.\n",
        "    result = result.transpose(2, 3).transpose(1, 2)\n",
        "    return result"
      ],
      "metadata": {
        "id": "mrtKAM-jM83Y"
      },
      "execution_count": null,
      "outputs": []
    },
    {
      "cell_type": "code",
      "source": [
        "cam = GradCAM(model=model, target_layers=[model.blocks[-1].norm1], reshape_transform=reshape_transform)\n",
        "\n",
        "grayscale_cam = cam(input_tensor=input_tensor.unsqueeze(0), targets=[ClassifierOutputTarget(180)])\n",
        "\n",
        "grayscale_cam = grayscale_cam[0, :]\n",
        "visualization = show_cam_on_image(np.asarray(img)/255, grayscale_cam, use_rgb=True)\n",
        "visualization"
      ],
      "metadata": {
        "id": "jsp4ABP1MeSt"
      },
      "execution_count": null,
      "outputs": []
    },
    {
      "cell_type": "markdown",
      "source": [
        "# NLP"
      ],
      "metadata": {
        "id": "1JaF-vXOPU_k"
      }
    },
    {
      "cell_type": "markdown",
      "source": [
        "## Pipeline"
      ],
      "metadata": {
        "id": "MRd84JVnPyNV"
      }
    },
    {
      "cell_type": "code",
      "source": [
        "from transformers import pipeline"
      ],
      "metadata": {
        "id": "2Im1EJwAPx0y"
      },
      "execution_count": null,
      "outputs": []
    },
    {
      "cell_type": "code",
      "source": [
        "classifier = pipeline(\"text-classification\", device=\"cuda\") # default model for sentiment analyis\n",
        "\n",
        "text = \"\"\"Dear Amazon, last week I ordered an Optimus Prime action figure \\\n",
        "from your online store in Germany. Unfortunately, when I opened the package, \\\n",
        "I discovered to my horror that I had been sent an action figure of Megatron \\\n",
        "instead! As a lifelong enemy of the Decepticons, I hope you can understand my \\\n",
        "dilemma. To resolve the issue, I demand an exchange of Megatron for the \\\n",
        "Optimus Prime figure I ordered. Enclosed are copies of my records concerning \\\n",
        "this purchase. I expect to hear from you soon. Sincerely, Bumblebee.\"\"\"\n",
        "\n",
        "import pandas as pd\n",
        "\n",
        "output = classifier(text)\n",
        "pd.DataFrame(output)"
      ],
      "metadata": {
        "id": "RbYDd2veP8pR"
      },
      "execution_count": null,
      "outputs": []
    },
    {
      "cell_type": "code",
      "source": [
        "ner_tagger = pipeline(\"ner\", aggregation_strategy=\"simple\", device=\"cuda\")\n",
        "outputs = ner_tagger(text)\n",
        "pd.DataFrame(outputs)"
      ],
      "metadata": {
        "id": "sCnMKu58P8mG"
      },
      "execution_count": null,
      "outputs": []
    },
    {
      "cell_type": "code",
      "source": [
        "reader = pipeline(\"question-answering\", device=\"cuda\")\n",
        "question = \"What does the customer want?\"\n",
        "outputs = reader(question=question, context=text)\n",
        "pd.DataFrame([outputs])"
      ],
      "metadata": {
        "id": "9biYGE5GP8iu"
      },
      "execution_count": null,
      "outputs": []
    },
    {
      "cell_type": "code",
      "source": [
        "summarizer = pipeline(\"summarization\", device=\"cuda\")\n",
        "outputs = summarizer(text, max_length=60, clean_up_tokenization_spaces=True)\n",
        "print(outputs[0][\"summary_text\"])"
      ],
      "metadata": {
        "id": "zPCGdy1dQA6_"
      },
      "execution_count": null,
      "outputs": []
    },
    {
      "cell_type": "code",
      "source": [
        "generator = pipeline(\"text-generation\")\n",
        "response = \"Dear Bumblebee, I am sorry to hear that your order was mixed up.\"\n",
        "\n",
        "prompt = text + \"\\n\\nCustomer service response:\\n\" + response\n",
        "\n",
        "outputs = generator(prompt, max_length=200)\n",
        "print(outputs[0][\"generated_text\"])"
      ],
      "metadata": {
        "id": "gIjmfO4wQA2s"
      },
      "execution_count": null,
      "outputs": []
    },
    {
      "cell_type": "code",
      "source": [
        "# A100\n",
        "translator = pipeline(\"translation\", model=\"google/madlad400-3b-mt\", device=\"cuda\")"
      ],
      "metadata": {
        "id": "GDnXII81QA0Q"
      },
      "execution_count": null,
      "outputs": []
    },
    {
      "cell_type": "code",
      "source": [
        "outputs = translator(\"<2th> \" + text, max_length=400)\n",
        "print(outputs[0]['translation_text'])"
      ],
      "metadata": {
        "id": "ujcWR0qhP8fq"
      },
      "execution_count": null,
      "outputs": []
    },
    {
      "cell_type": "code",
      "source": [
        "vqa_model = pipeline(\"visual-question-answering\")\n",
        "image_url = \"https://huggingface.co/datasets/Narsil/image_dummy/raw/main/lena.png\"\n",
        "vqa_model(question=\"What is she wearing ?\", image=image_url)"
      ],
      "metadata": {
        "id": "HLTrsHAhQGTO"
      },
      "execution_count": null,
      "outputs": []
    },
    {
      "cell_type": "code",
      "source": [
        "captioner = pipeline(\"image-to-text\", device=\"cuda\")\n",
        "captioner(\"https://huggingface.co/datasets/Narsil/image_dummy/raw/main/lena.png\")"
      ],
      "metadata": {
        "id": "qDAjxHe-QGQL"
      },
      "execution_count": null,
      "outputs": []
    },
    {
      "cell_type": "code",
      "source": [
        "caption = captioner(\"https://huggingface.co/datasets/Narsil/image_dummy/raw/main/lena.png\")\n",
        "\n",
        "outputs = translator(\"<2th> \" + caption[0][\"generated_text\"], max_length=400)\n",
        "print(outputs[0]['translation_text'])"
      ],
      "metadata": {
        "id": "_Fg9MBARQK0X"
      },
      "execution_count": null,
      "outputs": []
    },
    {
      "cell_type": "markdown",
      "source": [
        "### Hugging Face components\n",
        "- Models\n",
        "- Tokenizers\n",
        "- Datasets\n",
        "- Metrics\n"
      ],
      "metadata": {
        "id": "OzRtZbqyQN3W"
      }
    },
    {
      "cell_type": "code",
      "source": [],
      "metadata": {
        "id": "-74OufLwQKw8"
      },
      "execution_count": null,
      "outputs": []
    },
    {
      "cell_type": "markdown",
      "source": [
        "## Wongnai Reviews"
      ],
      "metadata": {
        "id": "Che5qtMKQOMO"
      }
    },
    {
      "cell_type": "code",
      "source": [
        "!pip -q install datasets"
      ],
      "metadata": {
        "collapsed": true,
        "id": "BiRoUA4bO-cN"
      },
      "execution_count": null,
      "outputs": []
    },
    {
      "cell_type": "code",
      "source": [
        "!pip install -q emoji pythainlp sefr_cut tinydb seqeval sentencepiece pydantic jsonlines\n",
        "!pip install --no-deps thai2transformers==0.1.2"
      ],
      "metadata": {
        "collapsed": true,
        "id": "8jnGIz2yQQVI"
      },
      "execution_count": null,
      "outputs": []
    },
    {
      "cell_type": "code",
      "source": [
        "from datasets import load_dataset\n",
        "dataset = load_dataset('wongnai_reviews')\n",
        "dataset"
      ],
      "metadata": {
        "id": "L3fNvkhaQjGL"
      },
      "execution_count": null,
      "outputs": []
    },
    {
      "cell_type": "code",
      "source": [
        "dataset[\"train\"][0]"
      ],
      "metadata": {
        "id": "I29LZRQTQT0Y"
      },
      "execution_count": null,
      "outputs": []
    },
    {
      "cell_type": "code",
      "source": [
        "from transformers import AutoTokenizer, BertForSequenceClassification\n",
        "\n",
        "tokenizer = AutoTokenizer.from_pretrained(\"airesearch/wangchanberta-base-att-spm-uncased\")\n",
        "model = BertForSequenceClassification.from_pretrained(\"airesearch/wangchanberta-base-att-spm-uncased\")"
      ],
      "metadata": {
        "collapsed": true,
        "id": "hhpxY7vQQWtd"
      },
      "execution_count": null,
      "outputs": []
    },
    {
      "cell_type": "code",
      "source": [
        "#pipeline\n",
        "from transformers import pipeline\n",
        "\n",
        "classify_multiclass = pipeline(task='text-classification', tokenizer=tokenizer, model=model, device=\"cuda\")"
      ],
      "metadata": {
        "id": "RZprnQwvQWkk"
      },
      "execution_count": null,
      "outputs": []
    },
    {
      "cell_type": "code",
      "source": [
        "# WangchanBERTa official Colab uses this stuff\n",
        "from thai2transformers.preprocess import process_transformers\n",
        "input_text = process_transformers(dataset[\"train\"][3]['review_body'])\n",
        "input_text"
      ],
      "metadata": {
        "id": "9AANHzimQZUP"
      },
      "execution_count": null,
      "outputs": []
    },
    {
      "cell_type": "code",
      "source": [
        "# We need this to handle long text\n",
        "tokenizer_kwargs = {'padding':True,'truncation':True,'max_length':416}\n",
        "\n",
        "#infer\n",
        "outputs = classify_multiclass(input_text, **tokenizer_kwargs)\n",
        "\n",
        "import pandas as pd\n",
        "pd.DataFrame(outputs)"
      ],
      "metadata": {
        "id": "DHsJ20bsQZQk"
      },
      "execution_count": null,
      "outputs": []
    },
    {
      "cell_type": "code",
      "source": [
        "model = BertForSequenceClassification.from_pretrained(\n",
        "    \"airesearch/wangchanberta-base-att-spm-uncased\",\n",
        "    num_labels=5,\n",
        "    problem_type=\"single_label_classification\" # \"multi_label_classification\"\n",
        ")"
      ],
      "metadata": {
        "id": "1ApLVIzjQyd_"
      },
      "execution_count": null,
      "outputs": []
    },
    {
      "cell_type": "code",
      "source": [
        "model"
      ],
      "metadata": {
        "collapsed": true,
        "id": "PKR69q-cQzvU"
      },
      "execution_count": null,
      "outputs": []
    },
    {
      "cell_type": "code",
      "source": [
        "import torch\n",
        "import torch.nn as nn\n",
        "from torch.utils.data import Dataset, DataLoader"
      ],
      "metadata": {
        "id": "YlEoQ4QNSIbK"
      },
      "execution_count": null,
      "outputs": []
    },
    {
      "cell_type": "code",
      "source": [
        "from datasets import load_dataset\n",
        "class MyDataset(Dataset):\n",
        "\n",
        "    def __init__(self):\n",
        "        self.dataset = dataset[\"train\"]\n",
        "        self.tokenizer = tokenizer\n",
        "\n",
        "    def __len__(self):\n",
        "        return len(self.dataset)\n",
        "\n",
        "    def __getitem__(self, idx):\n",
        "\n",
        "        item = self.dataset[idx]\n",
        "        text = item[\"review_body\"]\n",
        "        tok  = self.tokenizer(text, max_length=128, padding=\"max_length\", truncation=True, return_tensors=\"pt\")\n",
        "\n",
        "        return {\n",
        "            \"tok\": tok[\"input_ids\"][0],\n",
        "            \"label\": item[\"star_rating\"]\n",
        "        }"
      ],
      "metadata": {
        "id": "eMdngL6gSOhN"
      },
      "execution_count": null,
      "outputs": []
    },
    {
      "cell_type": "code",
      "source": [
        "train_dataset = MyDataset()\n",
        "train_dataloader = DataLoader(train_dataset, batch_size=64, shuffle=True)"
      ],
      "metadata": {
        "id": "BTxLezDOSu9b"
      },
      "execution_count": null,
      "outputs": []
    },
    {
      "cell_type": "code",
      "source": [
        "# Optimizers specified in the torch.optim package\n",
        "optimizer = torch.optim.SGD(model.parameters(), lr=0.001, momentum=0.9)\n",
        "\n",
        "from tqdm import tqdm\n",
        "\n",
        "for epoch in range(1):\n",
        "\n",
        "  model.train(True)\n",
        "  for t,batch in enumerate(train_dataloader):\n",
        "      optimizer.zero_grad()\n",
        "\n",
        "      out = model(\n",
        "          input_ids = batch[\"tok\"],\n",
        "          labels = batch[\"label\"])\n",
        "\n",
        "      out.loss.backward()\n",
        "\n",
        "      optimizer.step()\n",
        "      if (t+1)%100==0:\n",
        "        print(\".\", end=\"\", flush=True)\n",
        "\n",
        "      if t>=20:\n",
        "        break"
      ],
      "metadata": {
        "id": "maIoxUcOS0ly"
      },
      "execution_count": null,
      "outputs": []
    },
    {
      "cell_type": "markdown",
      "source": [
        "__Hugging Face__ has its own _Trainer_ class which offers several advantages over basic training used above."
      ],
      "metadata": {
        "id": "He2CZmh-QijY"
      }
    },
    {
      "cell_type": "code",
      "source": [],
      "metadata": {
        "id": "_c5Px7VhTQSl"
      },
      "execution_count": null,
      "outputs": []
    }
  ]
}